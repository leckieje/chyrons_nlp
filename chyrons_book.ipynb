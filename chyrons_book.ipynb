{
 "cells": [
  {
   "cell_type": "code",
   "execution_count": 1,
   "metadata": {},
   "outputs": [
    {
     "name": "stderr",
     "output_type": "stream",
     "text": [
      "[nltk_data] Downloading package words to /home/ubuntu/nltk_data...\n",
      "[nltk_data]   Package words is already up-to-date!\n"
     ]
    }
   ],
   "source": [
    "import pandas as pd \n",
    "import numpy as np\n",
    "import matplotlib.pyplot as plt\n",
    "import random\n",
    "import string\n",
    "import re\n",
    "\n",
    "import nltk \n",
    "from nltk.corpus import stopwords, words\n",
    "from sklearn.feature_extraction.text import CountVectorizer, TfidfVectorizer\n",
    "\n",
    "from sklearn.naive_bayes import MultinomialNB\n",
    "from sklearn.model_selection import train_test_split, KFold\n",
    "from sklearn.ensemble import RandomForestClassifier\n",
    "# from sklearn.metrics import plot_confusion_matrix, roc_curve\n",
    "from sklearn.decomposition import NMF\n",
    "from sklearn.metrics import roc_curve\n",
    "from sklearn.metrics import plot_confusion_matrix\n",
    "\n",
    "nltk.download('words')\n",
    "nltk.data.path.append(\"/home/nltk_data\")"
   ]
  },
  {
   "cell_type": "code",
   "execution_count": null,
   "metadata": {},
   "outputs": [],
   "source": [
    "#### chyron archive web address: https://archive.org/services/third-eye.php\n",
    "\n",
    "import datetime\n",
    "\n",
    "# pull chyrons from web as dataframes\n",
    "def get_dfs(start_y=2017, start_m=9, start_d=7, end_today=True, end_y=None, end_m=None, end_d=None):\n",
    "    \n",
    "    first = datetime.date(start_y, start_m, start_d)\n",
    "    delta = datetime.timedelta(weeks=1)\n",
    "    last = first + delta\n",
    "    dfs = []\n",
    "    iters = 0\n",
    "    \n",
    "    if end_today:\n",
    "        stop = datetime.date.today()\n",
    "    else:\n",
    "        stop = datetime.date(end_y, end_m, end_d)\n",
    "    \n",
    "    while first < stop:\n",
    "        if iters > 210:\n",
    "            break\n",
    "        else:\n",
    "            print(iters)\n",
    "            first_str = first.strftime('%m/%d/%y')\n",
    "            last_str = last.strftime('%m/%d/%y')\n",
    "            url = f'https://archive.org/services/third-eye.php?dayL={first_str}&dayR={last_str}'\n",
    "            df = pd.read_csv(url, delimiter='\\t')\n",
    "            dfs.append(df)\n",
    "\n",
    "            first = last + datetime.timedelta(days=1)\n",
    "            last = first + delta\n",
    "            \n",
    "            if last > stop:\n",
    "                last = stop\n",
    "                \n",
    "            iters += 1\n",
    "        \n",
    "    return dfs\n",
    "\n",
    "# cleans dfs\n",
    "def clean_dfs(df, csv=True, concat=False, csv_name='chyron_next'):\n",
    "    \n",
    "    # stack dfs from list\n",
    "    if concat:\n",
    "        df = pd.concat(df, ignore_index=True)\n",
    "        \n",
    "    # drop duplicates\n",
    "    df.drop_duplicates(subset=['text'], keep='first', inplace=True, ignore_index=True)\n",
    "    \n",
    "    # count words in chyron \n",
    "    df['num_words'] = df['text'].apply(lambda x: len(x.split()) if isinstance(x, str) else 'NaN')\n",
    "    \n",
    "    # save to local csv          \n",
    "    if csv:\n",
    "        df.to_csv(f'/Users/jonleckie/Desktop/DSI_all/capstones/capstone_two/chyrons/{csv_name}.csv')    \n",
    "    \n",
    "    return df\n",
    "\n",
    "# wrapper for above functions --> NOT TESTED\n",
    "def get_chyrons(start_y=2017, start_m=9, start_d=7, end_today=True, end_y=None, end_m=None, end_d=None):\n",
    "    df = get_dfs(start_y, start_m, start_d, end_today, end_y, end_m, end_d)\n",
    "    df = clean_dfs(df, csv=True, concat=False, csv_name='chyron2')\n",
    "    return df"
   ]
  },
  {
   "cell_type": "code",
   "execution_count": 95,
   "metadata": {},
   "outputs": [
    {
     "name": "stdout",
     "output_type": "stream",
     "text": [
      "<class 'pandas.core.frame.DataFrame'>\n",
      "RangeIndex: 2652398 entries, 0 to 2652397\n",
      "Data columns (total 6 columns):\n",
      " #   Column                        Non-Null Count    Dtype  \n",
      "---  ------                        --------------    -----  \n",
      " 0   date_time_(UTC)               2652398 non-null  object \n",
      " 1   channel                       2652397 non-null  object \n",
      " 2   duration                      2652397 non-null  float64\n",
      " 3   https://archive.org/details/  2647435 non-null  object \n",
      " 4   text                          2652397 non-null  object \n",
      " 5   num_words                     205492 non-null   float64\n",
      "dtypes: float64(2), object(4)\n",
      "memory usage: 121.4+ MB\n"
     ]
    }
   ],
   "source": [
    "chyrons.info(show_counts=True)"
   ]
  },
  {
   "cell_type": "markdown",
   "metadata": {},
   "source": [
    "### Distributions of word counts:"
   ]
  },
  {
   "cell_type": "markdown",
   "metadata": {},
   "source": [
    "* All networks"
   ]
  },
  {
   "cell_type": "code",
   "execution_count": 53,
   "metadata": {
    "scrolled": true
   },
   "outputs": [
    {
     "data": {
      "text/plain": [
       "(array([9.24212e+05, 9.55745e+05, 7.21145e+05, 5.18620e+04, 1.21500e+03,\n",
       "        1.29000e+02, 1.70000e+01, 1.00000e+01, 7.00000e+00, 4.00000e+00]),\n",
       " array([1.0, 13.4, 25.8, 38.2, 50.6, 63.0, 75.4, 87.8, 100.2,\n",
       "        112.60000000000001, 125.0], dtype=object),\n",
       " <BarContainer object of 10 artists>)"
      ]
     },
     "execution_count": 53,
     "metadata": {},
     "output_type": "execute_result"
    },
    {
     "data": {
      "image/png": "[encoded data removed]",
      "text/plain": [
       "<Figure size 432x288 with 1 Axes>"
      ]
     },
     "metadata": {
      "needs_background": "light"
     },
     "output_type": "display_data"
    }
   ],
   "source": [
    "plt.hist(chryon_all['num_words'])"
   ]
  },
  {
   "cell_type": "code",
   "execution_count": 54,
   "metadata": {},
   "outputs": [
    {
     "data": {
      "text/plain": [
       "(array([475551.,      0.,      0., 775759.,      0.,      0., 685712.,\n",
       "             0.,      0., 717324.]),\n",
       " array([0. , 0.3, 0.6, 0.9, 1.2, 1.5, 1.8, 2.1, 2.4, 2.7, 3. ]),\n",
       " <BarContainer object of 10 artists>)"
      ]
     },
     "execution_count": 54,
     "metadata": {},
     "output_type": "execute_result"
    },
    {
     "data": {
      "image/png": "[encoded data removed]",
      "text/plain": [
       "<Figure size 432x288 with 1 Axes>"
      ]
     },
     "metadata": {
      "needs_background": "light"
     },
     "output_type": "display_data"
    }
   ],
   "source": [
    "# distribution of entries per network\n",
    "\n",
    "plt.hist(chryon_all['channel']);"
   ]
  },
  {
   "cell_type": "code",
   "execution_count": 57,
   "metadata": {},
   "outputs": [
    {
     "data": {
      "text/plain": [
       "array(['BBCNEWS', 'CNNW', 'FOXNEWSW', 'MSNBCW'], dtype=object)"
      ]
     },
     "execution_count": 57,
     "metadata": {},
     "output_type": "execute_result"
    }
   ],
   "source": [
    "chryon_all.channel.unique()"
   ]
  },
  {
   "cell_type": "code",
   "execution_count": 59,
   "metadata": {},
   "outputs": [
    {
     "data": {
      "image/png": "[encoded data removed]",
      "text/plain": [
       "<Figure size 432x288 with 1 Axes>"
      ]
     },
     "metadata": {
      "needs_background": "light"
     },
     "output_type": "display_data"
    }
   ],
   "source": [
    "# distribution of word counts\n",
    "fig, ax = plt.subplots()\n",
    "\n",
    "fox = chryon_all[chryon_all['channel'] == 'FOXNEWSW']\n",
    "bbc = chryon_all[chryon_all['channel'] == 'BBCNEWS']\n",
    "cnn = chryon_all[chryon_all['channel'] == 'CNNW']\n",
    "msnbc = chryon_all[chryon_all['channel'] == 'MSNBCW']\n",
    "\n",
    "ax.hist(fox['num_words'], label='Fox News', alpha=0.3)\n",
    "ax.hist(bbc['num_words'], label='BBC', alpha=0.3)\n",
    "ax.hist(cnn['num_words'], label='CNN', alpha=0.3)\n",
    "ax.hist(msnbc['num_words'], label='MSNBC', alpha=0.3)\n",
    "ax.set_ylabel('Frequency')\n",
    "ax.set_xlabel('Word Count')\n",
    "ax.set_title('Distribution of Word Count by Network')\n",
    "fig.legend();"
   ]
  },
  {
   "cell_type": "code",
   "execution_count": 73,
   "metadata": {},
   "outputs": [
    {
     "data": {
      "image/png": "[encoded data removed]",
      "text/plain": [
       "<Figure size 432x288 with 1 Axes>"
      ]
     },
     "metadata": {
      "needs_background": "light"
     },
     "output_type": "display_data"
    }
   ],
   "source": [
    "# distribution of word counts under 60\n",
    "fig, ax = plt.subplots()\n",
    "\n",
    "fox = chryon_all[(chryon_all['channel'] == 'FOXNEWSW') & (chryon_all['num_words'] < 60)]\n",
    "bbc = chryon_all[(chryon_all['channel'] == 'BBCNEWS') & (chryon_all['num_words'] < 60)]\n",
    "cnn = chryon_all[(chryon_all['channel'] == 'CNNW') & (chryon_all['num_words'] < 60)]\n",
    "msnbc = chryon_all[(chryon_all['channel'] == 'MSNBCW') & (chryon_all['num_words'] < 60)]\n",
    "\n",
    "ax.hist(fox['num_words'], label='Fox News', alpha=0.3)\n",
    "ax.hist(bbc['num_words'], label='BBC', alpha=0.3)\n",
    "ax.hist(cnn['num_words'], label='CNN', alpha=0.3)\n",
    "ax.hist(msnbc['num_words'], label='MSNBC', alpha=0.3)\n",
    "ax.set_ylabel('Frequency')\n",
    "ax.set_xlabel('Word Count')\n",
    "ax.set_title('Distribution of Word Count < 60 by Network')\n",
    "fig.legend();"
   ]
  },
  {
   "cell_type": "code",
   "execution_count": 62,
   "metadata": {},
   "outputs": [
    {
     "data": {
      "image/png": "[encoded data removed]",
      "text/plain": [
       "<Figure size 432x288 with 1 Axes>"
      ]
     },
     "metadata": {
      "needs_background": "light"
     },
     "output_type": "display_data"
    }
   ],
   "source": [
    "# distribution of word counts under 60\n",
    "fig, ax = plt.subplots()\n",
    "\n",
    "fox = chryon_all[(chryon_all['channel'] == 'FOXNEWSW') & (chryon_all['num_words'] > 60)]\n",
    "bbc = chryon_all[(chryon_all['channel'] == 'BBCNEWS') & (chryon_all['num_words'] > 60)]\n",
    "cnn = chryon_all[(chryon_all['channel'] == 'CNNW') & (chryon_all['num_words'] > 60)]\n",
    "msnbc = chryon_all[(chryon_all['channel'] == 'MSNBCW') & (chryon_all['num_words'] > 60)]\n",
    "\n",
    "ax.hist(fox['num_words'], label='Fox News', alpha=0.3)\n",
    "ax.hist(bbc['num_words'], label='BBC', alpha=0.3)\n",
    "ax.hist(cnn['num_words'], label='CNN', alpha=0.3)\n",
    "ax.hist(msnbc['num_words'], label='MSNBC', alpha=0.3)\n",
    "ax.set_ylabel('Frequency')\n",
    "ax.set_xlabel('Word Count')\n",
    "ax.set_title('Distribution of Word Count > 60 by Network')\n",
    "fig.legend();"
   ]
  },
  {
   "cell_type": "code",
   "execution_count": 2,
   "metadata": {},
   "outputs": [],
   "source": [
    "# sklearn pipeline \n",
    "\n",
    "# english dictionary \n",
    "# eng_dict = words.words()\n",
    "\n",
    "# get a random sample of chyrons\n",
    "def get_random_sample(df, num_samples):\n",
    "    idx_lst = [num for num in range(len(df))]\n",
    "    idx_samps = random.sample(idx_lst, num_samples)\n",
    "    df_samp = df.iloc[idx_samps]\n",
    "    return df_samp\n",
    "\n",
    "# get stop words\n",
    "custom_stops = ['msnbc', 'nbc', 'nbc news', 'mssnbc news', 'fox', 'fox news', \n",
    "                'says', 'er', 'tn', 'ui', 'thf', 'thf', 'nm', 'ni', 'new', 'nl'\n",
    "                'li', 'iu', 'ai', 'ul', 'wsntunnelztowersdrg', 'yingst', 'wnr'\n",
    "                'irl', 'wopi', 'across', 'xeljanz']\n",
    "\n",
    "def get_stop_words(words, custom_stops=custom_stops):\n",
    "    sw = stopwords.words('english')\n",
    "    stops = words[0]\n",
    "    \n",
    "    for lst in words[1:]:\n",
    "        stops += lst\n",
    "\n",
    "    stops = stops + custom_stops\n",
    "    \n",
    "    return sw + stops\n",
    "\n",
    "## ------------------------------------------------------ ##\n",
    "\n",
    "# sklearn count vectorizer\n",
    "def get_countvec(corpus, stop_words='english', min_df=.01, n_grams=(1,1)):\n",
    "    vectorizer = CountVectorizer(stop_words=stop_words, min_df=min_df, ngram_range=n_grams)\n",
    "    X = vectorizer.fit_transform(corpus)\n",
    "    feature_names = vectorizer.get_feature_names()\n",
    "    \n",
    "    return feature_names, X.toarray()\n",
    "\n",
    "# sklearn tfidf vectorizer\n",
    "def get_tfidf(corpus, max_features=None, min_df=.01, stop_words='english', n_grams=(1,1)):\n",
    "    vectorizer = TfidfVectorizer(max_features=None, min_df=min_df, max_df=1.0, stop_words='english', ngram_range=n_grams)\n",
    "    X = vectorizer.fit_transform(corpus)\n",
    "    feature_names = vectorizer.get_feature_names()\n",
    "    \n",
    "    return feature_names, X.toarray()\n",
    "\n",
    "# vectorizer to dataframe\n",
    "def get_dataframe(X, feature_names):\n",
    "    df = pd.DataFrame(data = X, columns = feature_names)\n",
    "    return df\n",
    "\n",
    "## ------------------------------------------------------ ##\n",
    "\n",
    "# odd \"word\" functions\n",
    "def get_numeric_words(feature_names):\n",
    "    stops = set()\n",
    "    nums = [str(num) for num in range(10)]\n",
    "    \n",
    "    for word in feature_names:\n",
    "        for char in word:\n",
    "            if char in nums:\n",
    "                stops.add(word)\n",
    "                break\n",
    "                \n",
    "    return list(stops)\n",
    "\n",
    "def get_non_alpha_start(feature_names):\n",
    "    non_alpha = []\n",
    "    alpha = list(string.ascii_lowercase)\n",
    "    for name in feature_names:\n",
    "        if name[0] not in alpha:\n",
    "            non_alpha.append(name)\n",
    "            \n",
    "    return non_alpha\n",
    "\n",
    "def get_underscores(feature_names):\n",
    "    unders = []\n",
    "    for name in feature_names:\n",
    "        if '_' in name:\n",
    "            unders.append(name)\n",
    "            \n",
    "    return unders\n",
    "\n",
    "def get_multis(feature_names):\n",
    "    multi = []\n",
    "    for name in feature_names:\n",
    "        if len(name) == 2:\n",
    "            if name[0] == name[1]:\n",
    "                multi.append(name)\n",
    "        else:\n",
    "            search = re.search(r\"([A-Za-z])\\1\\1\", name)\n",
    "            if search != None:\n",
    "                multi.append(name)\n",
    "                \n",
    "    return multi\n",
    "\n",
    "# wrap for above \n",
    "def get_special_stops(feature_names):\n",
    "    numeric = get_numeric_words(feature_names)\n",
    "    non_alpha = get_non_alpha_start(feature_names)\n",
    "    unders = get_underscores(feature_names)\n",
    "    multi_lett = get_multis(feature_names)\n",
    "    \n",
    "    return [numeric, non_alpha, unders, multi_lett]\n",
    "\n",
    "\n",
    "## ------------------------------------------------------ ##\n",
    "\n",
    "# PIPELINE:\n",
    "\n",
    "def load_samps(num_samples):\n",
    "    chyrons = pd.read_csv('/Users/jonleckie/Desktop/DSI_all/capstones/capstone_two/chyrons/chyron_all.csv') # read all data\n",
    "    chyrons.drop(472372, inplace=True) # drop single NaN value\n",
    "    chy_samp = get_random_sample(chyrons, num_samples) # random sample for working locally \n",
    "    \n",
    "    return chy_samp\n",
    "    \n",
    "def clean_counts(chy_samp, min_df=.001, n_grams=(1,1)):\n",
    "    count_features, chyron_counts = get_countvec(chy_samp['text'], stop_words='english', min_df=min_df, n_grams=n_grams) # get primary feature names\n",
    "    stops = get_special_stops(count_features) # get additional stop words\n",
    "    stop_words_plus = get_stop_words(stops) # add to nltk stop words\n",
    "    count_features, chyron_counts = get_countvec(chy_samp['text'], stop_words=stop_words_plus, min_df=min_df, n_grams=n_grams) # get new vector matrix\n",
    "\n",
    "    return count_features, chyron_counts\n",
    "\n",
    "def clean_tfidf(chy_samp, min_df=.001, n_grams=(1,1)):\n",
    "    tfidf_features, chyron_tfidf = get_tfidf(chy_samp['text'], max_features=None, min_df=min_df, stop_words='english', n_grams=n_grams) # get primary feature names\n",
    "    stops = get_special_stops(tfidf_features) # get additional stop words\n",
    "    stop_words_plus = get_stop_words(stops) # add to nltk stop words\n",
    "    tfidf_features, chyron_tfidf = get_tfidf(chy_samp['text'], max_features=None, min_df=min_df, stop_words=stop_words_plus, n_grams=n_grams) # get new vector matrix\n",
    "\n",
    "    return tfidf_features, chyron_tfidf\n",
    "\n",
    "\n",
    "# limit data from summer 2020, MSNBC and Fox\n",
    "def load_summer(start_date='2020-05-25', end_date='2020-11-03'):\n",
    "    chyrons = pd.read_csv('chyron_all.csv')\n",
    "    chyrons.drop(472372, inplace=True)\n",
    "    chyrons = chyrons.replace(r'\\\\n',' ',regex=True)\n",
    "    chyrons = chyrons.replace(r'\\\\u',' ',regex=True)\n",
    "    chy_summer = chyrons.loc[(chyrons['date_time_(UTC)'] >= start_date) & (chyrons['date_time_(UTC)'] <= end_date)]\n",
    "    \n",
    "    return chy_summer\n",
    "\n",
    "def get_network_pair(df, net_one='FOXNEWSW', net_two='MSNBCW'):\n",
    "    chy_nets = df.loc[(df['channel'] == net_one) | (df['channel'] == net_two)]\n",
    "    \n",
    "    return chy_nets\n",
    "\n",
    "## ------------------------------------------------------ ##\n",
    "\n",
    "# for word frequency charting\n",
    "def get_word_freq(df):\n",
    "    series = df.sum()\n",
    "    series = series.apply(lambda x: x/len(series))\n",
    "    return series\n",
    "\n",
    "def get_freq_df(fox, msnbc):\n",
    "#     words = [word for words in fox.index] + [word for word in msnbc.index]\n",
    "    shared_words = []\n",
    "    freq = []\n",
    "    diff = []\n",
    "    \n",
    "    for word in fox.index:\n",
    "        if word in msnbc.index:\n",
    "            shared_words.append(word)\n",
    "            freq.append((fox[word], msnbc[word]))  \n",
    "            diff.append(np.abs(fox[word] - msnbc[word]))\n",
    "            \n",
    "    freq_df = pd.DataFrame({'word': shared_words, 'fox_freq':[freq[0] for freq in freq],\n",
    "                           'msnbc_freq': [freq[1] for freq in freq], 'difference': diff})\n",
    "            \n",
    "    return freq_df\n",
    "\n",
    "def freq_df(fox_df, msnbc_df):\n",
    "    fox_freq = get_word_freq(fox_df)\n",
    "    msnbc_freq = get_word_freq(msnbc_df)\n",
    "    df = get_freq_df(fox_freq, msnbc_freq)\n",
    "    df.sort_values(by='difference', ascending=False, axis=0, inplace=True)\n",
    "    \n",
    "    return df\n",
    "\n",
    "# chart consecutive word frequencies\n",
    "def chart_freq_diff(df):\n",
    "    fig, ax = plt.subplots()\n",
    "    labels = df['word']\n",
    "    fox = df['fox_freq']\n",
    "    msnbc = df['msnbc_freq']\n",
    "    \n",
    "    x = np.arange(len(labels))\n",
    "    width = 0.35\n",
    "    fox_bar = ax.bar(x - width/2, fox, width, label='Fox News')\n",
    "    msnbc_bar = ax.bar(x + width/2, msnbc, width, label='MSNBC')\n",
    "    \n",
    "    ax.set_ylabel('Frequency')\n",
    "    ax.set_title('Word Use Frequency')\n",
    "    ax.set_xticks(x)\n",
    "    ax.set_xticklabels(labels)\n",
    "    ax.legend()\n",
    "\n",
    "    fig.tight_layout();\n",
    "\n",
    "# chart by choice of words\n",
    "def chart_word_diff(df, word_lst):\n",
    "    fig, ax = plt.subplots()\n",
    "    labels = word_lst\n",
    "    df_ = df.set_index('word')\n",
    "    fox = df_.loc[word_lst, 'fox_freq']\n",
    "    msnbc = df_.loc[word_lst, 'msnbc_freq']\n",
    "    \n",
    "    x = np.arange(len(labels))\n",
    "    width = 0.35\n",
    "    fox_bar = ax.bar(x - width/2, fox, width, label='Fox News')\n",
    "    msnbc_bar = ax.bar(x + width/2, msnbc, width, label='MSNBC')\n",
    "    \n",
    "    ax.set_ylabel('Frequency')\n",
    "    ax.set_title('Word Use Frequency')\n",
    "    ax.set_xticks(x)\n",
    "    ax.set_xticklabels(labels)\n",
    "    ax.legend()\n",
    "\n",
    "    fig.tight_layout();"
   ]
  },
  {
   "cell_type": "code",
   "execution_count": 35,
   "metadata": {},
   "outputs": [],
   "source": [
    "# chy_summer = load_summer()"
   ]
  },
  {
   "cell_type": "code",
   "execution_count": 3,
   "metadata": {},
   "outputs": [
    {
     "name": "stderr",
     "output_type": "stream",
     "text": [
      "/home/ubuntu/anaconda3/lib/python3.7/site-packages/sklearn/feature_extraction/text.py:391: UserWarning: Your stop_words may be inconsistent with your preprocessing. Tokenizing the stop words generated tokens ['age', 'angi', 'anon', 'associated', 'biden', 'bravest', 'campaign', 'cases', 'com', 'covid', 'covld', 'death', 'deaths', 'election', 'floyd', 'id', 'ilem', 'ill', 'july', 'li', 'lin', 'mo', 'mssnbc', 'news', 'pandemic', 'prfslnfntiai', 'race', 'relief', 'response', 'trump', 'vaccine'] not in stop_words.\n",
      "  'stop_words.' % sorted(inconsistent))\n",
      "/home/ubuntu/anaconda3/lib/python3.7/site-packages/sklearn/feature_extraction/text.py:391: UserWarning: Your stop_words may be inconsistent with your preprocessing. Tokenizing the stop words generated tokens ['angi', 'anon', 'biden', 'bravest', 'campaign', 'cases', 'com', 'covid', 'covld', 'democracy', 'devi', 'donate', 'election', 'ft', 'hands', 'ia', 'id', 'ill', 'inn', 'li', 'lia', 'lin', 'mo', 'month', 'mssnbc', 'nearly', 'news', 'nnlrl', 'nu', 'omn', 'org', 'president', 'race', 'relief', 'state', 'trump', 'tu', 'urn', 'vaccine'] not in stop_words.\n",
      "  'stop_words.' % sorted(inconsistent))\n",
      "/home/ubuntu/anaconda3/lib/python3.7/site-packages/sklearn/feature_extraction/text.py:391: UserWarning: Your stop_words may be inconsistent with your preprocessing. Tokenizing the stop words generated tokens ['age', 'americans', 'associated', 'biden', 'campaign', 'caramiabra', 'cases', 'com', 'covid', 'covld', 'cuvid', 'death', 'deaths', 'degree', 'diagnosis', 'election', 'floyd', 'ginsburg', 'handling', 'hours', 'ilem', 'iruivii', 'iudnhio', 'july', 'mph', 'mssnbc', 'news', 'paid', 'pandemic', 'president', 'prfslnfntiai', 'relief', 'response', 'surge', 'taylor', 'testing', 'trump', 'vaccine', 'virus', 'years'] not in stop_words.\n",
      "  'stop_words.' % sorted(inconsistent))\n"
     ]
    }
   ],
   "source": [
    "chy_summer = load_summer()\n",
    "\n",
    "chy_nets = get_network_pair(chy_summer, net_one='FOXNEWSW', net_two='MSNBCW')\n",
    "feature_count, count_vec = clean_counts(chy_nets, n_grams=(1,2))\n",
    "\n",
    "fox_features, fox_counts = clean_counts(chy_nets.loc[chy_nets['channel'] == 'FOXNEWSW'], n_grams=(1,2))\n",
    "msnbc_features, msnbc_counts = clean_counts(chy_nets.loc[chy_nets['channel'] == 'MSNBCW'], n_grams=(1,2))\n",
    "fox_df = get_dataframe(fox_counts, fox_features)\n",
    "msnbc_df = get_dataframe(msnbc_counts, msnbc_features)"
   ]
  },
  {
   "cell_type": "code",
   "execution_count": 4,
   "metadata": {},
   "outputs": [],
   "source": [
    "df = freq_df(fox_df, msnbc_df)"
   ]
  },
  {
   "cell_type": "code",
   "execution_count": 5,
   "metadata": {},
   "outputs": [
    {
     "data": {
      "text/html": [
       "<div>\n",
       "<style scoped>\n",
       "    .dataframe tbody tr th:only-of-type {\n",
       "        vertical-align: middle;\n",
       "    }\n",
       "\n",
       "    .dataframe tbody tr th {\n",
       "        vertical-align: top;\n",
       "    }\n",
       "\n",
       "    .dataframe thead th {\n",
       "        text-align: right;\n",
       "    }\n",
       "</style>\n",
       "<table border=\"1\" class=\"dataframe\">\n",
       "  <thead>\n",
       "    <tr style=\"text-align: right;\">\n",
       "      <th></th>\n",
       "      <th>word</th>\n",
       "      <th>fox_freq</th>\n",
       "      <th>msnbc_freq</th>\n",
       "      <th>difference</th>\n",
       "    </tr>\n",
       "  </thead>\n",
       "  <tbody>\n",
       "    <tr>\n",
       "      <th>1279</th>\n",
       "      <td>trump</td>\n",
       "      <td>11.981660</td>\n",
       "      <td>20.695913</td>\n",
       "      <td>8.714253</td>\n",
       "    </tr>\n",
       "    <tr>\n",
       "      <th>1354</th>\n",
       "      <td>virus</td>\n",
       "      <td>0.290058</td>\n",
       "      <td>3.092238</td>\n",
       "      <td>2.802181</td>\n",
       "    </tr>\n",
       "    <tr>\n",
       "      <th>179</th>\n",
       "      <td>cases</td>\n",
       "      <td>0.610039</td>\n",
       "      <td>3.356580</td>\n",
       "      <td>2.746542</td>\n",
       "    </tr>\n",
       "    <tr>\n",
       "      <th>938</th>\n",
       "      <td>president trump</td>\n",
       "      <td>3.138514</td>\n",
       "      <td>0.554181</td>\n",
       "      <td>2.584333</td>\n",
       "    </tr>\n",
       "    <tr>\n",
       "      <th>937</th>\n",
       "      <td>president</td>\n",
       "      <td>4.137548</td>\n",
       "      <td>1.674541</td>\n",
       "      <td>2.463008</td>\n",
       "    </tr>\n",
       "    <tr>\n",
       "      <th>935</th>\n",
       "      <td>pres</td>\n",
       "      <td>0.114865</td>\n",
       "      <td>2.163855</td>\n",
       "      <td>2.048990</td>\n",
       "    </tr>\n",
       "    <tr>\n",
       "      <th>936</th>\n",
       "      <td>pres trump</td>\n",
       "      <td>0.074807</td>\n",
       "      <td>1.923885</td>\n",
       "      <td>1.849078</td>\n",
       "    </tr>\n",
       "    <tr>\n",
       "      <th>267</th>\n",
       "      <td>covid</td>\n",
       "      <td>1.836390</td>\n",
       "      <td>3.529434</td>\n",
       "      <td>1.693044</td>\n",
       "    </tr>\n",
       "    <tr>\n",
       "      <th>450</th>\n",
       "      <td>fmr</td>\n",
       "      <td>0.363417</td>\n",
       "      <td>1.310461</td>\n",
       "      <td>0.947044</td>\n",
       "    </tr>\n",
       "    <tr>\n",
       "      <th>905</th>\n",
       "      <td>police</td>\n",
       "      <td>3.456564</td>\n",
       "      <td>2.543682</td>\n",
       "      <td>0.912882</td>\n",
       "    </tr>\n",
       "    <tr>\n",
       "      <th>827</th>\n",
       "      <td>nyt</td>\n",
       "      <td>0.136583</td>\n",
       "      <td>1.035246</td>\n",
       "      <td>0.898663</td>\n",
       "    </tr>\n",
       "    <tr>\n",
       "      <th>513</th>\n",
       "      <td>harris</td>\n",
       "      <td>0.765927</td>\n",
       "      <td>1.659918</td>\n",
       "      <td>0.893991</td>\n",
       "    </tr>\n",
       "    <tr>\n",
       "      <th>380</th>\n",
       "      <td>election</td>\n",
       "      <td>1.199324</td>\n",
       "      <td>2.088489</td>\n",
       "      <td>0.889165</td>\n",
       "    </tr>\n",
       "    <tr>\n",
       "      <th>252</th>\n",
       "      <td>coronavirus</td>\n",
       "      <td>1.108591</td>\n",
       "      <td>1.976753</td>\n",
       "      <td>0.868162</td>\n",
       "    </tr>\n",
       "    <tr>\n",
       "      <th>1022</th>\n",
       "      <td>rep</td>\n",
       "      <td>0.539093</td>\n",
       "      <td>1.404949</td>\n",
       "      <td>0.865857</td>\n",
       "    </tr>\n",
       "    <tr>\n",
       "      <th>223</th>\n",
       "      <td>com</td>\n",
       "      <td>1.515927</td>\n",
       "      <td>0.664042</td>\n",
       "      <td>0.851885</td>\n",
       "    </tr>\n",
       "    <tr>\n",
       "      <th>1349</th>\n",
       "      <td>violence</td>\n",
       "      <td>1.123552</td>\n",
       "      <td>0.298088</td>\n",
       "      <td>0.825464</td>\n",
       "    </tr>\n",
       "    <tr>\n",
       "      <th>313</th>\n",
       "      <td>deaths</td>\n",
       "      <td>0.133205</td>\n",
       "      <td>0.945257</td>\n",
       "      <td>0.812052</td>\n",
       "    </tr>\n",
       "    <tr>\n",
       "      <th>1170</th>\n",
       "      <td>states</td>\n",
       "      <td>0.605212</td>\n",
       "      <td>1.397450</td>\n",
       "      <td>0.792238</td>\n",
       "    </tr>\n",
       "    <tr>\n",
       "      <th>204</th>\n",
       "      <td>cities</td>\n",
       "      <td>1.213320</td>\n",
       "      <td>0.480690</td>\n",
       "      <td>0.732631</td>\n",
       "    </tr>\n",
       "    <tr>\n",
       "      <th>545</th>\n",
       "      <td>house</td>\n",
       "      <td>1.616795</td>\n",
       "      <td>2.343082</td>\n",
       "      <td>0.726287</td>\n",
       "    </tr>\n",
       "    <tr>\n",
       "      <th>1362</th>\n",
       "      <td>voting</td>\n",
       "      <td>0.323359</td>\n",
       "      <td>1.019498</td>\n",
       "      <td>0.696138</td>\n",
       "    </tr>\n",
       "    <tr>\n",
       "      <th>1393</th>\n",
       "      <td>white</td>\n",
       "      <td>1.152510</td>\n",
       "      <td>1.843645</td>\n",
       "      <td>0.691135</td>\n",
       "    </tr>\n",
       "    <tr>\n",
       "      <th>362</th>\n",
       "      <td>dr</td>\n",
       "      <td>0.796815</td>\n",
       "      <td>1.463817</td>\n",
       "      <td>0.667002</td>\n",
       "    </tr>\n",
       "    <tr>\n",
       "      <th>1105</th>\n",
       "      <td>sen</td>\n",
       "      <td>1.040541</td>\n",
       "      <td>1.702287</td>\n",
       "      <td>0.661747</td>\n",
       "    </tr>\n",
       "    <tr>\n",
       "      <th>1360</th>\n",
       "      <td>voters</td>\n",
       "      <td>0.441120</td>\n",
       "      <td>1.087364</td>\n",
       "      <td>0.646244</td>\n",
       "    </tr>\n",
       "    <tr>\n",
       "      <th>917</th>\n",
       "      <td>poll</td>\n",
       "      <td>0.269788</td>\n",
       "      <td>0.913761</td>\n",
       "      <td>0.643973</td>\n",
       "    </tr>\n",
       "    <tr>\n",
       "      <th>728</th>\n",
       "      <td>media</td>\n",
       "      <td>0.812259</td>\n",
       "      <td>0.178853</td>\n",
       "      <td>0.633406</td>\n",
       "    </tr>\n",
       "    <tr>\n",
       "      <th>442</th>\n",
       "      <td>florida</td>\n",
       "      <td>0.481178</td>\n",
       "      <td>1.083990</td>\n",
       "      <td>0.602812</td>\n",
       "    </tr>\n",
       "    <tr>\n",
       "      <th>666</th>\n",
       "      <td>left</td>\n",
       "      <td>0.664093</td>\n",
       "      <td>0.062992</td>\n",
       "      <td>0.601101</td>\n",
       "    </tr>\n",
       "    <tr>\n",
       "      <th>...</th>\n",
       "      <td>...</td>\n",
       "      <td>...</td>\n",
       "      <td>...</td>\n",
       "      <td>...</td>\n",
       "    </tr>\n",
       "    <tr>\n",
       "      <th>717</th>\n",
       "      <td>mass</td>\n",
       "      <td>0.064672</td>\n",
       "      <td>0.063367</td>\n",
       "      <td>0.001305</td>\n",
       "    </tr>\n",
       "    <tr>\n",
       "      <th>733</th>\n",
       "      <td>meets</td>\n",
       "      <td>0.047780</td>\n",
       "      <td>0.046494</td>\n",
       "      <td>0.001286</td>\n",
       "    </tr>\n",
       "    <tr>\n",
       "      <th>47</th>\n",
       "      <td>angeles</td>\n",
       "      <td>0.121622</td>\n",
       "      <td>0.120360</td>\n",
       "      <td>0.001262</td>\n",
       "    </tr>\n",
       "    <tr>\n",
       "      <th>840</th>\n",
       "      <td>ohio</td>\n",
       "      <td>0.141409</td>\n",
       "      <td>0.140232</td>\n",
       "      <td>0.001177</td>\n",
       "    </tr>\n",
       "    <tr>\n",
       "      <th>1380</th>\n",
       "      <td>washington dc</td>\n",
       "      <td>0.043919</td>\n",
       "      <td>0.042745</td>\n",
       "      <td>0.001174</td>\n",
       "    </tr>\n",
       "    <tr>\n",
       "      <th>804</th>\n",
       "      <td>never</td>\n",
       "      <td>0.130309</td>\n",
       "      <td>0.129359</td>\n",
       "      <td>0.000950</td>\n",
       "    </tr>\n",
       "    <tr>\n",
       "      <th>890</th>\n",
       "      <td>philadelphia</td>\n",
       "      <td>0.076255</td>\n",
       "      <td>0.075366</td>\n",
       "      <td>0.000889</td>\n",
       "    </tr>\n",
       "    <tr>\n",
       "      <th>538</th>\n",
       "      <td>homes</td>\n",
       "      <td>0.051641</td>\n",
       "      <td>0.052493</td>\n",
       "      <td>0.000853</td>\n",
       "    </tr>\n",
       "    <tr>\n",
       "      <th>51</th>\n",
       "      <td>another</td>\n",
       "      <td>0.175193</td>\n",
       "      <td>0.174353</td>\n",
       "      <td>0.000840</td>\n",
       "    </tr>\n",
       "    <tr>\n",
       "      <th>1298</th>\n",
       "      <td>trump takes</td>\n",
       "      <td>0.057432</td>\n",
       "      <td>0.056618</td>\n",
       "      <td>0.000815</td>\n",
       "    </tr>\n",
       "    <tr>\n",
       "      <th>96</th>\n",
       "      <td>barrett confirmation</td>\n",
       "      <td>0.072394</td>\n",
       "      <td>0.073116</td>\n",
       "      <td>0.000722</td>\n",
       "    </tr>\n",
       "    <tr>\n",
       "      <th>755</th>\n",
       "      <td>missing</td>\n",
       "      <td>0.054054</td>\n",
       "      <td>0.054743</td>\n",
       "      <td>0.000689</td>\n",
       "    </tr>\n",
       "    <tr>\n",
       "      <th>489</th>\n",
       "      <td>going</td>\n",
       "      <td>0.205598</td>\n",
       "      <td>0.206224</td>\n",
       "      <td>0.000626</td>\n",
       "    </tr>\n",
       "    <tr>\n",
       "      <th>368</th>\n",
       "      <td>duty</td>\n",
       "      <td>0.049710</td>\n",
       "      <td>0.049119</td>\n",
       "      <td>0.000592</td>\n",
       "    </tr>\n",
       "    <tr>\n",
       "      <th>680</th>\n",
       "      <td>list</td>\n",
       "      <td>0.084942</td>\n",
       "      <td>0.084364</td>\n",
       "      <td>0.000578</td>\n",
       "    </tr>\n",
       "    <tr>\n",
       "      <th>1368</th>\n",
       "      <td>wake</td>\n",
       "      <td>0.074807</td>\n",
       "      <td>0.074241</td>\n",
       "      <td>0.000566</td>\n",
       "    </tr>\n",
       "    <tr>\n",
       "      <th>957</th>\n",
       "      <td>promises</td>\n",
       "      <td>0.059363</td>\n",
       "      <td>0.058868</td>\n",
       "      <td>0.000495</td>\n",
       "    </tr>\n",
       "    <tr>\n",
       "      <th>113</th>\n",
       "      <td>better</td>\n",
       "      <td>0.067568</td>\n",
       "      <td>0.067117</td>\n",
       "      <td>0.000451</td>\n",
       "    </tr>\n",
       "    <tr>\n",
       "      <th>168</th>\n",
       "      <td>campaigning</td>\n",
       "      <td>0.060811</td>\n",
       "      <td>0.060367</td>\n",
       "      <td>0.000443</td>\n",
       "    </tr>\n",
       "    <tr>\n",
       "      <th>1290</th>\n",
       "      <td>trump hold</td>\n",
       "      <td>0.105695</td>\n",
       "      <td>0.106112</td>\n",
       "      <td>0.000417</td>\n",
       "    </tr>\n",
       "    <tr>\n",
       "      <th>235</th>\n",
       "      <td>condition</td>\n",
       "      <td>0.058880</td>\n",
       "      <td>0.058493</td>\n",
       "      <td>0.000388</td>\n",
       "    </tr>\n",
       "    <tr>\n",
       "      <th>1018</th>\n",
       "      <td>reopen schools</td>\n",
       "      <td>0.082529</td>\n",
       "      <td>0.082865</td>\n",
       "      <td>0.000336</td>\n",
       "    </tr>\n",
       "    <tr>\n",
       "      <th>387</th>\n",
       "      <td>enters</td>\n",
       "      <td>0.050193</td>\n",
       "      <td>0.049869</td>\n",
       "      <td>0.000324</td>\n",
       "    </tr>\n",
       "    <tr>\n",
       "      <th>567</th>\n",
       "      <td>institute</td>\n",
       "      <td>0.064189</td>\n",
       "      <td>0.064492</td>\n",
       "      <td>0.000303</td>\n",
       "    </tr>\n",
       "    <tr>\n",
       "      <th>142</th>\n",
       "      <td>braces</td>\n",
       "      <td>0.066602</td>\n",
       "      <td>0.066367</td>\n",
       "      <td>0.000236</td>\n",
       "    </tr>\n",
       "    <tr>\n",
       "      <th>151</th>\n",
       "      <td>bring</td>\n",
       "      <td>0.079633</td>\n",
       "      <td>0.079865</td>\n",
       "      <td>0.000232</td>\n",
       "    </tr>\n",
       "    <tr>\n",
       "      <th>754</th>\n",
       "      <td>minority</td>\n",
       "      <td>0.062741</td>\n",
       "      <td>0.062617</td>\n",
       "      <td>0.000124</td>\n",
       "    </tr>\n",
       "    <tr>\n",
       "      <th>1167</th>\n",
       "      <td>starts</td>\n",
       "      <td>0.050676</td>\n",
       "      <td>0.050619</td>\n",
       "      <td>0.000057</td>\n",
       "    </tr>\n",
       "    <tr>\n",
       "      <th>170</th>\n",
       "      <td>cancels</td>\n",
       "      <td>0.050676</td>\n",
       "      <td>0.050619</td>\n",
       "      <td>0.000057</td>\n",
       "    </tr>\n",
       "    <tr>\n",
       "      <th>1396</th>\n",
       "      <td>wildfire</td>\n",
       "      <td>0.046815</td>\n",
       "      <td>0.046869</td>\n",
       "      <td>0.000054</td>\n",
       "    </tr>\n",
       "  </tbody>\n",
       "</table>\n",
       "<p>1423 rows × 4 columns</p>\n",
       "</div>"
      ],
      "text/plain": [
       "                      word   fox_freq  msnbc_freq  difference\n",
       "1279                 trump  11.981660   20.695913    8.714253\n",
       "1354                 virus   0.290058    3.092238    2.802181\n",
       "179                  cases   0.610039    3.356580    2.746542\n",
       "938        president trump   3.138514    0.554181    2.584333\n",
       "937              president   4.137548    1.674541    2.463008\n",
       "935                   pres   0.114865    2.163855    2.048990\n",
       "936             pres trump   0.074807    1.923885    1.849078\n",
       "267                  covid   1.836390    3.529434    1.693044\n",
       "450                    fmr   0.363417    1.310461    0.947044\n",
       "905                 police   3.456564    2.543682    0.912882\n",
       "827                    nyt   0.136583    1.035246    0.898663\n",
       "513                 harris   0.765927    1.659918    0.893991\n",
       "380               election   1.199324    2.088489    0.889165\n",
       "252            coronavirus   1.108591    1.976753    0.868162\n",
       "1022                   rep   0.539093    1.404949    0.865857\n",
       "223                    com   1.515927    0.664042    0.851885\n",
       "1349              violence   1.123552    0.298088    0.825464\n",
       "313                 deaths   0.133205    0.945257    0.812052\n",
       "1170                states   0.605212    1.397450    0.792238\n",
       "204                 cities   1.213320    0.480690    0.732631\n",
       "545                  house   1.616795    2.343082    0.726287\n",
       "1362                voting   0.323359    1.019498    0.696138\n",
       "1393                 white   1.152510    1.843645    0.691135\n",
       "362                     dr   0.796815    1.463817    0.667002\n",
       "1105                   sen   1.040541    1.702287    0.661747\n",
       "1360                voters   0.441120    1.087364    0.646244\n",
       "917                   poll   0.269788    0.913761    0.643973\n",
       "728                  media   0.812259    0.178853    0.633406\n",
       "442                florida   0.481178    1.083990    0.602812\n",
       "666                   left   0.664093    0.062992    0.601101\n",
       "...                    ...        ...         ...         ...\n",
       "717                   mass   0.064672    0.063367    0.001305\n",
       "733                  meets   0.047780    0.046494    0.001286\n",
       "47                 angeles   0.121622    0.120360    0.001262\n",
       "840                   ohio   0.141409    0.140232    0.001177\n",
       "1380         washington dc   0.043919    0.042745    0.001174\n",
       "804                  never   0.130309    0.129359    0.000950\n",
       "890           philadelphia   0.076255    0.075366    0.000889\n",
       "538                  homes   0.051641    0.052493    0.000853\n",
       "51                 another   0.175193    0.174353    0.000840\n",
       "1298           trump takes   0.057432    0.056618    0.000815\n",
       "96    barrett confirmation   0.072394    0.073116    0.000722\n",
       "755                missing   0.054054    0.054743    0.000689\n",
       "489                  going   0.205598    0.206224    0.000626\n",
       "368                   duty   0.049710    0.049119    0.000592\n",
       "680                   list   0.084942    0.084364    0.000578\n",
       "1368                  wake   0.074807    0.074241    0.000566\n",
       "957               promises   0.059363    0.058868    0.000495\n",
       "113                 better   0.067568    0.067117    0.000451\n",
       "168            campaigning   0.060811    0.060367    0.000443\n",
       "1290            trump hold   0.105695    0.106112    0.000417\n",
       "235              condition   0.058880    0.058493    0.000388\n",
       "1018        reopen schools   0.082529    0.082865    0.000336\n",
       "387                 enters   0.050193    0.049869    0.000324\n",
       "567              institute   0.064189    0.064492    0.000303\n",
       "142                 braces   0.066602    0.066367    0.000236\n",
       "151                  bring   0.079633    0.079865    0.000232\n",
       "754               minority   0.062741    0.062617    0.000124\n",
       "1167                starts   0.050676    0.050619    0.000057\n",
       "170                cancels   0.050676    0.050619    0.000057\n",
       "1396              wildfire   0.046815    0.046869    0.000054\n",
       "\n",
       "[1423 rows x 4 columns]"
      ]
     },
     "execution_count": 5,
     "metadata": {},
     "output_type": "execute_result"
    }
   ],
   "source": [
    "df"
   ]
  },
  {
   "cell_type": "code",
   "execution_count": null,
   "metadata": {},
   "outputs": [],
   "source": []
  },
  {
   "cell_type": "code",
   "execution_count": null,
   "metadata": {},
   "outputs": [],
   "source": []
  },
  {
   "cell_type": "code",
   "execution_count": 6,
   "metadata": {
    "scrolled": true
   },
   "outputs": [
    {
     "data": {
      "image/png": "[encoded data removed]",
      "text/plain": [
       "<Figure size 432x288 with 1 Axes>"
      ]
     },
     "metadata": {
      "needs_background": "light"
     },
     "output_type": "display_data"
    }
   ],
   "source": [
    "chart_freq_diff(df[1:5])"
   ]
  },
  {
   "cell_type": "code",
   "execution_count": 159,
   "metadata": {},
   "outputs": [
    {
     "data": {
      "image/png": "[encoded data removed]",
      "text/plain": [
       "<Figure size 432x288 with 1 Axes>"
      ]
     },
     "metadata": {
      "needs_background": "light"
     },
     "output_type": "display_data"
    }
   ],
   "source": [
    "chart_freq_diff(df[6:11])"
   ]
  },
  {
   "cell_type": "code",
   "execution_count": 160,
   "metadata": {},
   "outputs": [
    {
     "data": {
      "image/png": "[encoded data removed]",
      "text/plain": [
       "<Figure size 432x288 with 1 Axes>"
      ]
     },
     "metadata": {
      "needs_background": "light"
     },
     "output_type": "display_data"
    }
   ],
   "source": [
    "chart_freq_diff(df[12:17])"
   ]
  },
  {
   "cell_type": "code",
   "execution_count": 161,
   "metadata": {},
   "outputs": [
    {
     "data": {
      "image/png": "[encoded data removed]",
      "text/plain": [
       "<Figure size 432x288 with 1 Axes>"
      ]
     },
     "metadata": {
      "needs_background": "light"
     },
     "output_type": "display_data"
    }
   ],
   "source": [
    "chart_freq_diff(df[18:23])"
   ]
  },
  {
   "cell_type": "code",
   "execution_count": 162,
   "metadata": {},
   "outputs": [
    {
     "data": {
      "image/png": "[encoded data removed]",
      "text/plain": [
       "<Figure size 432x288 with 1 Axes>"
      ]
     },
     "metadata": {
      "needs_background": "light"
     },
     "output_type": "display_data"
    }
   ],
   "source": [
    "chart_freq_diff(df[24:29])"
   ]
  },
  {
   "cell_type": "code",
   "execution_count": 39,
   "metadata": {},
   "outputs": [
    {
     "data": {
      "image/png": "[encoded data removed]",
      "text/plain": [
       "<Figure size 432x288 with 1 Axes>"
      ]
     },
     "metadata": {
      "needs_background": "light"
     },
     "output_type": "display_data"
    }
   ],
   "source": [
    "chart_word_diff(df, ['violence', 'voting', 'media', 'coronavirus'])"
   ]
  },
  {
   "cell_type": "code",
   "execution_count": 7,
   "metadata": {},
   "outputs": [
    {
     "data": {
      "image/png": "[encoded data removed]",
      "text/plain": [
       "<Figure size 432x288 with 1 Axes>"
      ]
     },
     "metadata": {
      "needs_background": "light"
     },
     "output_type": "display_data"
    }
   ],
   "source": [
    "chart_word_diff(df,['virus', 'cases', 'covid', 'nyt', 'harris'])"
   ]
  },
  {
   "cell_type": "code",
   "execution_count": 10,
   "metadata": {},
   "outputs": [
    {
     "data": {
      "image/png": "[encoded data removed]",
      "text/plain": [
       "<Figure size 432x288 with 1 Axes>"
      ]
     },
     "metadata": {
      "needs_background": "light"
     },
     "output_type": "display_data"
    }
   ],
   "source": [
    "chart_word_diff(df,['president trump', 'police', 'violence', 'media', 'left'])"
   ]
  },
  {
   "cell_type": "code",
   "execution_count": 5,
   "metadata": {},
   "outputs": [
    {
     "data": {
      "text/plain": [
       "((182424, 2343), (182424, 2406), (182424, 2415))"
      ]
     },
     "execution_count": 5,
     "metadata": {},
     "output_type": "execute_result"
    }
   ],
   "source": [
    "count_vec.shape, tfidf_vec.shape, tri_vec.shape"
   ]
  },
  {
   "cell_type": "code",
   "execution_count": 21,
   "metadata": {},
   "outputs": [
    {
     "data": {
      "text/plain": [
       "(182424, 2406)"
      ]
     },
     "execution_count": 21,
     "metadata": {},
     "output_type": "execute_result"
    }
   ],
   "source": [
    "tfidf_vec.shape"
   ]
  },
  {
   "cell_type": "code",
   "execution_count": 48,
   "metadata": {},
   "outputs": [
    {
     "data": {
      "text/plain": [
       "MSNBCW      102271\n",
       "FOXNEWSW     80153\n",
       "Name: channel, dtype: int64"
      ]
     },
     "execution_count": 48,
     "metadata": {},
     "output_type": "execute_result"
    }
   ],
   "source": [
    "y.value_counts()"
   ]
  },
  {
   "cell_type": "code",
   "execution_count": 49,
   "metadata": {},
   "outputs": [
    {
     "data": {
      "text/plain": [
       "(0.560622505810639, 0.43937749418936106)"
      ]
     },
     "execution_count": 49,
     "metadata": {},
     "output_type": "execute_result"
    }
   ],
   "source": [
    "102271/182424, 80153/182424"
   ]
  },
  {
   "cell_type": "markdown",
   "metadata": {},
   "source": [
    "### Setting Up X and y, TT_split"
   ]
  },
  {
   "cell_type": "code",
   "execution_count": 54,
   "metadata": {},
   "outputs": [
    {
     "data": {
      "text/html": [
       "<div>\n",
       "<style scoped>\n",
       "    .dataframe tbody tr th:only-of-type {\n",
       "        vertical-align: middle;\n",
       "    }\n",
       "\n",
       "    .dataframe tbody tr th {\n",
       "        vertical-align: top;\n",
       "    }\n",
       "\n",
       "    .dataframe thead th {\n",
       "        text-align: right;\n",
       "    }\n",
       "</style>\n",
       "<table border=\"1\" class=\"dataframe\">\n",
       "  <thead>\n",
       "    <tr style=\"text-align: right;\">\n",
       "      <th></th>\n",
       "      <th>Unnamed: 0</th>\n",
       "      <th>Unnamed: 0.1</th>\n",
       "      <th>date_time_(UTC)</th>\n",
       "      <th>channel</th>\n",
       "      <th>duration</th>\n",
       "      <th>https://archive.org/details/</th>\n",
       "      <th>text</th>\n",
       "      <th>num_words</th>\n",
       "    </tr>\n",
       "  </thead>\n",
       "  <tbody>\n",
       "  </tbody>\n",
       "</table>\n",
       "</div>"
      ],
      "text/plain": [
       "Empty DataFrame\n",
       "Columns: [Unnamed: 0, Unnamed: 0.1, date_time_(UTC), channel, duration, https://archive.org/details/, text, num_words]\n",
       "Index: []"
      ]
     },
     "execution_count": 54,
     "metadata": {},
     "output_type": "execute_result"
    }
   ],
   "source": [
    "chy_summer[chy_summer['text'] == \"FIRED MINNEAPOLIS OFFICER INVOLVED IN FLOYD'S DEATH ARRESTED\"]"
   ]
  },
  {
   "cell_type": "code",
   "execution_count": 110,
   "metadata": {},
   "outputs": [],
   "source": [
    "# X, y for original random sample \n",
    "\n",
    "# doc_freq = .2\n",
    "\n",
    "# chy_samps = load_samps(num_samples=250000)\n",
    "# count_features, chyron_counts = clean_counts(chy_samps, min_df=doc_freq)\n",
    "# tfidf_features, chyron_tfidf = clean_tfidf(chy_samps, min_df=doc_freq)\n",
    "\n",
    "# X_counts = get_dataframe(chyron_counts, count_features)\n",
    "# X_tfidf = get_dataframe(chyron_tfidf, tfidf_features)\n",
    "# y = chy_samps['channel']"
   ]
  },
  {
   "cell_type": "code",
   "execution_count": 6,
   "metadata": {},
   "outputs": [],
   "source": [
    "# X, y for summer tests on Fox and MSNBC\n",
    "X_counts = get_dataframe(count_vec, feature_count)\n",
    "# X_tfidf = get_dataframe(tfidf_vec, feature_tfidf)\n",
    "# X_three = get_dataframe(tri_vec, tri_feature)\n",
    "y = chy_nets['channel']\n",
    "\n",
    "# first split:\n",
    "X_train, X_test, y_train, y_test = train_test_split(X_counts, y, \n",
    "                                                    train_size=0.33, \n",
    "                                                    shuffle=True, stratify=y)\n",
    "\n",
    "# X_train_T, X_test_T, y_train_T, y_test_T = train_test_split(X_tfidf, y, \n",
    "#                                                             train_size=0.33, \n",
    "#                                                             shuffle=True, stratify=y)\n",
    "\n",
    "# X_train_3, X_test_3, y_train_3, y_test_3 = train_test_split(X_three, y, \n",
    "#                                                             train_size=0.33, \n",
    "#                                                             shuffle=True, stratify=y)"
   ]
  },
  {
   "cell_type": "code",
   "execution_count": 7,
   "metadata": {},
   "outputs": [
    {
     "data": {
      "text/plain": [
       "(182424, 182424, 182424)"
      ]
     },
     "execution_count": 7,
     "metadata": {},
     "output_type": "execute_result"
    }
   ],
   "source": [
    "len(X_counts), len(X_tfidf), len(y)"
   ]
  },
  {
   "cell_type": "code",
   "execution_count": 8,
   "metadata": {},
   "outputs": [
    {
     "data": {
      "text/plain": [
       "((182424, 2343), (182424, 2406), (182424, 2415))"
      ]
     },
     "execution_count": 8,
     "metadata": {},
     "output_type": "execute_result"
    }
   ],
   "source": [
    "X_counts.shape, X_tfidf.shape, X_three.shape"
   ]
  },
  {
   "cell_type": "markdown",
   "metadata": {},
   "source": [
    "### models.py"
   ]
  },
  {
   "cell_type": "code",
   "execution_count": 7,
   "metadata": {},
   "outputs": [],
   "source": [
    "# Naive Bayes\n",
    "\n",
    "def eval_naive_bayes(X, y, folds=20, fit_prior=False):\n",
    "    y_net = pd.Series([1 if net == 'MSNBCW' else 0 for net in y]) #MSNBC = postive class\n",
    "    kf = KFold(n_splits=folds, shuffle=True)\n",
    "    accuracy = []\n",
    "    \n",
    "    for train, test in kf.split(X):\n",
    "        model = MultinomialNB(alpha=1, fit_prior=fit_prior)\n",
    "        model.fit(X.iloc[train], y_net.iloc[train])\n",
    "        accuracy.append(model.score(X.iloc[test], y_net.iloc[test]))\n",
    "    \n",
    "    return model, np.mean(accuracy)\n",
    "\n",
    "def test_folds(X, y, fold_lst):\n",
    "    accuracy = []\n",
    "    iters = 0\n",
    "    for folds in fold_lst:\n",
    "        print(iters)\n",
    "        model, score = eval_naive_bayes(X, y, folds=folds)\n",
    "        accuracy.append(score)\n",
    "        \n",
    "        iters += 1\n",
    "        \n",
    "    return accuracy\n",
    "\n",
    "def plot_naive_bayes(X, y, fold_lst):\n",
    "    fig, ax = plt.subplots()\n",
    "    xs = fold_lst\n",
    "    ys = test_folds(X, y, fold_lst)\n",
    "    ax.plot(xs, ys)\n",
    "    ax.set_title('Naive Bayes Accuracy by Num_Folds')\n",
    "    ax.set_ylabel('Accuracy')\n",
    "    ax.set_xlabel('Folds');\n",
    "\n",
    "\n",
    "# ROC Curve\n",
    "def plot_roc(X, y, vec_type='Count'):\n",
    "    y_net = [1 if net == 'MSNBCW' else 0 for net in y]\n",
    "    X_train, X_test, y_train, y_test = train_test_split(X, y_net, train_size=0.33, shuffle=True, stratify=y)\n",
    "    fig, ax = plt.subplots()\n",
    "    \n",
    "    model = MultinomialNB()\n",
    "    model.fit(X_train, y_train)\n",
    "    y_hat = model.predict_proba(X_test)\n",
    "    fpr, tpr, thresh = roc_curve(y_test, y_hat[:, 1])\n",
    "    \n",
    "    ax.plot(fpr, tpr)\n",
    "    ax.plot([0,1], [0,1], ls='--', color='k')\n",
    "    ax.set_title(f'Naive Bayes ROC Curve {vec_type}')\n",
    "    ax.set_xlabel('False Positive Rate')\n",
    "    ax.set_ylabel('True Positive Rate')\n",
    "    \n",
    "    return thresh\n",
    "\n",
    "# Random Forest\n",
    "def eval_random_forest(X, y, folds=10, n_estimators=100, max_depth=5, max_leaf=None, max_features='log2'):\n",
    "    kf = KFold(n_splits=folds, shuffle=True)\n",
    "    accuracy = []\n",
    "    oob = []\n",
    "    iters = 0\n",
    "    \n",
    "    for train, test in kf.split(X):\n",
    "        forest = RandomForestClassifier(n_estimators=n_estimators, \n",
    "                                        max_depth=max_depth, n_jobs=-1, \n",
    "                                        max_leaf_nodes=max_leaf, max_features=max_features, \n",
    "                                        oob_score=True)\n",
    "        forest.fit(X.iloc[train], y.iloc[train])\n",
    "        accuracy.append(forest.score(X.iloc[test], y.iloc[test]))\n",
    "        oob.append(forest.oob_score_)\n",
    "        \n",
    "        print(iters)\n",
    "        iters += 1\n",
    "    \n",
    "    return np.mean(accuracy), np.mean(oob), forest\n",
    "\n",
    "def test_forest_folds(X, y, fold_lst):\n",
    "    accuracy = []\n",
    "    for folds in fold_lst:\n",
    "        accuracy.append(eval_random_forest(X, y, folds=folds))\n",
    "        \n",
    "    return accuracy\n",
    "\n",
    "def test_forest_depth(X, y, depth_lst):\n",
    "    accuracy = []\n",
    "    for depth in depth_lst:\n",
    "        accuracy.append(eval_random_forest(X, y, max_depth=depth))\n",
    "        \n",
    "    return accuracy\n",
    "\n",
    "def test_forest_estimators(X, y, est_lst):\n",
    "    accuracy = []\n",
    "    for est in est_lst:\n",
    "        accuracy.append(eval_random_forest(X, y, n_estimators=est, max_depth=50))\n",
    "        \n",
    "    return accuracy\n",
    "\n",
    "def test_max_leafs(X, y, leaf_lst):\n",
    "    accuracy = []\n",
    "    for leaf in leaf_lst:\n",
    "        accuracy.append(eval_random_forest(X, y, max_leaf=leaf))\n",
    "        \n",
    "    return accuracy\n",
    "\n",
    "def plot_folds_random_forest_folds(X, y, fold_lst):\n",
    "    fig, ax = plt.subplots()\n",
    "    xs = fold_lst\n",
    "    ys = test_forest_folds(X, y, fold_lst)\n",
    "    ax.plot(xs, ys)\n",
    "    ax.set_title('Random Forest Accuracy by Folds')\n",
    "    ax.set_ylabel('Accuracy')\n",
    "    ax.set_xlabel('Folds');\n",
    "    \n",
    "def plot_depth_random_forest(X, y, depth_lst):\n",
    "    fig, ax = plt.subplots()\n",
    "    xs = depth_lst\n",
    "    ys = test_forest_depth(X, y, depth_lst)\n",
    "    ax.plot(xs, ys)\n",
    "    ax.set_title('Random Forest Accuracy by Depth')\n",
    "    ax.set_ylabel('Accuracy')\n",
    "    ax.set_xlabel('Depth');\n",
    "\n",
    "# ROC Curve\n",
    "def plot_roc_forest(X, y, vec_type='(Count)', max_depth=10):\n",
    "    y_net = [1 if net == 'MSNBCW' else 0 for net in y]\n",
    "    X_train, X_test, y_train, y_test = train_test_split(X, y_net, train_size=0.33, shuffle=True, stratify=y)\n",
    "    fig, ax = plt.subplots()\n",
    "    \n",
    "    model = RandomForestClassifier(max_depth=max_depth, max_features='log2', n_jobs=-1)\n",
    "    model.fit(X_train, y_train)\n",
    "    y_hat = model.predict_proba(X_test)\n",
    "    fpr, tpr, thresh = roc_curve(y_test, y_hat[:,1])\n",
    "    \n",
    "    ax.plot(fpr, tpr)\n",
    "    ax.plot([0,1], [0,1], ls='--', color='k')\n",
    "    ax.set_title(f'Random Forest ROC Curve {vec_type}')\n",
    "    ax.set_xlabel('False Positive Rate')\n",
    "    ax.set_ylabel('True Positive Rate')\n",
    "    \n",
    "    return thresh\n",
    "\n",
    "# feature importances\n",
    "# gini\n",
    "def chart_gini_import(model, X, size=15, figsize=(10,4)):\n",
    "    fig, ax = plt.subplots()\n",
    "    feature_scores = pd.Series(model.feature_importances_, index=X.columns)\n",
    "    feature_scores = feature_scores.sort_values()\n",
    "    ax = feature_scores[-size:].plot(kind='barh', figsize=figsize)\n",
    "    ax.set_title('Gini Importance')\n",
    "    ax.set_xlabel('Avg. Contribution to Info Gain');\n",
    "\n",
    "# permutations\n",
    "def chart_permutation_import(model, X, y, size=15, n_repeats=5):\n",
    "    fig, ax = plt.subplots()\n",
    "    perms = permutation_importance(model, X, y, n_repeats=n_repeats)\n",
    "    sorted_idx = perms.importances_mean.argsort()\n",
    "    ax.boxplot(perms.importances[sorted_idx[:size]].T, vert=False, labels=X.columns[sorted_idx])\n",
    "    ax.set_title('Permutation Importance');\n",
    "\n",
    "\n",
    "# other charting functions:\n",
    "# top words\n",
    "def chart_top(word_lst, network, low=0, high=10,):\n",
    "    fig, ax = plt.subplots(figsize=(10,4))\n",
    "    \n",
    "    ax.barh(word_lst.index[low:high], word_lst.values[low:high], align='center')\n",
    "    ax.invert_yaxis()\n",
    "    ax.set_title(f'Top Word Counts: {network}')\n",
    "    ax.set_ylabel('Words')\n",
    "    ax.set_xlabel('Counts');\n",
    "\n",
    "# shared words (network word counts against each other)\n",
    "def chart_shared_word_counts(thresh=20000):\n",
    "    fig, ax = plt.subplots()\n",
    "    nbc_lt = []\n",
    "    fox_lt = []\n",
    "    words = []\n",
    "    \n",
    "    for i, word in enumerate(nbc_word_counts):\n",
    "        if word < thresh:\n",
    "            nbc_lt.append(nbc_word_counts[i])\n",
    "            fox_lt.append(fox_word_counts[i])\n",
    "        \n",
    "    ax.scatter(nbc_lt, fox_lt, alpha=0.3)\n",
    "    ax.set_title('Shared Word Counts by Network')\n",
    "    ax.set_xlabel('MSNBC')\n",
    "    ax.set_ylabel('Fox News');"
   ]
  },
  {
   "cell_type": "markdown",
   "metadata": {},
   "source": [
    "## Naive Bayes Models with N-Grams"
   ]
  },
  {
   "cell_type": "code",
   "execution_count": 298,
   "metadata": {},
   "outputs": [
    {
     "name": "stdout",
     "output_type": "stream",
     "text": [
      "0.7766414308139731\n"
     ]
    }
   ],
   "source": [
    "# with n-grams=(1,2)\n",
    "bayes, accuracy = eval_naive_bayes(X_test, y_test, folds=20)\n",
    "print(accuracy) #--> 10_folds = 0.7762486128041685 -- 20_folds = 0.7766414308139731"
   ]
  },
  {
   "cell_type": "code",
   "execution_count": 296,
   "metadata": {
    "scrolled": true
   },
   "outputs": [
    {
     "data": {
      "image/png": "[encoded data removed]",
      "text/plain": [
       "<Figure size 432x288 with 2 Axes>"
      ]
     },
     "metadata": {
      "needs_background": "light"
     },
     "output_type": "display_data"
    }
   ],
   "source": [
    "# confustion matrix with n-grams=(1,2), folds = 10\n",
    "plot_confusion_matrix(bayes, X_test, y_test)  \n",
    "plt.show()"
   ]
  },
  {
   "cell_type": "code",
   "execution_count": 299,
   "metadata": {},
   "outputs": [
    {
     "data": {
      "image/png": "[encoded data removed]",
      "text/plain": [
       "<Figure size 432x288 with 2 Axes>"
      ]
     },
     "metadata": {
      "needs_background": "light"
     },
     "output_type": "display_data"
    }
   ],
   "source": [
    "# confustion matrix with n-grams=(1,2), folds = 20\n",
    "plot_confusion_matrix(bayes, X_test, y_test)  \n",
    "plt.show()"
   ]
  },
  {
   "cell_type": "code",
   "execution_count": 297,
   "metadata": {},
   "outputs": [
    {
     "data": {
      "text/plain": [
       "array([2.00000000e+00, 1.00000000e+00, 1.00000000e+00, ...,\n",
       "       7.70207573e-21, 6.06538464e-21, 1.59413368e-26])"
      ]
     },
     "execution_count": 297,
     "metadata": {},
     "output_type": "execute_result"
    },
    {
     "data": {
      "image/png": "[encoded data removed]",
      "text/plain": [
       "<Figure size 432x288 with 1 Axes>"
      ]
     },
     "metadata": {
      "needs_background": "light"
     },
     "output_type": "display_data"
    }
   ],
   "source": [
    "# roc curve with n-grams=(1,2), folds = 10\n",
    "plot_roc(X_train, y_train)"
   ]
  },
  {
   "cell_type": "code",
   "execution_count": 10,
   "metadata": {},
   "outputs": [
    {
     "name": "stdout",
     "output_type": "stream",
     "text": [
      "0\n",
      "1\n",
      "2\n"
     ]
    },
    {
     "data": {
      "image/png": "[encoded data removed]",
      "text/plain": [
       "<Figure size 432x288 with 1 Axes>"
      ]
     },
     "metadata": {
      "needs_background": "light"
     },
     "output_type": "display_data"
    }
   ],
   "source": [
    "fold_lst = [10, 25, 40]\n",
    "\n",
    "plot_naive_bayes(X_test, y_test, fold_lst)"
   ]
  },
  {
   "cell_type": "code",
   "execution_count": 11,
   "metadata": {
    "scrolled": true
   },
   "outputs": [
    {
     "name": "stdout",
     "output_type": "stream",
     "text": [
      "0\n",
      "1\n",
      "2\n"
     ]
    },
    {
     "data": {
      "image/png": "[encoded data removed]",
      "text/plain": [
       "<Figure size 432x288 with 1 Axes>"
      ]
     },
     "metadata": {
      "needs_background": "light"
     },
     "output_type": "display_data"
    }
   ],
   "source": [
    "fold_lst = [60, 75, 100]\n",
    "\n",
    "plot_naive_bayes(X_test, y_test, fold_lst)"
   ]
  },
  {
   "cell_type": "code",
   "execution_count": 37,
   "metadata": {
    "scrolled": true
   },
   "outputs": [
    {
     "name": "stdout",
     "output_type": "stream",
     "text": [
      "0.7752015023547788\n"
     ]
    }
   ],
   "source": [
    "# with og stop words\n",
    "bayes, accuracy = eval_naive_bayes(X_test, y_test, folds=20)\n",
    "print(accuracy)"
   ]
  },
  {
   "cell_type": "code",
   "execution_count": 197,
   "metadata": {},
   "outputs": [
    {
     "name": "stdout",
     "output_type": "stream",
     "text": [
      "0.7700469127104073\n"
     ]
    }
   ],
   "source": [
    "# with better stop words\n",
    "bayes, accuracy = eval_naive_bayes(X_test, y_test, folds=20)\n",
    "print(accuracy)"
   ]
  },
  {
   "cell_type": "code",
   "execution_count": 35,
   "metadata": {},
   "outputs": [
    {
     "data": {
      "text/plain": [
       "pandas.core.series.Series"
      ]
     },
     "execution_count": 35,
     "metadata": {},
     "output_type": "execute_result"
    }
   ],
   "source": [
    "type(y_test)"
   ]
  },
  {
   "cell_type": "code",
   "execution_count": 10,
   "metadata": {
    "scrolled": true
   },
   "outputs": [
    {
     "name": "stdout",
     "output_type": "stream",
     "text": [
      "0.7758888290769972\n"
     ]
    }
   ],
   "source": [
    "bayes, accuracy = eval_naive_bayes(X_test_3, y_test_3, folds=20)\n",
    "print(accuracy)"
   ]
  },
  {
   "cell_type": "code",
   "execution_count": 10,
   "metadata": {
    "scrolled": true
   },
   "outputs": [
    {
     "name": "stdout",
     "output_type": "stream",
     "text": [
      "0.7706360384265437\n"
     ]
    }
   ],
   "source": [
    "bayes, accuracy = eval_naive_bayes(X_test, y_test, folds=20)\n",
    "print(accuracy)"
   ]
  },
  {
   "cell_type": "code",
   "execution_count": 8,
   "metadata": {},
   "outputs": [
    {
     "name": "stdout",
     "output_type": "stream",
     "text": [
      "0.7703169858918903\n"
     ]
    }
   ],
   "source": [
    "# for presentation\n",
    "bayes, accuracy = eval_naive_bayes(X_test, y_test, folds=20)\n",
    "print(accuracy)"
   ]
  },
  {
   "cell_type": "code",
   "execution_count": 9,
   "metadata": {},
   "outputs": [
    {
     "data": {
      "text/plain": [
       "array([2.00000000e+00, 1.00000000e+00, 1.00000000e+00, ...,\n",
       "       2.67658201e-26, 2.97857519e-28, 1.67860882e-28])"
      ]
     },
     "execution_count": 9,
     "metadata": {},
     "output_type": "execute_result"
    },
    {
     "data": {
      "image/png": "[encoded data removed]",
      "text/plain": [
       "<Figure size 432x288 with 1 Axes>"
      ]
     },
     "metadata": {
      "needs_background": "light"
     },
     "output_type": "display_data"
    }
   ],
   "source": [
    "# for presentation\n",
    "plot_roc(X_test, y_test)"
   ]
  },
  {
   "cell_type": "code",
   "execution_count": null,
   "metadata": {},
   "outputs": [],
   "source": []
  },
  {
   "cell_type": "code",
   "execution_count": null,
   "metadata": {},
   "outputs": [],
   "source": []
  },
  {
   "cell_type": "code",
   "execution_count": null,
   "metadata": {},
   "outputs": [],
   "source": []
  },
  {
   "cell_type": "code",
   "execution_count": 221,
   "metadata": {},
   "outputs": [],
   "source": [
    "def sort_probs(model, X, y):\n",
    "#     words = X.columns\n",
    "    y_net = [1 if net == 'MSNBCW' else 0 for net in y]\n",
    "    probs = model.predict_proba(X)\n",
    "    df = pd.DataFrame(probs)\n",
    "    df['net'] = y_net\n",
    "    df['index'] = X.index\n",
    "#     df['doc'] = chy_summer['text'].iloc[X.index]\n",
    "#     df['word'] = words\n",
    "    msnbc = df.loc[df['net'] == 1]\n",
    "    fox = df.loc[df['net'] == 0]\n",
    "#     msnbc = msnbc.sort_values(by='1', axis=1, ascending=False)\n",
    "#     fox = fox.sort_values(by='0', axis=1, ascending=False)\n",
    "    return msnbc, fox"
   ]
  },
  {
   "cell_type": "code",
   "execution_count": 40,
   "metadata": {},
   "outputs": [],
   "source": [
    "def sort_probs(model, X, y):\n",
    "    y_net = [1 if net == 'MSNBCW' else 0 for net in y]\n",
    "    probs = model.predict_proba(X)\n",
    "    df = pd.DataFrame(probs)\n",
    "    df['net'] = y_net\n",
    "    df['index'] = X.index\n",
    "    msnbc = df.loc[df['net'] == 1]\n",
    "    fox = df.loc[df['net'] == 0]\n",
    "\n",
    "    return msnbc, fox\n",
    "\n",
    "msnbc, fox = sort_probs(bayes, X_train, y_train)\n",
    "\n",
    "def sort_chyrons(msnbc, fox):\n",
    "    sorted_ms = []\n",
    "    sorted_fox = []\n",
    "    ms_sort = msnbc.sort_values(by=1)\n",
    "    fox_sort = fox.sort_values(by=1)\n",
    "\n",
    "    for i in ms_sort['index']:\n",
    "        sorted_ms.append(chy_summer.iloc[i, 6])\n",
    "\n",
    "    for i in fox_sort['index']:\n",
    "        sorted_fox.append(chy_summer.iloc[i, 6])\n",
    "    \n",
    "    return sorted_fox, sorted_ms"
   ]
  },
  {
   "cell_type": "code",
   "execution_count": 41,
   "metadata": {},
   "outputs": [],
   "source": [
    "msnbc, fox = sort_probs(bayes, X_train, y_train)\n",
    "fox_chys, ms_chys = sort_chyrons(msnbc, fox)"
   ]
  },
  {
   "cell_type": "code",
   "execution_count": 47,
   "metadata": {},
   "outputs": [
    {
     "data": {
      "text/plain": [
       "[\"GOYA CEO SAYS HE WON'T APOLOGIZE AFI'ER HIS. PRAISE OF TRUMP SPARKS CALLS FOR BOYCOTI' Ana Navarro I (Ml Political Commentator\",\n",
       " 'Whm fb02mwm mummm mammlm',\n",
       " 'DR. ANTHONY FAUCI DISCUSSES CORONAVIRUS SURGE WITH CNN FAUCI:  201cWE\\'RE SEEING THE CONSEQUENCES OF COMMUNITY. SPREAD WHICH IS EVEN MORE DIFFICULT TO CONTAIN\\\\\" FAUCI \\\\\"CAUTIOUSLY OPTIMISTIC\\\\\" ON...',\n",
       " 'lIFE IN CHOP: MORE WEAPONS & MORE COMPLAINTS RANTZ: CHOP HAS GROWN TO BE MORE DANGEROUS',\n",
       " 'NUW UI 2019IZN. . mm',\n",
       " \"ASTRONAUTS TO BE TRANSPORTED TO RETURN TO '. LAUNEH PAD IN TESLA MODEL X. . ' 2014_ ASTRONAUTS WALK our OF NEIL. QPERATIONS AND CHECKOUT fb01mgmgNG RESTPMTD '5. . ' 2014 2014\"]"
      ]
     },
     "execution_count": 47,
     "metadata": {},
     "output_type": "execute_result"
    }
   ],
   "source": [
    "fox_chys[11:17]"
   ]
  },
  {
   "cell_type": "code",
   "execution_count": 46,
   "metadata": {},
   "outputs": [
    {
     "data": {
      "text/plain": [
       "['INDOOR DINING POSTPONED',\n",
       " 'I TRUMP SILENT AFIER SENATE PASSES BILL TO PUNISH CHINA I WILSON CENTER. I JAN E HARMAN DIRECTOR, PRESIDENT, AND CEO',\n",
       " \"JUNEI'EENTH CELEBRATIONS CALL FOR RACIAL EQUALITY\",\n",
       " 'TRUMP TO HOLD FIRST CAMPAIGN RALLY AMID PANDEMIC NEXT SATURDAY TRUMP TO HOLD FIRST CAMPAIGN RALLY AMID PANDEMIC NEXT SATURDAY. . David Axelrod Former Senior Adviser to President Obama TRUMP TO HOLD...',\n",
       " \"U 18 IOUI'ISIS Pa131ey nat nre\",\n",
       " 'AP: MINNEAPOLIS AGREES TO BAN ALL CHOKEHOLDS BY POLICE']"
      ]
     },
     "execution_count": 46,
     "metadata": {},
     "output_type": "execute_result"
    }
   ],
   "source": [
    "ms_chys[11:17]"
   ]
  },
  {
   "cell_type": "code",
   "execution_count": 28,
   "metadata": {},
   "outputs": [],
   "source": [
    "probs = bayes.predict_proba(X_train)"
   ]
  },
  {
   "cell_type": "code",
   "execution_count": 29,
   "metadata": {},
   "outputs": [
    {
     "data": {
      "text/plain": [
       "array([0.25158769, 0.74841231])"
      ]
     },
     "execution_count": 29,
     "metadata": {},
     "output_type": "execute_result"
    }
   ],
   "source": [
    "probs[22]"
   ]
  },
  {
   "cell_type": "code",
   "execution_count": 226,
   "metadata": {},
   "outputs": [
    {
     "data": {
      "text/plain": [
       "['NEW LOUISVILLE LAW WOULD CHANGE BODY CAMERA. POLICY AFI\\'ER BREONNA TAYLOR KILLED IN OWN HOME LOUISVILLE MOVES ONE STEP CLOSER TO PASSING \\\\\"BREONNA 2019S LAW\\\\',\n",
       " 'DOZENS OF PROTESTERS ARRESTED IN NEW YORK CITY 2 OFFICERS SHQT, I STABBED IN NEW YORK CITY NYPD OFFICER BAS fb01HED IN HEAD WITH FIRE EXTINGUISHER PEACEFUL PROTESTS SEEN ACROSS NEW...',\n",
       " 'TOP U.S. GENERAL: APPEARING IN TRUMP BIBLE PHOTO-OP A \\\\\"MISTAKE\\\\\" TRUMP TO REQUIRE RALLY ATTENDEES TO SIGN CORONAVIRUS WAIVER',\n",
       " 'HE]. NEWS Lib Dem. Orkney and Shetland. -',\n",
       " '\\\\\"JANE DOE\\\\\" ACCUSES GHISLAINE MAXWELL OF RAPE GHISLAINE MAXWELL DENIES ALLEGATIONS OF SEX ABUSE']"
      ]
     },
     "execution_count": 226,
     "metadata": {},
     "output_type": "execute_result"
    }
   ],
   "source": [
    "sorted_ms_chy = []\n",
    "ms_sort = msnbc.sort_values(by=1)\n",
    "for i in ms_sort['index']:\n",
    "    sorted_ms_chy.append(chy_summer.iloc[i, 6])\n",
    "    \n",
    "sorted_ms_chy[:5]"
   ]
  },
  {
   "cell_type": "code",
   "execution_count": 227,
   "metadata": {},
   "outputs": [
    {
     "data": {
      "text/plain": [
       "[\"FIRED MINNEAPOLIS OFFICER INVOLVED IN FLOYD'S DEATH ARRESTED OFFICER WHO KNELT ON GEORGE FLOYD TAKEN INTO CUSTODY OFFICER WHO KNELT ON GEORGE FLOYD TAKEN INTO CUSTODY. . Laura Coates Former...\",\n",
       " \"LIHLL I'OUU'OO I'OOOC 'emc PureWick. . :Lern. . . . Urlne\",\n",
       " \"WEST POINT GRADUATE REACTS TO TRUMP'S MESSAGE TRUMP ADDRESSES GRADUATES AT WEST POINT\",\n",
       " 'DIUEN LALLD I\\'UK PULIU: KEI\\'UKI\\'I I\\'KUN LUNUKEDD DIUEN bALLD I\\'UK PULIU: KEI\\'UKIVI I\\'KUIVI LUNUKED; \\\\\"\\'\\\\\"\\\\\\\\\\'= \\\\\"\\'=\\\\\"\\'V\\'-\\' | CORRESPONDENT',\n",
       " 'O Daily Cases . Yrday moving average. . SOURCE: WI] RLDIJMETERSJNFEI O Daily beams + 7-day moving average. . SOURCE: WIJRLDIJMETERSJNFD']"
      ]
     },
     "execution_count": 227,
     "metadata": {},
     "output_type": "execute_result"
    }
   ],
   "source": [
    "sorted_fox_chy = []\n",
    "fox_sort = fox.sort_values(by=1)\n",
    "for i in fox_sort['index']:\n",
    "    sorted_fox_chy.append(chy_summer.iloc[i, 6])\n",
    "    \n",
    "sorted_fox_chy[:5]"
   ]
  },
  {
   "cell_type": "code",
   "execution_count": 212,
   "metadata": {},
   "outputs": [
    {
     "name": "stdout",
     "output_type": "stream",
     "text": [
      "CITIES NATIONWIDE FACE ANOTHER NIGHT OF CURFEWS\n",
      "NBC: NEARLY HALF THE EMPLOYEES AT AN ARIZONA ICE DETENTION. CENTER HAVE TESTED POSITIVE FOR COVID-19 I BY JULIA AINSLEY\n",
      "I MOST GOP GOVERNORS FOLLOW TRUMP'S LEAD ON CORONAVIRUS ' I STEVE BENEN AUTHOR, \\\"THE IMPOSTORS\\\n",
      "ATlAIITK (UUMCIL U.S. REPORTS MORE THAN 3 MILLION CASES\n",
      "Coronavirus in India. Of fb01cial tally of cases stands at nearly 7OO,OOO Coronavirus in India. More (han 19,OOO deaths have been recorded Coronavirus in India. India has third-highest number of cases...\n"
     ]
    }
   ],
   "source": [
    "for i in X_test.index[:5]:\n",
    "    print(chy_summer.iloc[i, 6])"
   ]
  },
  {
   "cell_type": "code",
   "execution_count": 195,
   "metadata": {},
   "outputs": [
    {
     "data": {
      "text/plain": [
       "'TRUMP MARKS MEMORIAL DAY AS VIRUS DEATHS NEAR 1OO,OOO IN U.S. TRUMP MARKS MEMORIAL DAY AS VIRUS DEATHS NEAR 1OO OOO IN U.S.. . Jeremy Diamond G\\\\\\\\N White House Correspondent'"
      ]
     },
     "execution_count": 195,
     "metadata": {},
     "output_type": "execute_result"
    }
   ],
   "source": [
    "X_test.iloc[2096, :]\n",
    "chy_summer.iloc[2096, 6]"
   ]
  },
  {
   "cell_type": "code",
   "execution_count": 82,
   "metadata": {},
   "outputs": [
    {
     "ename": "KeyError",
     "evalue": "\"None of [Int64Index([171153,  91084, 142193, 104300, 144317, 110583,  80889,  63612,\\n            153184,  87014,\\n            ...\\n            160648,  28769,  77280, 175092,  99271, 154368,  44667, 118364,\\n             94122, 169443],\\n           dtype='int64', length=122225)] are in the [index]\"",
     "output_type": "error",
     "traceback": [
      "\u001b[0;31m---------------------------------------------------------------------------\u001b[0m",
      "\u001b[0;31mKeyError\u001b[0m                                  Traceback (most recent call last)",
      "\u001b[0;32m<ipython-input-82-0db11b160c47>\u001b[0m in \u001b[0;36m<module>\u001b[0;34m\u001b[0m\n\u001b[0;32m----> 1\u001b[0;31m \u001b[0msort_probs\u001b[0m\u001b[0;34m(\u001b[0m\u001b[0mbayes\u001b[0m\u001b[0;34m,\u001b[0m \u001b[0mX_test\u001b[0m\u001b[0;34m,\u001b[0m \u001b[0my_test\u001b[0m\u001b[0;34m)\u001b[0m\u001b[0;34m\u001b[0m\u001b[0;34m\u001b[0m\u001b[0m\n\u001b[0m",
      "\u001b[0;32m<ipython-input-81-de26065f00ba>\u001b[0m in \u001b[0;36msort_probs\u001b[0;34m(model, X, y)\u001b[0m\n\u001b[1;32m      6\u001b[0m     \u001b[0mdf\u001b[0m\u001b[0;34m[\u001b[0m\u001b[0;34m'net'\u001b[0m\u001b[0;34m]\u001b[0m \u001b[0;34m=\u001b[0m \u001b[0my_net\u001b[0m\u001b[0;34m\u001b[0m\u001b[0;34m\u001b[0m\u001b[0m\n\u001b[1;32m      7\u001b[0m \u001b[0;31m#     df['index'] = X.index\u001b[0m\u001b[0;34m\u001b[0m\u001b[0;34m\u001b[0m\u001b[0;34m\u001b[0m\u001b[0m\n\u001b[0;32m----> 8\u001b[0;31m     \u001b[0mdf\u001b[0m\u001b[0;34m[\u001b[0m\u001b[0;34m'doc'\u001b[0m\u001b[0;34m]\u001b[0m \u001b[0;34m=\u001b[0m \u001b[0mchy_nets\u001b[0m\u001b[0;34m[\u001b[0m\u001b[0;34m'text'\u001b[0m\u001b[0;34m]\u001b[0m\u001b[0;34m.\u001b[0m\u001b[0mloc\u001b[0m\u001b[0;34m[\u001b[0m\u001b[0mX\u001b[0m\u001b[0;34m.\u001b[0m\u001b[0mindex\u001b[0m\u001b[0;34m]\u001b[0m\u001b[0;34m\u001b[0m\u001b[0;34m\u001b[0m\u001b[0m\n\u001b[0m\u001b[1;32m      9\u001b[0m \u001b[0;31m#     df['word'] = words\u001b[0m\u001b[0;34m\u001b[0m\u001b[0;34m\u001b[0m\u001b[0;34m\u001b[0m\u001b[0m\n\u001b[1;32m     10\u001b[0m     \u001b[0mmsnbc\u001b[0m \u001b[0;34m=\u001b[0m \u001b[0mdf\u001b[0m\u001b[0;34m.\u001b[0m\u001b[0mloc\u001b[0m\u001b[0;34m[\u001b[0m\u001b[0mdf\u001b[0m\u001b[0;34m[\u001b[0m\u001b[0;34m'net'\u001b[0m\u001b[0;34m]\u001b[0m \u001b[0;34m==\u001b[0m \u001b[0;36m1\u001b[0m\u001b[0;34m]\u001b[0m\u001b[0;34m\u001b[0m\u001b[0;34m\u001b[0m\u001b[0m\n",
      "\u001b[0;32m~/anaconda3/lib/python3.7/site-packages/pandas/core/indexing.py\u001b[0m in \u001b[0;36m__getitem__\u001b[0;34m(self, key)\u001b[0m\n\u001b[1;32m   1476\u001b[0m \u001b[0;34m\u001b[0m\u001b[0m\n\u001b[1;32m   1477\u001b[0m             \u001b[0mmaybe_callable\u001b[0m \u001b[0;34m=\u001b[0m \u001b[0mcom\u001b[0m\u001b[0;34m.\u001b[0m\u001b[0m_apply_if_callable\u001b[0m\u001b[0;34m(\u001b[0m\u001b[0mkey\u001b[0m\u001b[0;34m,\u001b[0m \u001b[0mself\u001b[0m\u001b[0;34m.\u001b[0m\u001b[0mobj\u001b[0m\u001b[0;34m)\u001b[0m\u001b[0;34m\u001b[0m\u001b[0;34m\u001b[0m\u001b[0m\n\u001b[0;32m-> 1478\u001b[0;31m             \u001b[0;32mreturn\u001b[0m \u001b[0mself\u001b[0m\u001b[0;34m.\u001b[0m\u001b[0m_getitem_axis\u001b[0m\u001b[0;34m(\u001b[0m\u001b[0mmaybe_callable\u001b[0m\u001b[0;34m,\u001b[0m \u001b[0maxis\u001b[0m\u001b[0;34m=\u001b[0m\u001b[0maxis\u001b[0m\u001b[0;34m)\u001b[0m\u001b[0;34m\u001b[0m\u001b[0;34m\u001b[0m\u001b[0m\n\u001b[0m\u001b[1;32m   1479\u001b[0m \u001b[0;34m\u001b[0m\u001b[0m\n\u001b[1;32m   1480\u001b[0m     \u001b[0;32mdef\u001b[0m \u001b[0m_is_scalar_access\u001b[0m\u001b[0;34m(\u001b[0m\u001b[0mself\u001b[0m\u001b[0;34m,\u001b[0m \u001b[0mkey\u001b[0m\u001b[0;34m)\u001b[0m\u001b[0;34m:\u001b[0m\u001b[0;34m\u001b[0m\u001b[0;34m\u001b[0m\u001b[0m\n",
      "\u001b[0;32m~/anaconda3/lib/python3.7/site-packages/pandas/core/indexing.py\u001b[0m in \u001b[0;36m_getitem_axis\u001b[0;34m(self, key, axis)\u001b[0m\n\u001b[1;32m   1899\u001b[0m                     \u001b[0;32mraise\u001b[0m \u001b[0mValueError\u001b[0m\u001b[0;34m(\u001b[0m\u001b[0;34m'Cannot index with multidimensional key'\u001b[0m\u001b[0;34m)\u001b[0m\u001b[0;34m\u001b[0m\u001b[0;34m\u001b[0m\u001b[0m\n\u001b[1;32m   1900\u001b[0m \u001b[0;34m\u001b[0m\u001b[0m\n\u001b[0;32m-> 1901\u001b[0;31m                 \u001b[0;32mreturn\u001b[0m \u001b[0mself\u001b[0m\u001b[0;34m.\u001b[0m\u001b[0m_getitem_iterable\u001b[0m\u001b[0;34m(\u001b[0m\u001b[0mkey\u001b[0m\u001b[0;34m,\u001b[0m \u001b[0maxis\u001b[0m\u001b[0;34m=\u001b[0m\u001b[0maxis\u001b[0m\u001b[0;34m)\u001b[0m\u001b[0;34m\u001b[0m\u001b[0;34m\u001b[0m\u001b[0m\n\u001b[0m\u001b[1;32m   1902\u001b[0m \u001b[0;34m\u001b[0m\u001b[0m\n\u001b[1;32m   1903\u001b[0m             \u001b[0;31m# nested tuple slicing\u001b[0m\u001b[0;34m\u001b[0m\u001b[0;34m\u001b[0m\u001b[0;34m\u001b[0m\u001b[0m\n",
      "\u001b[0;32m~/anaconda3/lib/python3.7/site-packages/pandas/core/indexing.py\u001b[0m in \u001b[0;36m_getitem_iterable\u001b[0;34m(self, key, axis)\u001b[0m\n\u001b[1;32m   1141\u001b[0m             \u001b[0;32mif\u001b[0m \u001b[0mlabels\u001b[0m\u001b[0;34m.\u001b[0m\u001b[0mis_unique\u001b[0m \u001b[0;32mand\u001b[0m \u001b[0mIndex\u001b[0m\u001b[0;34m(\u001b[0m\u001b[0mkeyarr\u001b[0m\u001b[0;34m)\u001b[0m\u001b[0;34m.\u001b[0m\u001b[0mis_unique\u001b[0m\u001b[0;34m:\u001b[0m\u001b[0;34m\u001b[0m\u001b[0;34m\u001b[0m\u001b[0m\n\u001b[1;32m   1142\u001b[0m                 \u001b[0mindexer\u001b[0m \u001b[0;34m=\u001b[0m \u001b[0max\u001b[0m\u001b[0;34m.\u001b[0m\u001b[0mget_indexer_for\u001b[0m\u001b[0;34m(\u001b[0m\u001b[0mkey\u001b[0m\u001b[0;34m)\u001b[0m\u001b[0;34m\u001b[0m\u001b[0;34m\u001b[0m\u001b[0m\n\u001b[0;32m-> 1143\u001b[0;31m                 \u001b[0mself\u001b[0m\u001b[0;34m.\u001b[0m\u001b[0m_validate_read_indexer\u001b[0m\u001b[0;34m(\u001b[0m\u001b[0mkey\u001b[0m\u001b[0;34m,\u001b[0m \u001b[0mindexer\u001b[0m\u001b[0;34m,\u001b[0m \u001b[0maxis\u001b[0m\u001b[0;34m)\u001b[0m\u001b[0;34m\u001b[0m\u001b[0;34m\u001b[0m\u001b[0m\n\u001b[0m\u001b[1;32m   1144\u001b[0m \u001b[0;34m\u001b[0m\u001b[0m\n\u001b[1;32m   1145\u001b[0m                 \u001b[0md\u001b[0m \u001b[0;34m=\u001b[0m \u001b[0;34m{\u001b[0m\u001b[0maxis\u001b[0m\u001b[0;34m:\u001b[0m \u001b[0;34m[\u001b[0m\u001b[0max\u001b[0m\u001b[0;34m.\u001b[0m\u001b[0mreindex\u001b[0m\u001b[0;34m(\u001b[0m\u001b[0mkeyarr\u001b[0m\u001b[0;34m)\u001b[0m\u001b[0;34m[\u001b[0m\u001b[0;36m0\u001b[0m\u001b[0;34m]\u001b[0m\u001b[0;34m,\u001b[0m \u001b[0mindexer\u001b[0m\u001b[0;34m]\u001b[0m\u001b[0;34m}\u001b[0m\u001b[0;34m\u001b[0m\u001b[0;34m\u001b[0m\u001b[0m\n",
      "\u001b[0;32m~/anaconda3/lib/python3.7/site-packages/pandas/core/indexing.py\u001b[0m in \u001b[0;36m_validate_read_indexer\u001b[0;34m(self, key, indexer, axis)\u001b[0m\n\u001b[1;32m   1204\u001b[0m                 raise KeyError(\n\u001b[1;32m   1205\u001b[0m                     u\"None of [{key}] are in the [{axis}]\".format(\n\u001b[0;32m-> 1206\u001b[0;31m                         key=key, axis=self.obj._get_axis_name(axis)))\n\u001b[0m\u001b[1;32m   1207\u001b[0m \u001b[0;34m\u001b[0m\u001b[0m\n\u001b[1;32m   1208\u001b[0m             \u001b[0;31m# we skip the warning on Categorical/Interval\u001b[0m\u001b[0;34m\u001b[0m\u001b[0;34m\u001b[0m\u001b[0;34m\u001b[0m\u001b[0m\n",
      "\u001b[0;31mKeyError\u001b[0m: \"None of [Int64Index([171153,  91084, 142193, 104300, 144317, 110583,  80889,  63612,\\n            153184,  87014,\\n            ...\\n            160648,  28769,  77280, 175092,  99271, 154368,  44667, 118364,\\n             94122, 169443],\\n           dtype='int64', length=122225)] are in the [index]\""
     ]
    }
   ],
   "source": [
    "sort_probs(bayes, X_test, y_test)"
   ]
  },
  {
   "cell_type": "code",
   "execution_count": 80,
   "metadata": {},
   "outputs": [
    {
     "name": "stdout",
     "output_type": "stream",
     "text": [
      "BIDEN VOWS TO RELEASE POSITION ON COURT-PACKING. BEFORE ELECTION BASED ON BARRETI' VOTE\n",
      "MAYOR OF JACKSON, MS ISSUES CURFEW. TO COMBAT RISING CIJVID-19 NUMBERS\\nU.S. REPURTS MORE THAN 2.OOO NEW COVIIJ-19 DEATHS. IN A DAY FOR THE FIRST TIME SINCE MAY\\nMORE THAN 161K AMERICANS HAVE DIED FROM...\n",
      "SENATE GOP CUT SCOTUS TO EIGHT JUSTICES FOR OVER A YEAR\\nMCCONNELL CUT SCOTUS TO 8 JUSTICES TO THWART OBAMA\\nLIBERALS DEMAND SCHUMER PLAY HARDBALL ON SCOTUS\n",
      "~\\ufb01roxuaws DEMOCRACY 2O2O. \\u2014'\\narroxusws DEMOCRACY 2O2O. \\u2014'\\n.Woxuaws DEMOCRACY 2O2O\\u2019 \\u2014'\n",
      "KY ATTORNEY GENERAL: OFFICERS WERE JUSTIFIED. IN USE OF FORCE IN BREONNA TAYLOR CASE\n"
     ]
    }
   ],
   "source": [
    "for i in X_test.index[:5]:\n",
    "    print(chy_nets['text'].iloc[i])"
   ]
  },
  {
   "cell_type": "code",
   "execution_count": 58,
   "metadata": {},
   "outputs": [
    {
     "data": {
      "text/plain": [
       "(182424, 8)"
      ]
     },
     "execution_count": 58,
     "metadata": {},
     "output_type": "execute_result"
    }
   ],
   "source": [
    "chy_nets.shape"
   ]
  },
  {
   "cell_type": "code",
   "execution_count": 68,
   "metadata": {},
   "outputs": [
    {
     "ename": "KeyError",
     "evalue": "171153",
     "output_type": "error",
     "traceback": [
      "\u001b[0;31m---------------------------------------------------------------------------\u001b[0m",
      "\u001b[0;31mKeyError\u001b[0m                                  Traceback (most recent call last)",
      "\u001b[0;32m~/anaconda3/lib/python3.7/site-packages/pandas/core/indexes/base.py\u001b[0m in \u001b[0;36mget_loc\u001b[0;34m(self, key, method, tolerance)\u001b[0m\n\u001b[1;32m   3077\u001b[0m             \u001b[0;32mtry\u001b[0m\u001b[0;34m:\u001b[0m\u001b[0;34m\u001b[0m\u001b[0;34m\u001b[0m\u001b[0m\n\u001b[0;32m-> 3078\u001b[0;31m                 \u001b[0;32mreturn\u001b[0m \u001b[0mself\u001b[0m\u001b[0;34m.\u001b[0m\u001b[0m_engine\u001b[0m\u001b[0;34m.\u001b[0m\u001b[0mget_loc\u001b[0m\u001b[0;34m(\u001b[0m\u001b[0mkey\u001b[0m\u001b[0;34m)\u001b[0m\u001b[0;34m\u001b[0m\u001b[0;34m\u001b[0m\u001b[0m\n\u001b[0m\u001b[1;32m   3079\u001b[0m             \u001b[0;32mexcept\u001b[0m \u001b[0mKeyError\u001b[0m\u001b[0;34m:\u001b[0m\u001b[0;34m\u001b[0m\u001b[0;34m\u001b[0m\u001b[0m\n",
      "\u001b[0;32mpandas/_libs/index.pyx\u001b[0m in \u001b[0;36mpandas._libs.index.IndexEngine.get_loc\u001b[0;34m()\u001b[0m\n",
      "\u001b[0;32mpandas/_libs/index.pyx\u001b[0m in \u001b[0;36mpandas._libs.index.IndexEngine.get_loc\u001b[0;34m()\u001b[0m\n",
      "\u001b[0;32mpandas/_libs/hashtable_class_helper.pxi\u001b[0m in \u001b[0;36mpandas._libs.hashtable.PyObjectHashTable.get_item\u001b[0;34m()\u001b[0m\n",
      "\u001b[0;32mpandas/_libs/hashtable_class_helper.pxi\u001b[0m in \u001b[0;36mpandas._libs.hashtable.PyObjectHashTable.get_item\u001b[0;34m()\u001b[0m\n",
      "\u001b[0;31mKeyError\u001b[0m: 171153",
      "\nDuring handling of the above exception, another exception occurred:\n",
      "\u001b[0;31mKeyError\u001b[0m                                  Traceback (most recent call last)",
      "\u001b[0;32m<ipython-input-68-fdaf7459eb61>\u001b[0m in \u001b[0;36m<module>\u001b[0;34m\u001b[0m\n\u001b[0;32m----> 1\u001b[0;31m \u001b[0mchy_nets\u001b[0m\u001b[0;34m[\u001b[0m\u001b[0;36m171153\u001b[0m\u001b[0;34m]\u001b[0m\u001b[0;34m\u001b[0m\u001b[0;34m\u001b[0m\u001b[0m\n\u001b[0m",
      "\u001b[0;32m~/anaconda3/lib/python3.7/site-packages/pandas/core/frame.py\u001b[0m in \u001b[0;36m__getitem__\u001b[0;34m(self, key)\u001b[0m\n\u001b[1;32m   2686\u001b[0m             \u001b[0;32mreturn\u001b[0m \u001b[0mself\u001b[0m\u001b[0;34m.\u001b[0m\u001b[0m_getitem_multilevel\u001b[0m\u001b[0;34m(\u001b[0m\u001b[0mkey\u001b[0m\u001b[0;34m)\u001b[0m\u001b[0;34m\u001b[0m\u001b[0;34m\u001b[0m\u001b[0m\n\u001b[1;32m   2687\u001b[0m         \u001b[0;32melse\u001b[0m\u001b[0;34m:\u001b[0m\u001b[0;34m\u001b[0m\u001b[0;34m\u001b[0m\u001b[0m\n\u001b[0;32m-> 2688\u001b[0;31m             \u001b[0;32mreturn\u001b[0m \u001b[0mself\u001b[0m\u001b[0;34m.\u001b[0m\u001b[0m_getitem_column\u001b[0m\u001b[0;34m(\u001b[0m\u001b[0mkey\u001b[0m\u001b[0;34m)\u001b[0m\u001b[0;34m\u001b[0m\u001b[0;34m\u001b[0m\u001b[0m\n\u001b[0m\u001b[1;32m   2689\u001b[0m \u001b[0;34m\u001b[0m\u001b[0m\n\u001b[1;32m   2690\u001b[0m     \u001b[0;32mdef\u001b[0m \u001b[0m_getitem_column\u001b[0m\u001b[0;34m(\u001b[0m\u001b[0mself\u001b[0m\u001b[0;34m,\u001b[0m \u001b[0mkey\u001b[0m\u001b[0;34m)\u001b[0m\u001b[0;34m:\u001b[0m\u001b[0;34m\u001b[0m\u001b[0;34m\u001b[0m\u001b[0m\n",
      "\u001b[0;32m~/anaconda3/lib/python3.7/site-packages/pandas/core/frame.py\u001b[0m in \u001b[0;36m_getitem_column\u001b[0;34m(self, key)\u001b[0m\n\u001b[1;32m   2693\u001b[0m         \u001b[0;31m# get column\u001b[0m\u001b[0;34m\u001b[0m\u001b[0;34m\u001b[0m\u001b[0;34m\u001b[0m\u001b[0m\n\u001b[1;32m   2694\u001b[0m         \u001b[0;32mif\u001b[0m \u001b[0mself\u001b[0m\u001b[0;34m.\u001b[0m\u001b[0mcolumns\u001b[0m\u001b[0;34m.\u001b[0m\u001b[0mis_unique\u001b[0m\u001b[0;34m:\u001b[0m\u001b[0;34m\u001b[0m\u001b[0;34m\u001b[0m\u001b[0m\n\u001b[0;32m-> 2695\u001b[0;31m             \u001b[0;32mreturn\u001b[0m \u001b[0mself\u001b[0m\u001b[0;34m.\u001b[0m\u001b[0m_get_item_cache\u001b[0m\u001b[0;34m(\u001b[0m\u001b[0mkey\u001b[0m\u001b[0;34m)\u001b[0m\u001b[0;34m\u001b[0m\u001b[0;34m\u001b[0m\u001b[0m\n\u001b[0m\u001b[1;32m   2696\u001b[0m \u001b[0;34m\u001b[0m\u001b[0m\n\u001b[1;32m   2697\u001b[0m         \u001b[0;31m# duplicate columns & possible reduce dimensionality\u001b[0m\u001b[0;34m\u001b[0m\u001b[0;34m\u001b[0m\u001b[0;34m\u001b[0m\u001b[0m\n",
      "\u001b[0;32m~/anaconda3/lib/python3.7/site-packages/pandas/core/generic.py\u001b[0m in \u001b[0;36m_get_item_cache\u001b[0;34m(self, item)\u001b[0m\n\u001b[1;32m   2487\u001b[0m         \u001b[0mres\u001b[0m \u001b[0;34m=\u001b[0m \u001b[0mcache\u001b[0m\u001b[0;34m.\u001b[0m\u001b[0mget\u001b[0m\u001b[0;34m(\u001b[0m\u001b[0mitem\u001b[0m\u001b[0;34m)\u001b[0m\u001b[0;34m\u001b[0m\u001b[0;34m\u001b[0m\u001b[0m\n\u001b[1;32m   2488\u001b[0m         \u001b[0;32mif\u001b[0m \u001b[0mres\u001b[0m \u001b[0;32mis\u001b[0m \u001b[0;32mNone\u001b[0m\u001b[0;34m:\u001b[0m\u001b[0;34m\u001b[0m\u001b[0;34m\u001b[0m\u001b[0m\n\u001b[0;32m-> 2489\u001b[0;31m             \u001b[0mvalues\u001b[0m \u001b[0;34m=\u001b[0m \u001b[0mself\u001b[0m\u001b[0;34m.\u001b[0m\u001b[0m_data\u001b[0m\u001b[0;34m.\u001b[0m\u001b[0mget\u001b[0m\u001b[0;34m(\u001b[0m\u001b[0mitem\u001b[0m\u001b[0;34m)\u001b[0m\u001b[0;34m\u001b[0m\u001b[0;34m\u001b[0m\u001b[0m\n\u001b[0m\u001b[1;32m   2490\u001b[0m             \u001b[0mres\u001b[0m \u001b[0;34m=\u001b[0m \u001b[0mself\u001b[0m\u001b[0;34m.\u001b[0m\u001b[0m_box_item_values\u001b[0m\u001b[0;34m(\u001b[0m\u001b[0mitem\u001b[0m\u001b[0;34m,\u001b[0m \u001b[0mvalues\u001b[0m\u001b[0;34m)\u001b[0m\u001b[0;34m\u001b[0m\u001b[0;34m\u001b[0m\u001b[0m\n\u001b[1;32m   2491\u001b[0m             \u001b[0mcache\u001b[0m\u001b[0;34m[\u001b[0m\u001b[0mitem\u001b[0m\u001b[0;34m]\u001b[0m \u001b[0;34m=\u001b[0m \u001b[0mres\u001b[0m\u001b[0;34m\u001b[0m\u001b[0;34m\u001b[0m\u001b[0m\n",
      "\u001b[0;32m~/anaconda3/lib/python3.7/site-packages/pandas/core/internals.py\u001b[0m in \u001b[0;36mget\u001b[0;34m(self, item, fastpath)\u001b[0m\n\u001b[1;32m   4113\u001b[0m \u001b[0;34m\u001b[0m\u001b[0m\n\u001b[1;32m   4114\u001b[0m             \u001b[0;32mif\u001b[0m \u001b[0;32mnot\u001b[0m \u001b[0misna\u001b[0m\u001b[0;34m(\u001b[0m\u001b[0mitem\u001b[0m\u001b[0;34m)\u001b[0m\u001b[0;34m:\u001b[0m\u001b[0;34m\u001b[0m\u001b[0;34m\u001b[0m\u001b[0m\n\u001b[0;32m-> 4115\u001b[0;31m                 \u001b[0mloc\u001b[0m \u001b[0;34m=\u001b[0m \u001b[0mself\u001b[0m\u001b[0;34m.\u001b[0m\u001b[0mitems\u001b[0m\u001b[0;34m.\u001b[0m\u001b[0mget_loc\u001b[0m\u001b[0;34m(\u001b[0m\u001b[0mitem\u001b[0m\u001b[0;34m)\u001b[0m\u001b[0;34m\u001b[0m\u001b[0;34m\u001b[0m\u001b[0m\n\u001b[0m\u001b[1;32m   4116\u001b[0m             \u001b[0;32melse\u001b[0m\u001b[0;34m:\u001b[0m\u001b[0;34m\u001b[0m\u001b[0;34m\u001b[0m\u001b[0m\n\u001b[1;32m   4117\u001b[0m                 \u001b[0mindexer\u001b[0m \u001b[0;34m=\u001b[0m \u001b[0mnp\u001b[0m\u001b[0;34m.\u001b[0m\u001b[0marange\u001b[0m\u001b[0;34m(\u001b[0m\u001b[0mlen\u001b[0m\u001b[0;34m(\u001b[0m\u001b[0mself\u001b[0m\u001b[0;34m.\u001b[0m\u001b[0mitems\u001b[0m\u001b[0;34m)\u001b[0m\u001b[0;34m)\u001b[0m\u001b[0;34m[\u001b[0m\u001b[0misna\u001b[0m\u001b[0;34m(\u001b[0m\u001b[0mself\u001b[0m\u001b[0;34m.\u001b[0m\u001b[0mitems\u001b[0m\u001b[0;34m)\u001b[0m\u001b[0;34m]\u001b[0m\u001b[0;34m\u001b[0m\u001b[0;34m\u001b[0m\u001b[0m\n",
      "\u001b[0;32m~/anaconda3/lib/python3.7/site-packages/pandas/core/indexes/base.py\u001b[0m in \u001b[0;36mget_loc\u001b[0;34m(self, key, method, tolerance)\u001b[0m\n\u001b[1;32m   3078\u001b[0m                 \u001b[0;32mreturn\u001b[0m \u001b[0mself\u001b[0m\u001b[0;34m.\u001b[0m\u001b[0m_engine\u001b[0m\u001b[0;34m.\u001b[0m\u001b[0mget_loc\u001b[0m\u001b[0;34m(\u001b[0m\u001b[0mkey\u001b[0m\u001b[0;34m)\u001b[0m\u001b[0;34m\u001b[0m\u001b[0;34m\u001b[0m\u001b[0m\n\u001b[1;32m   3079\u001b[0m             \u001b[0;32mexcept\u001b[0m \u001b[0mKeyError\u001b[0m\u001b[0;34m:\u001b[0m\u001b[0;34m\u001b[0m\u001b[0;34m\u001b[0m\u001b[0m\n\u001b[0;32m-> 3080\u001b[0;31m                 \u001b[0;32mreturn\u001b[0m \u001b[0mself\u001b[0m\u001b[0;34m.\u001b[0m\u001b[0m_engine\u001b[0m\u001b[0;34m.\u001b[0m\u001b[0mget_loc\u001b[0m\u001b[0;34m(\u001b[0m\u001b[0mself\u001b[0m\u001b[0;34m.\u001b[0m\u001b[0m_maybe_cast_indexer\u001b[0m\u001b[0;34m(\u001b[0m\u001b[0mkey\u001b[0m\u001b[0;34m)\u001b[0m\u001b[0;34m)\u001b[0m\u001b[0;34m\u001b[0m\u001b[0;34m\u001b[0m\u001b[0m\n\u001b[0m\u001b[1;32m   3081\u001b[0m \u001b[0;34m\u001b[0m\u001b[0m\n\u001b[1;32m   3082\u001b[0m         \u001b[0mindexer\u001b[0m \u001b[0;34m=\u001b[0m \u001b[0mself\u001b[0m\u001b[0;34m.\u001b[0m\u001b[0mget_indexer\u001b[0m\u001b[0;34m(\u001b[0m\u001b[0;34m[\u001b[0m\u001b[0mkey\u001b[0m\u001b[0;34m]\u001b[0m\u001b[0;34m,\u001b[0m \u001b[0mmethod\u001b[0m\u001b[0;34m=\u001b[0m\u001b[0mmethod\u001b[0m\u001b[0;34m,\u001b[0m \u001b[0mtolerance\u001b[0m\u001b[0;34m=\u001b[0m\u001b[0mtolerance\u001b[0m\u001b[0;34m)\u001b[0m\u001b[0;34m\u001b[0m\u001b[0;34m\u001b[0m\u001b[0m\n",
      "\u001b[0;32mpandas/_libs/index.pyx\u001b[0m in \u001b[0;36mpandas._libs.index.IndexEngine.get_loc\u001b[0;34m()\u001b[0m\n",
      "\u001b[0;32mpandas/_libs/index.pyx\u001b[0m in \u001b[0;36mpandas._libs.index.IndexEngine.get_loc\u001b[0;34m()\u001b[0m\n",
      "\u001b[0;32mpandas/_libs/hashtable_class_helper.pxi\u001b[0m in \u001b[0;36mpandas._libs.hashtable.PyObjectHashTable.get_item\u001b[0;34m()\u001b[0m\n",
      "\u001b[0;32mpandas/_libs/hashtable_class_helper.pxi\u001b[0m in \u001b[0;36mpandas._libs.hashtable.PyObjectHashTable.get_item\u001b[0;34m()\u001b[0m\n",
      "\u001b[0;31mKeyError\u001b[0m: 171153"
     ]
    }
   ],
   "source": [
    "chy_nets.[171153, :]"
   ]
  },
  {
   "cell_type": "code",
   "execution_count": 41,
   "metadata": {},
   "outputs": [],
   "source": [
    "neg_class_prob_sorted = bayes.feature_log_prob_[0, :].argsort()[::-1]\n",
    "pos_class_prob_sorted = bayes.feature_log_prob_[1, :].argsort()[::-1]\n",
    "neg_words = np.take(feature_count, neg_class_prob_sorted[:25])\n",
    "pos_words = np.take(feature_count, pos_class_prob_sorted[:25])"
   ]
  },
  {
   "cell_type": "code",
   "execution_count": 42,
   "metadata": {},
   "outputs": [
    {
     "data": {
      "text/plain": [
       "array(['trump', 'biden', 'president', 'police', 'president trump', 'new',\n",
       "       'covid', 'protests', 'court', 'news', 'house', 'com', 'ntrump',\n",
       "       'fox', 'campaign', 'cities', 'ni', 'election', 'debate',\n",
       "       'violence', 'supreme', 'floyd', 'supreme court', 'coronavirus',\n",
       "       'white'], dtype='<U21')"
      ]
     },
     "execution_count": 42,
     "metadata": {},
     "output_type": "execute_result"
    }
   ],
   "source": [
    "neg_words #fox"
   ]
  },
  {
   "cell_type": "code",
   "execution_count": 43,
   "metadata": {},
   "outputs": [
    {
     "data": {
      "text/plain": [
       "array(['trump', 'biden', 'ntrump', 'covid', 'cases', 'new', 'virus',\n",
       "       'police', 'house', 'election', 'says', 'coronavirus', 'protests',\n",
       "       'white', 'ni', 'floyd', 'campaign', 'pres', 'harris', 'president',\n",
       "       'death', 'states', 'white house', 'news', 'pres trump'],\n",
       "      dtype='<U21')"
      ]
     },
     "execution_count": 43,
     "metadata": {},
     "output_type": "execute_result"
    }
   ],
   "source": [
    "pos_words #msnbc"
   ]
  },
  {
   "cell_type": "markdown",
   "metadata": {},
   "source": [
    "## Random Forest Models with N-Grams"
   ]
  },
  {
   "cell_type": "code",
   "execution_count": 46,
   "metadata": {},
   "outputs": [
    {
     "name": "stdout",
     "output_type": "stream",
     "text": [
      "0\n",
      "1\n",
      "2\n",
      "3\n",
      "4\n",
      "5\n",
      "6\n",
      "7\n",
      "8\n",
      "9\n",
      "0.8120899377883657\n"
     ]
    }
   ],
   "source": [
    "# with bi-grams\n",
    "accuracy_rf, oob, forest = eval_random_forest(X_train, y_train, folds=10, n_estimators=100, \n",
    "                                         max_depth=100, max_leaf=None, max_features='log2')\n",
    "print(accuracy_rf) # --> 0.8116246835188019"
   ]
  },
  {
   "cell_type": "code",
   "execution_count": null,
   "metadata": {},
   "outputs": [],
   "source": [
    "plot_confusion_matrix(forest, X_train, y_train)  \n",
    "plt.show()"
   ]
  },
  {
   "cell_type": "code",
   "execution_count": 41,
   "metadata": {},
   "outputs": [
    {
     "name": "stderr",
     "output_type": "stream",
     "text": [
      "/home/ubuntu/anaconda3/lib/python3.7/site-packages/sklearn/model_selection/_split.py:2179: FutureWarning: From version 0.21, test_size will always complement train_size unless both are specified.\n",
      "  FutureWarning)\n",
      "/home/ubuntu/anaconda3/lib/python3.7/site-packages/sklearn/ensemble/forest.py:246: FutureWarning: The default value of n_estimators will change from 10 in version 0.20 to 100 in 0.22.\n",
      "  \"10 in version 0.20 to 100 in 0.22.\", FutureWarning)\n"
     ]
    },
    {
     "data": {
      "text/plain": [
       "array([2.        , 1.        , 0.99795918, ..., 0.0105802 , 0.00454545,\n",
       "       0.        ])"
      ]
     },
     "execution_count": 41,
     "metadata": {},
     "output_type": "execute_result"
    },
    {
     "data": {
      "image/png": "[encoded data removed]",
      "text/plain": [
       "<Figure size 432x288 with 1 Axes>"
      ]
     },
     "metadata": {
      "needs_background": "light"
     },
     "output_type": "display_data"
    }
   ],
   "source": [
    "plot_roc_forest(X_train, y_train, vec_type='(Count)', max_depth=90)"
   ]
  },
  {
   "cell_type": "code",
   "execution_count": 47,
   "metadata": {},
   "outputs": [
    {
     "data": {
      "image/png": "[encoded data removed]",
      "text/plain": [
       "<Figure size 1440x864 with 1 Axes>"
      ]
     },
     "metadata": {
      "needs_background": "light"
     },
     "output_type": "display_data"
    }
   ],
   "source": [
    "chart_gini_import(forest, X_train, size=55, figsize=(20,12))"
   ]
  },
  {
   "cell_type": "code",
   "execution_count": 54,
   "metadata": {},
   "outputs": [
    {
     "name": "stdout",
     "output_type": "stream",
     "text": [
      "0\n",
      "1\n",
      "2\n",
      "3\n",
      "4\n",
      "5\n",
      "6\n",
      "7\n",
      "8\n",
      "9\n",
      "0.8149969559296999\n"
     ]
    }
   ],
   "source": [
    "accuracy_rf, oob, forest = eval_random_forest(X_train, y_train, folds=10, n_estimators=500, \n",
    "                                         max_depth=100, max_leaf=None, max_features='log2')\n",
    "print(accuracy_rf) # --> 0.8116246835188019"
   ]
  },
  {
   "cell_type": "code",
   "execution_count": null,
   "metadata": {},
   "outputs": [
    {
     "name": "stderr",
     "output_type": "stream",
     "text": [
      "/home/ubuntu/anaconda3/lib/python3.7/site-packages/sklearn/ensemble/forest.py:458: UserWarning: Some inputs do not have OOB scores. This probably means too few trees were used to compute any reliable oob estimates.\n",
      "  warn(\"Some inputs do not have OOB scores. \"\n",
      "/home/ubuntu/anaconda3/lib/python3.7/site-packages/sklearn/ensemble/forest.py:463: RuntimeWarning: divide by zero encountered in true_divide\n",
      "  predictions[k].sum(axis=1)[:, np.newaxis])\n",
      "/home/ubuntu/anaconda3/lib/python3.7/site-packages/sklearn/ensemble/forest.py:463: RuntimeWarning: invalid value encountered in true_divide\n",
      "  predictions[k].sum(axis=1)[:, np.newaxis])\n"
     ]
    },
    {
     "name": "stdout",
     "output_type": "stream",
     "text": [
      "0\n"
     ]
    },
    {
     "name": "stderr",
     "output_type": "stream",
     "text": [
      "/home/ubuntu/anaconda3/lib/python3.7/site-packages/sklearn/ensemble/forest.py:458: UserWarning: Some inputs do not have OOB scores. This probably means too few trees were used to compute any reliable oob estimates.\n",
      "  warn(\"Some inputs do not have OOB scores. \"\n",
      "/home/ubuntu/anaconda3/lib/python3.7/site-packages/sklearn/ensemble/forest.py:463: RuntimeWarning: divide by zero encountered in true_divide\n",
      "  predictions[k].sum(axis=1)[:, np.newaxis])\n",
      "/home/ubuntu/anaconda3/lib/python3.7/site-packages/sklearn/ensemble/forest.py:463: RuntimeWarning: invalid value encountered in true_divide\n",
      "  predictions[k].sum(axis=1)[:, np.newaxis])\n"
     ]
    },
    {
     "name": "stdout",
     "output_type": "stream",
     "text": [
      "1\n"
     ]
    },
    {
     "name": "stderr",
     "output_type": "stream",
     "text": [
      "/home/ubuntu/anaconda3/lib/python3.7/site-packages/sklearn/ensemble/forest.py:458: UserWarning: Some inputs do not have OOB scores. This probably means too few trees were used to compute any reliable oob estimates.\n",
      "  warn(\"Some inputs do not have OOB scores. \"\n",
      "/home/ubuntu/anaconda3/lib/python3.7/site-packages/sklearn/ensemble/forest.py:463: RuntimeWarning: divide by zero encountered in true_divide\n",
      "  predictions[k].sum(axis=1)[:, np.newaxis])\n",
      "/home/ubuntu/anaconda3/lib/python3.7/site-packages/sklearn/ensemble/forest.py:463: RuntimeWarning: invalid value encountered in true_divide\n",
      "  predictions[k].sum(axis=1)[:, np.newaxis])\n"
     ]
    },
    {
     "name": "stdout",
     "output_type": "stream",
     "text": [
      "2\n"
     ]
    },
    {
     "name": "stderr",
     "output_type": "stream",
     "text": [
      "/home/ubuntu/anaconda3/lib/python3.7/site-packages/sklearn/ensemble/forest.py:458: UserWarning: Some inputs do not have OOB scores. This probably means too few trees were used to compute any reliable oob estimates.\n",
      "  warn(\"Some inputs do not have OOB scores. \"\n",
      "/home/ubuntu/anaconda3/lib/python3.7/site-packages/sklearn/ensemble/forest.py:463: RuntimeWarning: divide by zero encountered in true_divide\n",
      "  predictions[k].sum(axis=1)[:, np.newaxis])\n",
      "/home/ubuntu/anaconda3/lib/python3.7/site-packages/sklearn/ensemble/forest.py:463: RuntimeWarning: invalid value encountered in true_divide\n",
      "  predictions[k].sum(axis=1)[:, np.newaxis])\n"
     ]
    },
    {
     "name": "stdout",
     "output_type": "stream",
     "text": [
      "3\n"
     ]
    },
    {
     "name": "stderr",
     "output_type": "stream",
     "text": [
      "/home/ubuntu/anaconda3/lib/python3.7/site-packages/sklearn/ensemble/forest.py:458: UserWarning: Some inputs do not have OOB scores. This probably means too few trees were used to compute any reliable oob estimates.\n",
      "  warn(\"Some inputs do not have OOB scores. \"\n",
      "/home/ubuntu/anaconda3/lib/python3.7/site-packages/sklearn/ensemble/forest.py:463: RuntimeWarning: divide by zero encountered in true_divide\n",
      "  predictions[k].sum(axis=1)[:, np.newaxis])\n",
      "/home/ubuntu/anaconda3/lib/python3.7/site-packages/sklearn/ensemble/forest.py:463: RuntimeWarning: invalid value encountered in true_divide\n",
      "  predictions[k].sum(axis=1)[:, np.newaxis])\n"
     ]
    },
    {
     "name": "stdout",
     "output_type": "stream",
     "text": [
      "4\n"
     ]
    },
    {
     "name": "stderr",
     "output_type": "stream",
     "text": [
      "/home/ubuntu/anaconda3/lib/python3.7/site-packages/sklearn/ensemble/forest.py:458: UserWarning: Some inputs do not have OOB scores. This probably means too few trees were used to compute any reliable oob estimates.\n",
      "  warn(\"Some inputs do not have OOB scores. \"\n",
      "/home/ubuntu/anaconda3/lib/python3.7/site-packages/sklearn/ensemble/forest.py:463: RuntimeWarning: divide by zero encountered in true_divide\n",
      "  predictions[k].sum(axis=1)[:, np.newaxis])\n",
      "/home/ubuntu/anaconda3/lib/python3.7/site-packages/sklearn/ensemble/forest.py:463: RuntimeWarning: invalid value encountered in true_divide\n",
      "  predictions[k].sum(axis=1)[:, np.newaxis])\n"
     ]
    },
    {
     "name": "stdout",
     "output_type": "stream",
     "text": [
      "5\n"
     ]
    },
    {
     "name": "stderr",
     "output_type": "stream",
     "text": [
      "/home/ubuntu/anaconda3/lib/python3.7/site-packages/sklearn/ensemble/forest.py:458: UserWarning: Some inputs do not have OOB scores. This probably means too few trees were used to compute any reliable oob estimates.\n",
      "  warn(\"Some inputs do not have OOB scores. \"\n",
      "/home/ubuntu/anaconda3/lib/python3.7/site-packages/sklearn/ensemble/forest.py:463: RuntimeWarning: divide by zero encountered in true_divide\n",
      "  predictions[k].sum(axis=1)[:, np.newaxis])\n",
      "/home/ubuntu/anaconda3/lib/python3.7/site-packages/sklearn/ensemble/forest.py:463: RuntimeWarning: invalid value encountered in true_divide\n",
      "  predictions[k].sum(axis=1)[:, np.newaxis])\n"
     ]
    },
    {
     "name": "stdout",
     "output_type": "stream",
     "text": [
      "6\n"
     ]
    },
    {
     "name": "stderr",
     "output_type": "stream",
     "text": [
      "/home/ubuntu/anaconda3/lib/python3.7/site-packages/sklearn/ensemble/forest.py:458: UserWarning: Some inputs do not have OOB scores. This probably means too few trees were used to compute any reliable oob estimates.\n",
      "  warn(\"Some inputs do not have OOB scores. \"\n",
      "/home/ubuntu/anaconda3/lib/python3.7/site-packages/sklearn/ensemble/forest.py:463: RuntimeWarning: divide by zero encountered in true_divide\n",
      "  predictions[k].sum(axis=1)[:, np.newaxis])\n",
      "/home/ubuntu/anaconda3/lib/python3.7/site-packages/sklearn/ensemble/forest.py:463: RuntimeWarning: invalid value encountered in true_divide\n",
      "  predictions[k].sum(axis=1)[:, np.newaxis])\n"
     ]
    },
    {
     "name": "stdout",
     "output_type": "stream",
     "text": [
      "7\n"
     ]
    },
    {
     "name": "stderr",
     "output_type": "stream",
     "text": [
      "/home/ubuntu/anaconda3/lib/python3.7/site-packages/sklearn/ensemble/forest.py:458: UserWarning: Some inputs do not have OOB scores. This probably means too few trees were used to compute any reliable oob estimates.\n",
      "  warn(\"Some inputs do not have OOB scores. \"\n",
      "/home/ubuntu/anaconda3/lib/python3.7/site-packages/sklearn/ensemble/forest.py:463: RuntimeWarning: divide by zero encountered in true_divide\n",
      "  predictions[k].sum(axis=1)[:, np.newaxis])\n",
      "/home/ubuntu/anaconda3/lib/python3.7/site-packages/sklearn/ensemble/forest.py:463: RuntimeWarning: invalid value encountered in true_divide\n",
      "  predictions[k].sum(axis=1)[:, np.newaxis])\n"
     ]
    },
    {
     "name": "stdout",
     "output_type": "stream",
     "text": [
      "8\n"
     ]
    },
    {
     "name": "stderr",
     "output_type": "stream",
     "text": [
      "/home/ubuntu/anaconda3/lib/python3.7/site-packages/sklearn/ensemble/forest.py:458: UserWarning: Some inputs do not have OOB scores. This probably means too few trees were used to compute any reliable oob estimates.\n",
      "  warn(\"Some inputs do not have OOB scores. \"\n",
      "/home/ubuntu/anaconda3/lib/python3.7/site-packages/sklearn/ensemble/forest.py:463: RuntimeWarning: divide by zero encountered in true_divide\n",
      "  predictions[k].sum(axis=1)[:, np.newaxis])\n",
      "/home/ubuntu/anaconda3/lib/python3.7/site-packages/sklearn/ensemble/forest.py:463: RuntimeWarning: invalid value encountered in true_divide\n",
      "  predictions[k].sum(axis=1)[:, np.newaxis])\n"
     ]
    },
    {
     "name": "stdout",
     "output_type": "stream",
     "text": [
      "9\n"
     ]
    },
    {
     "name": "stderr",
     "output_type": "stream",
     "text": [
      "/home/ubuntu/anaconda3/lib/python3.7/site-packages/sklearn/ensemble/forest.py:458: UserWarning: Some inputs do not have OOB scores. This probably means too few trees were used to compute any reliable oob estimates.\n",
      "  warn(\"Some inputs do not have OOB scores. \"\n"
     ]
    },
    {
     "name": "stdout",
     "output_type": "stream",
     "text": [
      "0\n"
     ]
    },
    {
     "name": "stderr",
     "output_type": "stream",
     "text": [
      "/home/ubuntu/anaconda3/lib/python3.7/site-packages/sklearn/ensemble/forest.py:458: UserWarning: Some inputs do not have OOB scores. This probably means too few trees were used to compute any reliable oob estimates.\n",
      "  warn(\"Some inputs do not have OOB scores. \"\n"
     ]
    },
    {
     "name": "stdout",
     "output_type": "stream",
     "text": [
      "1\n",
      "2\n",
      "3\n",
      "4\n",
      "5\n"
     ]
    },
    {
     "name": "stderr",
     "output_type": "stream",
     "text": [
      "/home/ubuntu/anaconda3/lib/python3.7/site-packages/sklearn/ensemble/forest.py:458: UserWarning: Some inputs do not have OOB scores. This probably means too few trees were used to compute any reliable oob estimates.\n",
      "  warn(\"Some inputs do not have OOB scores. \"\n",
      "/home/ubuntu/anaconda3/lib/python3.7/site-packages/sklearn/ensemble/forest.py:463: RuntimeWarning: invalid value encountered in true_divide\n",
      "  predictions[k].sum(axis=1)[:, np.newaxis])\n"
     ]
    },
    {
     "name": "stdout",
     "output_type": "stream",
     "text": [
      "6\n",
      "7\n"
     ]
    },
    {
     "name": "stderr",
     "output_type": "stream",
     "text": [
      "/home/ubuntu/anaconda3/lib/python3.7/site-packages/sklearn/ensemble/forest.py:458: UserWarning: Some inputs do not have OOB scores. This probably means too few trees were used to compute any reliable oob estimates.\n",
      "  warn(\"Some inputs do not have OOB scores. \"\n"
     ]
    },
    {
     "name": "stdout",
     "output_type": "stream",
     "text": [
      "8\n"
     ]
    },
    {
     "name": "stderr",
     "output_type": "stream",
     "text": [
      "/home/ubuntu/anaconda3/lib/python3.7/site-packages/sklearn/ensemble/forest.py:458: UserWarning: Some inputs do not have OOB scores. This probably means too few trees were used to compute any reliable oob estimates.\n",
      "  warn(\"Some inputs do not have OOB scores. \"\n",
      "/home/ubuntu/anaconda3/lib/python3.7/site-packages/sklearn/ensemble/forest.py:463: RuntimeWarning: invalid value encountered in true_divide\n",
      "  predictions[k].sum(axis=1)[:, np.newaxis])\n"
     ]
    },
    {
     "name": "stdout",
     "output_type": "stream",
     "text": [
      "9\n",
      "0\n",
      "1\n",
      "2\n",
      "3\n",
      "4\n",
      "5\n",
      "6\n",
      "7\n",
      "8\n",
      "9\n",
      "0\n",
      "1\n",
      "2\n",
      "3\n",
      "4\n",
      "5\n",
      "6\n",
      "7\n",
      "8\n",
      "9\n",
      "0\n",
      "1\n",
      "2\n",
      "3\n",
      "4\n",
      "5\n",
      "6\n",
      "7\n",
      "8\n",
      "9\n",
      "0\n",
      "1\n"
     ]
    }
   ],
   "source": [
    "est_lst = [10, 25, 50, 100, 500, 1000]\n",
    "leaf_lst = [50, 100, 1000]\n",
    "depth_lst = [150, 200]\n",
    "\n",
    "estimators = test_forest_estimators(X_train, y_train, est_lst)\n",
    "leaf = test_max_leafs(X_train, y_train, leaf_lst)\n",
    "test_forest_depth(X_train, y_train, depth_lst)"
   ]
  },
  {
   "cell_type": "code",
   "execution_count": null,
   "metadata": {},
   "outputs": [],
   "source": [
    "leaf_lst = [50, 100, 1000]\n",
    "depth_lst = [150, 200]\n",
    "\n",
    "estimators = test_forest_estimators(X_train, y_train, est_lst)\n",
    "leaf = test_max_leafs(X_train, y_train, leaf_lst)\n",
    "test_forest_depth(X_train, y_train, depth_lst)"
   ]
  },
  {
   "cell_type": "code",
   "execution_count": 16,
   "metadata": {},
   "outputs": [
    {
     "name": "stdout",
     "output_type": "stream",
     "text": [
      "0\n",
      "1\n",
      "2\n",
      "3\n",
      "4\n",
      "5\n",
      "6\n",
      "7\n",
      "8\n",
      "9\n",
      "0\n",
      "1\n",
      "2\n",
      "3\n",
      "4\n",
      "5\n",
      "6\n",
      "7\n",
      "8\n",
      "9\n"
     ]
    }
   ],
   "source": [
    "depth_lst = [150, 200]\n",
    "\n",
    "depth = test_forest_depth(X_train, y_train, depth_lst)"
   ]
  },
  {
   "cell_type": "code",
   "execution_count": 17,
   "metadata": {},
   "outputs": [
    {
     "data": {
      "text/plain": [
       "[(0.8281035166049481,\n",
       "  0.8213499349336327,\n",
       "  RandomForestClassifier(bootstrap=True, class_weight=None, criterion='gini',\n",
       "              max_depth=150, max_features='log2', max_leaf_nodes=None,\n",
       "              min_impurity_decrease=0.0, min_impurity_split=None,\n",
       "              min_samples_leaf=1, min_samples_split=2,\n",
       "              min_weight_fraction_leaf=0.0, n_estimators=100, n_jobs=-1,\n",
       "              oob_score=True, random_state=None, verbose=0, warm_start=False)),\n",
       " (0.8339008284397306,\n",
       "  0.8281477551774546,\n",
       "  RandomForestClassifier(bootstrap=True, class_weight=None, criterion='gini',\n",
       "              max_depth=200, max_features='log2', max_leaf_nodes=None,\n",
       "              min_impurity_decrease=0.0, min_impurity_split=None,\n",
       "              min_samples_leaf=1, min_samples_split=2,\n",
       "              min_weight_fraction_leaf=0.0, n_estimators=100, n_jobs=-1,\n",
       "              oob_score=True, random_state=None, verbose=0, warm_start=False))]"
      ]
     },
     "execution_count": 17,
     "metadata": {},
     "output_type": "execute_result"
    }
   ],
   "source": [
    "depth"
   ]
  },
  {
   "cell_type": "code",
   "execution_count": 15,
   "metadata": {},
   "outputs": [
    {
     "data": {
      "text/plain": [
       "[(0.5634975898580299,\n",
       "  0.5665745651057519,\n",
       "  RandomForestClassifier(bootstrap=True, class_weight=None, criterion='gini',\n",
       "              max_depth=5, max_features='log2', max_leaf_nodes=50,\n",
       "              min_impurity_decrease=0.0, min_impurity_split=None,\n",
       "              min_samples_leaf=1, min_samples_split=2,\n",
       "              min_weight_fraction_leaf=0.0, n_estimators=100, n_jobs=-1,\n",
       "              oob_score=True, random_state=None, verbose=0, warm_start=False)),\n",
       " (0.5629993641398031,\n",
       "  0.5658491896939987,\n",
       "  RandomForestClassifier(bootstrap=True, class_weight=None, criterion='gini',\n",
       "              max_depth=5, max_features='log2', max_leaf_nodes=100,\n",
       "              min_impurity_decrease=0.0, min_impurity_split=None,\n",
       "              min_samples_leaf=1, min_samples_split=2,\n",
       "              min_weight_fraction_leaf=0.0, n_estimators=100, n_jobs=-1,\n",
       "              oob_score=True, random_state=None, verbose=0, warm_start=False)),\n",
       " (0.5623516119221579,\n",
       "  0.5656720026082007,\n",
       "  RandomForestClassifier(bootstrap=True, class_weight=None, criterion='gini',\n",
       "              max_depth=5, max_features='log2', max_leaf_nodes=1000,\n",
       "              min_impurity_decrease=0.0, min_impurity_split=None,\n",
       "              min_samples_leaf=1, min_samples_split=2,\n",
       "              min_weight_fraction_leaf=0.0, n_estimators=100, n_jobs=-1,\n",
       "              oob_score=True, random_state=None, verbose=0, warm_start=False))]"
      ]
     },
     "execution_count": 15,
     "metadata": {},
     "output_type": "execute_result"
    }
   ],
   "source": [
    "leaf"
   ]
  },
  {
   "cell_type": "code",
   "execution_count": null,
   "metadata": {},
   "outputs": [],
   "source": []
  },
  {
   "cell_type": "code",
   "execution_count": null,
   "metadata": {},
   "outputs": [],
   "source": []
  },
  {
   "cell_type": "code",
   "execution_count": 24,
   "metadata": {
    "scrolled": true
   },
   "outputs": [
    {
     "name": "stdout",
     "output_type": "stream",
     "text": [
      "0\n",
      "1\n",
      "2\n",
      "3\n",
      "4\n",
      "5\n",
      "6\n",
      "7\n",
      "8\n",
      "9\n",
      "0.8102460315313798\n"
     ]
    }
   ],
   "source": [
    "# with tri-grams\n",
    "acc_rf_3, oob_3, forest_3 = eval_random_forest(X_train_3, y_train_3, folds=10, n_estimators=100, \n",
    "                                         max_depth=100, max_leaf=None, max_features='log2')\n",
    "print(acc_rf_3) # 0.8102460315313798"
   ]
  },
  {
   "cell_type": "code",
   "execution_count": null,
   "metadata": {},
   "outputs": [],
   "source": []
  },
  {
   "cell_type": "code",
   "execution_count": null,
   "metadata": {},
   "outputs": [],
   "source": []
  },
  {
   "cell_type": "code",
   "execution_count": null,
   "metadata": {},
   "outputs": [],
   "source": []
  },
  {
   "cell_type": "code",
   "execution_count": null,
   "metadata": {},
   "outputs": [],
   "source": []
  },
  {
   "cell_type": "code",
   "execution_count": null,
   "metadata": {},
   "outputs": [],
   "source": []
  },
  {
   "cell_type": "code",
   "execution_count": 44,
   "metadata": {
    "scrolled": true
   },
   "outputs": [
    {
     "data": {
      "image/png": "[encoded data removed]",
      "text/plain": [
       "<Figure size 1440x864 with 1 Axes>"
      ]
     },
     "metadata": {
      "needs_background": "light"
     },
     "output_type": "display_data"
    }
   ],
   "source": [
    "# with tri-grams\n",
    "chart_gini_import(forest_3, X_train_3, size=55, figsize=(20,12))"
   ]
  },
  {
   "cell_type": "code",
   "execution_count": 17,
   "metadata": {},
   "outputs": [
    {
     "data": {
      "text/plain": [
       "((2343,), (60199, 2415))"
      ]
     },
     "execution_count": 17,
     "metadata": {},
     "output_type": "execute_result"
    }
   ],
   "source": [
    "forest_3.feature_importances_.shape, X_train_3.shape"
   ]
  },
  {
   "cell_type": "code",
   "execution_count": 53,
   "metadata": {},
   "outputs": [],
   "source": [
    "n_begin = []\n",
    "for i, word in enumerate(X_train.columns):\n",
    "    if word[0] == 'n':\n",
    "        n_begin.append(word)"
   ]
  },
  {
   "cell_type": "code",
   "execution_count": 50,
   "metadata": {},
   "outputs": [
    {
     "data": {
      "text/plain": [
       "['na',\n",
       " 'nag',\n",
       " 'nag barr',\n",
       " 'name',\n",
       " 'names',\n",
       " 'nan',\n",
       " 'nancy',\n",
       " 'nancy pelosi',\n",
       " 'narizona',\n",
       " 'nasa',\n",
       " 'nascar',\n",
       " 'nat',\n",
       " 'nation',\n",
       " 'national',\n",
       " 'national convention',\n",
       " 'national guard',\n",
       " 'national security',\n",
       " 'nationally',\n",
       " 'nationwide',\n",
       " 'nationwide protests',\n",
       " 'natl',\n",
       " 'natlanta',\n",
       " 'nb',\n",
       " 'nba',\n",
       " 'nbarr',\n",
       " 'nbc',\n",
       " 'nbc news',\n",
       " 'nbiden',\n",
       " 'nbiden campaign',\n",
       " 'nbiden harris',\n",
       " 'nbiden leads',\n",
       " 'nbiden trump',\n",
       " 'nbill',\n",
       " 'nbolton',\n",
       " 'nc',\n",
       " 'ncalls',\n",
       " 'ncdc',\n",
       " 'ncivil',\n",
       " 'ncivil rights',\n",
       " 'ncoronavirus',\n",
       " 'ncovid',\n",
       " 'nd',\n",
       " 'ndavid',\n",
       " 'ndemocrats',\n",
       " 'ndems',\n",
       " 'ndr',\n",
       " 'ndr fauci',\n",
       " 'ne',\n",
       " 'near',\n",
       " 'nearly',\n",
       " 'nears',\n",
       " 'need',\n",
       " 'needs',\n",
       " 'negative',\n",
       " 'negotiations',\n",
       " 'nem',\n",
       " 'nevada',\n",
       " 'never',\n",
       " 'new',\n",
       " 'new book',\n",
       " 'new cases',\n",
       " 'new coronavirus',\n",
       " 'new covid',\n",
       " 'new jersey',\n",
       " 'new poll',\n",
       " 'new virus',\n",
       " 'new york',\n",
       " 'news',\n",
       " 'news conference',\n",
       " 'news contributor',\n",
       " 'nex',\n",
       " 'next',\n",
       " 'next week',\n",
       " 'nf',\n",
       " 'nfauci',\n",
       " 'nfbi',\n",
       " 'nfederal',\n",
       " 'nfirst',\n",
       " 'nfl',\n",
       " 'nflorida',\n",
       " 'nfmr',\n",
       " 'nformer',\n",
       " 'nfox',\n",
       " 'nfratfe',\n",
       " 'nfws',\n",
       " 'ng',\n",
       " 'ngeorge',\n",
       " 'ngeorge floyd',\n",
       " 'ngop',\n",
       " 'ngov',\n",
       " 'nh',\n",
       " 'nharris',\n",
       " 'nhouse',\n",
       " 'nhow',\n",
       " 'nhurricane',\n",
       " 'ni',\n",
       " 'ni sen',\n",
       " 'ni trump',\n",
       " 'niece',\n",
       " 'night',\n",
       " 'night protests',\n",
       " 'nilihi',\n",
       " 'nin',\n",
       " 'nj',\n",
       " 'njacob',\n",
       " 'njoe',\n",
       " 'njoe biden',\n",
       " 'njohn',\n",
       " 'njudge',\n",
       " 'njustice',\n",
       " 'nkamala',\n",
       " 'nkamala harris',\n",
       " 'nl',\n",
       " 'nm',\n",
       " 'nmark',\n",
       " 'nmary',\n",
       " 'nmary trump',\n",
       " 'nmayor',\n",
       " 'nmichael',\n",
       " 'nmike',\n",
       " 'nminneapolis',\n",
       " 'nmn',\n",
       " 'nmore',\n",
       " 'nmsnbc',\n",
       " 'nnational',\n",
       " 'nnbc',\n",
       " 'nnbc news',\n",
       " 'nnew',\n",
       " 'nnew york',\n",
       " 'nnm',\n",
       " 'nno',\n",
       " 'nny',\n",
       " 'nnyc',\n",
       " 'nnypd',\n",
       " 'nnyt',\n",
       " 'nnyt trump',\n",
       " 'nobama',\n",
       " 'nominate',\n",
       " 'nomination',\n",
       " 'nominee',\n",
       " 'non',\n",
       " 'none',\n",
       " 'none one',\n",
       " 'north',\n",
       " 'north carolina',\n",
       " 'nothing',\n",
       " 'nov',\n",
       " 'november',\n",
       " 'november election',\n",
       " 'npelosi',\n",
       " 'npence',\n",
       " 'nplease',\n",
       " 'npolice',\n",
       " 'npoll',\n",
       " 'nportland',\n",
       " 'npres',\n",
       " 'npres trump',\n",
       " 'npresident',\n",
       " 'npresident trump',\n",
       " 'nprotesters',\n",
       " 'nprotests',\n",
       " 'nr',\n",
       " 'nrep',\n",
       " 'nreport',\n",
       " 'nrepublicans',\n",
       " 'nrev',\n",
       " 'ns',\n",
       " 'nseattle',\n",
       " 'nsen',\n",
       " 'nsenate',\n",
       " 'nsome',\n",
       " 'nsoon',\n",
       " 'nsource',\n",
       " 'nsteve',\n",
       " 'nsupreme',\n",
       " 'nsupreme court',\n",
       " 'nt',\n",
       " 'ntexas',\n",
       " 'nthe',\n",
       " 'nthousands',\n",
       " 'ntop',\n",
       " 'ntrump',\n",
       " 'ntrump admin',\n",
       " 'ntrump biden',\n",
       " 'ntrump calls',\n",
       " 'ntrump campaign',\n",
       " 'ntrump claims',\n",
       " 'ntrump holds',\n",
       " 'ntrump says',\n",
       " 'ntrump threatens',\n",
       " 'ntwo',\n",
       " 'nu',\n",
       " 'nui',\n",
       " 'number',\n",
       " 'numbers',\n",
       " 'nun',\n",
       " 'nursing',\n",
       " 'nv',\n",
       " 'nvirus',\n",
       " 'nw',\n",
       " 'nwapo',\n",
       " 'nwh',\n",
       " 'nwhat',\n",
       " 'nwhite',\n",
       " 'nwhite house',\n",
       " 'ny',\n",
       " 'nyc',\n",
       " 'nyc mayor',\n",
       " 'nypd',\n",
       " 'nyt',\n",
       " 'nyt trump']"
      ]
     },
     "execution_count": 50,
     "metadata": {},
     "output_type": "execute_result"
    }
   ],
   "source": [
    "n_begin"
   ]
  },
  {
   "cell_type": "code",
   "execution_count": null,
   "metadata": {},
   "outputs": [],
   "source": []
  },
  {
   "cell_type": "code",
   "execution_count": null,
   "metadata": {},
   "outputs": [],
   "source": [
    "# Bayes fold test with CountVec\n",
    "folds = list(range(5, 100, 5))\n",
    "plot_naive_bayes(X_train, y_train, folds)"
   ]
  },
  {
   "cell_type": "code",
   "execution_count": null,
   "metadata": {},
   "outputs": [],
   "source": [
    "eval_naive_bayes(X_train_T, y_train_T, folds=100)"
   ]
  },
  {
   "cell_type": "code",
   "execution_count": 122,
   "metadata": {},
   "outputs": [
    {
     "data": {
      "image/png": "[encoded data removed]",
      "text/plain": [
       "<Figure size 432x288 with 1 Axes>"
      ]
     },
     "metadata": {
      "needs_background": "light"
     },
     "output_type": "display_data"
    }
   ],
   "source": [
    "# Bayes fold test with TfidfVec\n",
    "folds = list(range(5, 100, 5))\n",
    "plot_naive_bayes(X_train_T, y_train_T, folds)"
   ]
  },
  {
   "cell_type": "code",
   "execution_count": 72,
   "metadata": {},
   "outputs": [],
   "source": [
    "def _naive_bayes(X, y, folds=20, fit_prior=False):\n",
    "    kf = KFold(n_splits=folds, shuffle=True)\n",
    "    accuracy = []\n",
    "    \n",
    "    for train, test in kf.split(X):\n",
    "        model = MultinomialNB(alpha=1, fit_prior=fit_prior)\n",
    "        model.fit(X.iloc[train], y.iloc[train])\n",
    "        accuracy.append(model.score(X.iloc[test], y.iloc[test]))\n",
    "    \n",
    "    return model, np.mean(accuracy)"
   ]
  },
  {
   "cell_type": "code",
   "execution_count": 118,
   "metadata": {},
   "outputs": [],
   "source": [
    "y_hat, _y_test, model = _naive_bayes(X_train, y_train)"
   ]
  },
  {
   "cell_type": "code",
   "execution_count": 120,
   "metadata": {},
   "outputs": [
    {
     "data": {
      "text/plain": [
       "0.1789090909090909"
      ]
     },
     "execution_count": 120,
     "metadata": {},
     "output_type": "execute_result"
    }
   ],
   "source": [
    "correct = 0\n",
    "for i in range(len(y_hat)):\n",
    "    if y_hat[i] == _y_test[i]:\n",
    "        correct += 1\n",
    "        \n",
    "correct / len(_y_test)"
   ]
  },
  {
   "cell_type": "code",
   "execution_count": 91,
   "metadata": {},
   "outputs": [
    {
     "data": {
      "text/plain": [
       "(167500, 20625)"
      ]
     },
     "execution_count": 91,
     "metadata": {},
     "output_type": "execute_result"
    }
   ],
   "source": [
    "len(X_test), len(y_test)"
   ]
  },
  {
   "cell_type": "code",
   "execution_count": 121,
   "metadata": {},
   "outputs": [
    {
     "data": {
      "image/png": "[encoded data removed]",
      "text/plain": [
       "<Figure size 432x288 with 2 Axes>"
      ]
     },
     "metadata": {
      "needs_background": "light"
     },
     "output_type": "display_data"
    }
   ],
   "source": [
    "plot_confusion_matrix(model, X_test, y_test)  \n",
    "plt.show()"
   ]
  },
  {
   "cell_type": "code",
   "execution_count": 96,
   "metadata": {},
   "outputs": [],
   "source": [
    "d = {}\n",
    "for elem in y_test:\n",
    "    if elem not in d:\n",
    "        d[elem] = 1\n",
    "    d[elem] += 1"
   ]
  },
  {
   "cell_type": "code",
   "execution_count": 100,
   "metadata": {},
   "outputs": [
    {
     "name": "stdout",
     "output_type": "stream",
     "text": [
      "MSNBCW:45104 --> 26.93%\n",
      "BBCNEWS:30376 --> 18.13%\n",
      "CNNW:48954 --> 29.23%\n",
      "FOXNEWSW:43070 --> 25.71%\n"
     ]
    }
   ],
   "source": [
    "for k, v in d.items():\n",
    "    print(f'{k}:{v} --> {round(v/sum(d.values()), 4) * 100}%')"
   ]
  },
  {
   "cell_type": "code",
   "execution_count": 128,
   "metadata": {},
   "outputs": [],
   "source": [
    "T_y_hat, T_y_test, T_model, T_accuracy = _naive_bayes(X_train_T, y_train_T)"
   ]
  },
  {
   "cell_type": "code",
   "execution_count": 129,
   "metadata": {},
   "outputs": [
    {
     "name": "stdout",
     "output_type": "stream",
     "text": [
      "0.1789093825427889\n"
     ]
    },
    {
     "data": {
      "image/png": "[encoded data removed]",
      "text/plain": [
       "<Figure size 432x288 with 2 Axes>"
      ]
     },
     "metadata": {
      "needs_background": "light"
     },
     "output_type": "display_data"
    }
   ],
   "source": [
    "print(T_accuracy)\n",
    "plot_confusion_matrix(T_model, X_test_T, y_test_T)  \n",
    "plt.show()"
   ]
  },
  {
   "cell_type": "markdown",
   "metadata": {},
   "source": [
    "##### With only summer for MSNBC/Fox"
   ]
  },
  {
   "cell_type": "code",
   "execution_count": 213,
   "metadata": {},
   "outputs": [],
   "source": [
    "model, score = _naive_bayes(X_train, y_train)"
   ]
  },
  {
   "cell_type": "code",
   "execution_count": 214,
   "metadata": {},
   "outputs": [
    {
     "data": {
      "text/plain": [
       "0.7709763511238158"
      ]
     },
     "execution_count": 214,
     "metadata": {},
     "output_type": "execute_result"
    }
   ],
   "source": [
    "score"
   ]
  },
  {
   "cell_type": "code",
   "execution_count": 215,
   "metadata": {},
   "outputs": [
    {
     "data": {
      "image/png": "[encoded data removed]",
      "text/plain": [
       "<Figure size 432x288 with 2 Axes>"
      ]
     },
     "metadata": {
      "needs_background": "light"
     },
     "output_type": "display_data"
    }
   ],
   "source": [
    "plot_confusion_matrix(model, X_train, y_train)  \n",
    "plt.show()"
   ]
  },
  {
   "cell_type": "code",
   "execution_count": 15,
   "metadata": {},
   "outputs": [
    {
     "name": "stdout",
     "output_type": "stream",
     "text": [
      "0.7709265227573094\n"
     ]
    },
    {
     "data": {
      "image/png": "[encoded data removed]",
      "text/plain": [
       "<Figure size 432x288 with 2 Axes>"
      ]
     },
     "metadata": {
      "needs_background": "light"
     },
     "output_type": "display_data"
    }
   ],
   "source": [
    "model, score = _naive_bayes(X_train, y_train)\n",
    "print(score)\n",
    "plot_confusion_matrix(model, X_train, y_train)  \n",
    "plt.show()"
   ]
  },
  {
   "cell_type": "code",
   "execution_count": null,
   "metadata": {},
   "outputs": [],
   "source": [
    "folds = list(range(5, 20, 5))\n",
    "plot_naive_bayes(X_train, y_train, folds)"
   ]
  },
  {
   "cell_type": "code",
   "execution_count": 28,
   "metadata": {},
   "outputs": [
    {
     "name": "stdout",
     "output_type": "stream",
     "text": [
      "0.7662751446656708\n"
     ]
    },
    {
     "data": {
      "image/png": "[encoded data removed]",
      "text/plain": [
       "<Figure size 432x288 with 2 Axes>"
      ]
     },
     "metadata": {
      "needs_background": "light"
     },
     "output_type": "display_data"
    }
   ],
   "source": [
    "model, score = _naive_bayes(X_train, y_train, fit_prior=True)\n",
    "print(score)\n",
    "plot_confusion_matrix(model, X_train, y_train)  \n",
    "plt.show()"
   ]
  },
  {
   "cell_type": "code",
   "execution_count": 260,
   "metadata": {},
   "outputs": [],
   "source": [
    "def plot_roc(X, y, vec_type='Count'):\n",
    "    y_net = [1 if net == 'MSNBCW' else 0 for net in y]\n",
    "    X_train, X_test, y_train, y_test = train_test_split(X, y_net, train_size=0.33, shuffle=True, stratify=y)\n",
    "    fig, ax = plt.subplots()\n",
    "    \n",
    "    model = MultinomialNB()\n",
    "    model.fit(X_train, y_train)\n",
    "    y_hat = model.predict_proba(X_test)\n",
    "    fpr, tpr, thresh = roc_curve(y_test, y_hat[:, 1])\n",
    "    \n",
    "    ax.plot(fpr, tpr)\n",
    "    ax.plot([0,1], [0,1], ls='--', color='k')\n",
    "    ax.set_title(f'Naive Bayes ROC Curve {vec_type}')\n",
    "    ax.set_xlabel('False Positive Rate')\n",
    "    ax.set_ylabel('True Positive Rate')\n",
    "    \n",
    "    return thresh"
   ]
  },
  {
   "cell_type": "code",
   "execution_count": 70,
   "metadata": {},
   "outputs": [
    {
     "data": {
      "text/plain": [
       "array([2.00000000e+00, 1.00000000e+00, 1.00000000e+00, ...,\n",
       "       4.64578677e-13, 3.10342080e-13, 6.22990360e-16])"
      ]
     },
     "execution_count": 70,
     "metadata": {},
     "output_type": "execute_result"
    },
    {
     "data": {
      "image/png": "[encoded data removed]",
      "text/plain": [
       "<Figure size 432x288 with 1 Axes>"
      ]
     },
     "metadata": {
      "needs_background": "light"
     },
     "output_type": "display_data"
    }
   ],
   "source": [
    "plot_roc(X_train, y_train)"
   ]
  },
  {
   "cell_type": "code",
   "execution_count": 74,
   "metadata": {},
   "outputs": [
    {
     "name": "stdout",
     "output_type": "stream",
     "text": [
      "0.7927873301468794\n"
     ]
    },
    {
     "data": {
      "image/png": "[encoded data removed]",
      "text/plain": [
       "<Figure size 432x288 with 2 Axes>"
      ]
     },
     "metadata": {
      "needs_background": "light"
     },
     "output_type": "display_data"
    }
   ],
   "source": [
    "model, score = _naive_bayes(X_train_T, y_train_T, fit_prior=False)\n",
    "print(score)\n",
    "plot_confusion_matrix(model, X_train_T, y_train_T)  \n",
    "plt.show()"
   ]
  },
  {
   "cell_type": "code",
   "execution_count": 71,
   "metadata": {
    "scrolled": true
   },
   "outputs": [
    {
     "data": {
      "text/plain": [
       "array([1.99926543, 0.99926543, 0.98920947, ..., 0.00881591, 0.00877571,\n",
       "       0.00290312])"
      ]
     },
     "execution_count": 71,
     "metadata": {},
     "output_type": "execute_result"
    },
    {
     "data": {
      "image/png": "[encoded data removed]",
      "text/plain": [
       "<Figure size 432x288 with 1 Axes>"
      ]
     },
     "metadata": {
      "needs_background": "light"
     },
     "output_type": "display_data"
    }
   ],
   "source": [
    "# Save this roc\n",
    "\n",
    "plot_roc(X_train_T, y_train_T, vec_type='Tfidf')"
   ]
  },
  {
   "cell_type": "markdown",
   "metadata": {},
   "source": [
    "#### Random Forest Classifier"
   ]
  },
  {
   "cell_type": "code",
   "execution_count": 264,
   "metadata": {},
   "outputs": [],
   "source": [
    " def eval_random_forest(X, y, folds=10, n_estimators=100, max_depth=5, max_leaf=None, max_features='log2'):\n",
    "    kf = KFold(n_splits=folds, shuffle=True)\n",
    "    accuracy = []\n",
    "    oob = []\n",
    "    iters = 0\n",
    "    \n",
    "    for train, test in kf.split(X):\n",
    "        forest = RandomForestClassifier(n_estimators=n_estimators, \n",
    "                                        max_depth=max_depth, n_jobs=-1, \n",
    "                                        max_leaf_nodes=max_leaf, max_features=max_features, \n",
    "                                        oob_score=True)\n",
    "        forest.fit(X.iloc[train], y.iloc[train])\n",
    "        accuracy.append(forest.score(X.iloc[test], y.iloc[test]))\n",
    "        oob.append(forest.oob_score_)\n",
    "        \n",
    "        print(iters)\n",
    "        iters += 1\n",
    "    \n",
    "    return np.mean(accuracy), np.mean(oob), forest"
   ]
  },
  {
   "cell_type": "code",
   "execution_count": 159,
   "metadata": {},
   "outputs": [
    {
     "name": "stdout",
     "output_type": "stream",
     "text": [
      "0.31232727272727273\n"
     ]
    }
   ],
   "source": [
    "score, model = eval_random_forest(X_train, y_train, folds=10, \n",
    "                                  n_estimators=10, max_depth=10, max_leaf=None)\n",
    "print(score)"
   ]
  },
  {
   "cell_type": "markdown",
   "metadata": {},
   "source": [
    "0.31224242424242427 =  folds=10, n_estimators=100, max_depth=5, max_leaf=None\n",
    "\n",
    "0.31224242424242427 =  folds=10, n_estimators=10, max_depth=5, max_leaf=None\n",
    "\n",
    "0.31224242424242427 =  folds=10, n_estimators=10, max_depth=10, max_leaf=None\n",
    "\n",
    "0.3122060606060606  =  folds=10, n_estimators=100, max_depth=10, max_leaf=100\n",
    "\n",
    "0.3122787878787879  =  folds=100, n_estimators=100, max_depth=10, max_leaf=100\n",
    "\n",
    "0.31220606060606065 = folds=10, n_estimators=10, max_depth=10, max_leaf=10"
   ]
  },
  {
   "cell_type": "code",
   "execution_count": 154,
   "metadata": {},
   "outputs": [
    {
     "data": {
      "text/plain": [
       "1"
      ]
     },
     "execution_count": 154,
     "metadata": {},
     "output_type": "execute_result"
    }
   ],
   "source": [
    "model.n_features_"
   ]
  },
  {
   "cell_type": "code",
   "execution_count": 138,
   "metadata": {},
   "outputs": [
    {
     "data": {
      "image/png": "[encoded data removed]",
      "text/plain": [
       "<Figure size 432x288 with 2 Axes>"
      ]
     },
     "metadata": {
      "needs_background": "light"
     },
     "output_type": "display_data"
    }
   ],
   "source": [
    "# 0.31224242424242427 =  folds=10, n_estimators=100, max_depth=5, max_leaf=None\n",
    "plot_confusion_matrix(model, X_train, y_train)  \n",
    "plt.show()"
   ]
  },
  {
   "cell_type": "code",
   "execution_count": 17,
   "metadata": {},
   "outputs": [],
   "source": [
    "def test_forest_folds(X, y, fold_lst):\n",
    "    accuracy = []\n",
    "    for folds in fold_lst:\n",
    "        accuracy.append(eval_random_forest(X, y, folds=folds))\n",
    "        \n",
    "    return accuracy\n",
    "\n",
    "def test_forest_depth(X, y, depth_lst):\n",
    "    accuracy = []\n",
    "    for depth in depth_lst:\n",
    "        accuracy.append(eval_random_forest(X, y, max_depth=depth))\n",
    "        \n",
    "    return accuracy\n",
    "\n",
    "def test_forest_estimators(X, y, est_lst):\n",
    "    accuracy = []\n",
    "    for est in est_lst:\n",
    "        accuracy.append(eval_random_forest(X, y, n_estimators=est, max_depth=50))\n",
    "        \n",
    "    return accuracy\n",
    "\n",
    "def test_max_leafs(X, y, leaf_lst):\n",
    "    accuracy = []\n",
    "    for leaf in leaf_lst:\n",
    "        accuracy.append(eval_random_forest(X, y, max_leaf=leaf))\n",
    "        \n",
    "    return accuracy\n",
    "\n",
    "def plot_folds_random_forest_folds(X, y, fold_lst):\n",
    "    fig, ax = plt.subplots()\n",
    "    xs = fold_lst\n",
    "    ys = test_forest_folds(X, y, fold_lst)\n",
    "    ax.plot(xs, ys)\n",
    "    ax.set_title('Random Forest Accuracy by Folds')\n",
    "    ax.set_ylabel('Accuracy')\n",
    "    ax.set_xlabel('Folds');\n",
    "    \n",
    "def plot_depth_random_forest(X, y, depth_lst):\n",
    "    fig, ax = plt.subplots()\n",
    "    xs = depth_lst\n",
    "    ys = test_forest_depth(X, y, depth_lst)\n",
    "    ax.plot(xs, ys)\n",
    "    ax.set_title('Random Forest Accuracy by Depth')\n",
    "    ax.set_ylabel('Accuracy')\n",
    "    ax.set_xlabel('Depth');"
   ]
  },
  {
   "cell_type": "code",
   "execution_count": 164,
   "metadata": {
    "scrolled": true
   },
   "outputs": [
    {
     "data": {
      "text/plain": [
       "[(0.31220606060606054,\n",
       "  RandomForestClassifier(max_depth=5, max_features=None, n_estimators=10,\n",
       "                         n_jobs=-1)),\n",
       " (0.31231515151515155,\n",
       "  RandomForestClassifier(max_depth=10, max_features=None, n_estimators=10,\n",
       "                         n_jobs=-1)),\n",
       " (0.31225454545454545,\n",
       "  RandomForestClassifier(max_depth=20, max_features=None, n_estimators=10,\n",
       "                         n_jobs=-1)),\n",
       " (0.31225454545454545,\n",
       "  RandomForestClassifier(max_depth=30, max_features=None, n_estimators=10,\n",
       "                         n_jobs=-1)),\n",
       " (0.3122181818181818,\n",
       "  RandomForestClassifier(max_depth=100, max_features=None, n_estimators=10,\n",
       "                         n_jobs=-1))]"
      ]
     },
     "execution_count": 164,
     "metadata": {},
     "output_type": "execute_result"
    }
   ],
   "source": [
    "depth = [5, 10, 20, 30, 100]\n",
    "test_forest_depth(X_train, y_train, depth)"
   ]
  },
  {
   "cell_type": "code",
   "execution_count": 176,
   "metadata": {},
   "outputs": [
    {
     "data": {
      "text/plain": [
       "[(0.31221818181818184,\n",
       "  RandomForestClassifier(max_depth=500, max_features=None, n_jobs=-1))]"
      ]
     },
     "execution_count": 176,
     "metadata": {},
     "output_type": "execute_result"
    }
   ],
   "source": [
    "test_forest_depth(X_train, y_train, [500])"
   ]
  },
  {
   "cell_type": "code",
   "execution_count": 170,
   "metadata": {},
   "outputs": [
    {
     "data": {
      "text/plain": [
       "[(0.31225454545454545,\n",
       "  RandomForestClassifier(max_depth=50, max_features=None, n_estimators=5,\n",
       "                         n_jobs=-1)),\n",
       " (0.312169696969697,\n",
       "  RandomForestClassifier(max_depth=50, max_features=None, n_estimators=10,\n",
       "                         n_jobs=-1)),\n",
       " (0.3122666666666667,\n",
       "  RandomForestClassifier(max_depth=50, max_features=None, n_estimators=20,\n",
       "                         n_jobs=-1)),\n",
       " (0.3122545454545454,\n",
       "  RandomForestClassifier(max_depth=50, max_features=None, n_estimators=30,\n",
       "                         n_jobs=-1)),\n",
       " (0.312230303030303,\n",
       "  RandomForestClassifier(max_depth=50, max_features=None, n_estimators=50,\n",
       "                         n_jobs=-1))]"
      ]
     },
     "execution_count": 170,
     "metadata": {},
     "output_type": "execute_result"
    }
   ],
   "source": [
    "estimators = [5, 10, 20, 30, 50]\n",
    "test_forest_estimators(X_train, y_train, estimators)"
   ]
  },
  {
   "cell_type": "code",
   "execution_count": 177,
   "metadata": {},
   "outputs": [
    {
     "data": {
      "text/plain": [
       "[(0.2632,\n",
       "  RandomForestClassifier(max_depth=5, max_features=None, max_leaf_nodes=5,\n",
       "                         n_jobs=-1)),\n",
       " (0.2632,\n",
       "  RandomForestClassifier(max_depth=5, max_features=None, max_leaf_nodes=10,\n",
       "                         n_jobs=-1)),\n",
       " (0.27559999999999996,\n",
       "  RandomForestClassifier(max_depth=5, max_features=None, max_leaf_nodes=20,\n",
       "                         n_jobs=-1)),\n",
       " (0.25360000000000005,\n",
       "  RandomForestClassifier(max_depth=5, max_features=None, max_leaf_nodes=30,\n",
       "                         n_jobs=-1)),\n",
       " (0.2604,\n",
       "  RandomForestClassifier(max_depth=5, max_features=None, max_leaf_nodes=50,\n",
       "                         n_jobs=-1))]"
      ]
     },
     "execution_count": 177,
     "metadata": {},
     "output_type": "execute_result"
    }
   ],
   "source": [
    "leafs = [5, 10, 20, 30, 50]\n",
    "test_max_leafs(X, y, leafs)"
   ]
  },
  {
   "cell_type": "code",
   "execution_count": 139,
   "metadata": {},
   "outputs": [
    {
     "name": "stdout",
     "output_type": "stream",
     "text": [
      "0.31224242424242427\n"
     ]
    }
   ],
   "source": [
    "score_T, model_T = eval_random_forest(X_train_T, y_train_T)\n",
    "print(score)"
   ]
  },
  {
   "cell_type": "code",
   "execution_count": 140,
   "metadata": {},
   "outputs": [
    {
     "data": {
      "image/png": "[encoded data removed]",
      "text/plain": [
       "<Figure size 432x288 with 2 Axes>"
      ]
     },
     "metadata": {
      "needs_background": "light"
     },
     "output_type": "display_data"
    }
   ],
   "source": [
    "plot_confusion_matrix(model_T, X_train_T, y_train_T)  \n",
    "plt.show()"
   ]
  },
  {
   "cell_type": "markdown",
   "metadata": {},
   "source": [
    "##### With only summer for MSNBC/Fox"
   ]
  },
  {
   "cell_type": "code",
   "execution_count": 24,
   "metadata": {},
   "outputs": [
    {
     "name": "stdout",
     "output_type": "stream",
     "text": [
      "0\n",
      "1\n",
      "2\n",
      "3\n",
      "4\n",
      "0.5805743487596651\n"
     ]
    }
   ],
   "source": [
    "score, model = eval_random_forest(X_train, y_train, folds=5, n_estimators=10, max_depth=10, max_leaf=10)\n",
    "print(score)"
   ]
  },
  {
   "cell_type": "code",
   "execution_count": 25,
   "metadata": {},
   "outputs": [
    {
     "data": {
      "image/png": "[encoded data removed]",
      "text/plain": [
       "<Figure size 432x288 with 2 Axes>"
      ]
     },
     "metadata": {
      "needs_background": "light"
     },
     "output_type": "display_data"
    }
   ],
   "source": [
    "# Random forest confusion matrix\n",
    "plot_confusion_matrix(model, X_train, y_train)  \n",
    "plt.show()"
   ]
  },
  {
   "cell_type": "code",
   "execution_count": 22,
   "metadata": {},
   "outputs": [
    {
     "name": "stdout",
     "output_type": "stream",
     "text": [
      "0\n",
      "1\n",
      "2\n",
      "3\n",
      "4\n",
      "5\n",
      "6\n",
      "7\n",
      "8\n",
      "9\n",
      "0.5659229632189098\n"
     ]
    }
   ],
   "source": [
    "score, model = eval_random_forest(X_train, y_train, folds=10, n_estimators=100, max_depth=10, max_leaf=10)\n",
    "print(score)"
   ]
  },
  {
   "cell_type": "code",
   "execution_count": 23,
   "metadata": {},
   "outputs": [
    {
     "data": {
      "image/png": "[encoded data removed]",
      "text/plain": [
       "<Figure size 432x288 with 2 Axes>"
      ]
     },
     "metadata": {
      "needs_background": "light"
     },
     "output_type": "display_data"
    }
   ],
   "source": [
    "plot_confusion_matrix(model, X_train, y_train)  \n",
    "plt.show()"
   ]
  },
  {
   "cell_type": "code",
   "execution_count": 19,
   "metadata": {},
   "outputs": [
    {
     "data": {
      "text/plain": [
       "(60199, 1901)"
      ]
     },
     "execution_count": 19,
     "metadata": {},
     "output_type": "execute_result"
    }
   ],
   "source": [
    "X_train.shape"
   ]
  },
  {
   "cell_type": "code",
   "execution_count": 75,
   "metadata": {},
   "outputs": [
    {
     "name": "stdout",
     "output_type": "stream",
     "text": [
      "0\n",
      "1\n",
      "2\n",
      "3\n",
      "4\n",
      "5\n",
      "6\n",
      "7\n",
      "8\n",
      "9\n",
      "0\n",
      "1\n",
      "2\n",
      "3\n",
      "4\n",
      "5\n",
      "6\n",
      "7\n",
      "8\n",
      "9\n",
      "0\n",
      "1\n",
      "2\n",
      "3\n",
      "4\n",
      "5\n",
      "6\n",
      "7\n",
      "8\n",
      "9\n",
      "0\n",
      "1\n",
      "2\n",
      "3\n",
      "4\n",
      "5\n",
      "6\n",
      "7\n",
      "8\n",
      "9\n",
      "0\n",
      "1\n",
      "2\n",
      "3\n",
      "4\n",
      "5\n",
      "6\n",
      "7\n",
      "8\n",
      "9\n"
     ]
    },
    {
     "data": {
      "text/plain": [
       "[(0.5608897240686883,\n",
       "  RandomForestClassifier(max_depth=5, max_features='log2', n_jobs=-1)),\n",
       " (0.5713715675554543,\n",
       "  RandomForestClassifier(max_depth=10, max_features='log2', n_jobs=-1)),\n",
       " (0.6248443191245441,\n",
       "  RandomForestClassifier(max_depth=20, max_features='log2', n_jobs=-1)),\n",
       " (0.6737985802434043,\n",
       "  RandomForestClassifier(max_depth=30, max_features='log2', n_jobs=-1)),\n",
       " (0.8132361116707392,\n",
       "  RandomForestClassifier(max_depth=100, max_features='log2', n_jobs=-1))]"
      ]
     },
     "execution_count": 75,
     "metadata": {},
     "output_type": "execute_result"
    }
   ],
   "source": [
    "depth = [5, 10, 20, 30, 100]\n",
    "test_forest_depth(X_train, y_train, depth)"
   ]
  },
  {
   "cell_type": "code",
   "execution_count": 80,
   "metadata": {},
   "outputs": [
    {
     "name": "stdout",
     "output_type": "stream",
     "text": [
      "0\n",
      "1\n",
      "2\n",
      "3\n",
      "4\n",
      "5\n",
      "6\n",
      "7\n",
      "8\n",
      "9\n",
      "0\n",
      "1\n",
      "2\n",
      "3\n",
      "4\n",
      "5\n",
      "6\n",
      "7\n",
      "8\n",
      "9\n",
      "0\n",
      "1\n",
      "2\n",
      "3\n",
      "4\n",
      "5\n",
      "6\n",
      "7\n",
      "8\n",
      "9\n",
      "0\n",
      "1\n",
      "2\n",
      "3\n",
      "4\n",
      "5\n",
      "6\n",
      "7\n",
      "8\n",
      "9\n"
     ]
    },
    {
     "data": {
      "text/plain": [
       "[(0.7266401522531916,\n",
       "  RandomForestClassifier(max_depth=45, max_features='log2', n_jobs=-1)),\n",
       " (0.7589328311951247,\n",
       "  RandomForestClassifier(max_depth=60, max_features='log2', n_jobs=-1)),\n",
       " (0.7967574883301439,\n",
       "  RandomForestClassifier(max_depth=75, max_features='log2', n_jobs=-1)),\n",
       " (0.8079868208038885,\n",
       "  RandomForestClassifier(max_depth=90, max_features='log2', n_jobs=-1))]"
      ]
     },
     "execution_count": 80,
     "metadata": {},
     "output_type": "execute_result"
    }
   ],
   "source": [
    "depth = [45, 60, 75, 90]\n",
    "test_forest_depth(X_train, y_train, depth)"
   ]
  },
  {
   "cell_type": "code",
   "execution_count": 265,
   "metadata": {},
   "outputs": [
    {
     "name": "stdout",
     "output_type": "stream",
     "text": [
      "0\n",
      "1\n",
      "2\n",
      "3\n",
      "4\n",
      "5\n",
      "6\n",
      "7\n",
      "8\n",
      "9\n",
      "Accuracy = 0.8136348738408108, OOB = 0.8073186924280928\n"
     ]
    }
   ],
   "source": [
    "# save this model ... Accuracy = 0.8136348738408108, OOB = 0.8073186924280928\n",
    "# importance parameter for acccurracy is max_depth. deeper=better_accuracy (have not tested above 100..)\n",
    "accuracy, oob, forest = eval_random_forest(X_train, y_train, folds=10, n_estimators=100, max_depth=100)\n",
    "print(f'Accuracy = {accuracy}, OOB = {oob}')"
   ]
  },
  {
   "cell_type": "markdown",
   "metadata": {},
   "source": [
    "##### ROC Curve"
   ]
  },
  {
   "cell_type": "code",
   "execution_count": 78,
   "metadata": {},
   "outputs": [],
   "source": [
    "def plot_roc_forest(X, y, vec_type='(Count)', max_depth=10):\n",
    "    y_net = [1 if net == 'MSNBCW' else 0 for net in y]\n",
    "    X_train, X_test, y_train, y_test = train_test_split(X, y_net, train_size=0.33, shuffle=True, stratify=y)\n",
    "    fig, ax = plt.subplots()\n",
    "    \n",
    "    model = RandomForestClassifier(max_depth=max_depth, max_features='log2', n_jobs=-1)\n",
    "    model.fit(X_train, y_train)\n",
    "    y_hat = model.predict_proba(X_test)\n",
    "    fpr, tpr, thresh = roc_curve(y_test, y_hat[:,1])\n",
    "    \n",
    "    ax.plot(fpr, tpr)\n",
    "    ax.plot([0,1], [0,1], ls='--', color='k')\n",
    "    ax.set_title(f'Random Forest ROC Curve {vec_type}')\n",
    "    ax.set_xlabel('False Positive Rate')\n",
    "    ax.set_ylabel('True Positive Rate')\n",
    "    \n",
    "    return thresh"
   ]
  },
  {
   "cell_type": "code",
   "execution_count": 81,
   "metadata": {},
   "outputs": [
    {
     "data": {
      "text/plain": [
       "array([2.00000000e+00, 1.00000000e+00, 9.98571429e-01, ...,\n",
       "       2.00000000e-03, 1.11111111e-03, 0.00000000e+00])"
      ]
     },
     "execution_count": 81,
     "metadata": {},
     "output_type": "execute_result"
    },
    {
     "data": {
      "image/png": "[encoded data removed]",
      "text/plain": [
       "<Figure size 432x288 with 1 Axes>"
      ]
     },
     "metadata": {
      "needs_background": "light"
     },
     "output_type": "display_data"
    }
   ],
   "source": [
    "plot_roc_forest(X_train, y_train, vec_type='(Count)')"
   ]
  },
  {
   "cell_type": "code",
   "execution_count": 303,
   "metadata": {},
   "outputs": [],
   "source": [
    "# feature importance \n",
    "from sklearn.inspection import permutation_importance, plot_partial_dependence, partial_dependence\n",
    "\n",
    "# gini\n",
    "def chart_gini_import(model, X, size=15):\n",
    "    fig, ax = plt.subplots()\n",
    "    feature_scores = pd.Series(model.feature_importances_, index=X.columns)\n",
    "    feature_scores = feature_scores.sort_values()\n",
    "    ax = feature_scores[:15].plot(kind='barh', figsize=(10,4))\n",
    "    ax.set_title('Gini Importance')\n",
    "    ax.set_xlabel('Avg. Contribution to Info Gain');\n",
    "\n",
    "# permutations\n",
    "def chart_permutation_import(model, X, y, size=15, n_repeats=5):\n",
    "    fig, ax = plt.subplots()\n",
    "    perms = permutation_importance(model, X, y, n_repeats=n_repeats)\n",
    "    sorted_idx = perms.importances_mean.argsort()\n",
    "    ax.boxplot(perms.importances[sorted_idx[:size]].T, vert=False, labels=X.columns[sorted_idx])\n",
    "    ax.set_title('Permutation Importance');"
   ]
  },
  {
   "cell_type": "code",
   "execution_count": 304,
   "metadata": {},
   "outputs": [
    {
     "data": {
      "image/png": "[encoded data removed]",
      "text/plain": [
       "<Figure size 720x288 with 1 Axes>"
      ]
     },
     "metadata": {
      "needs_background": "light"
     },
     "output_type": "display_data"
    }
   ],
   "source": [
    "# gini no n-grams\n",
    "chart_gini_import(forest, X_train)"
   ]
  },
  {
   "cell_type": "code",
   "execution_count": 278,
   "metadata": {},
   "outputs": [
    {
     "data": {
      "text/plain": [
       "<sklearn.inspection._plot.partial_dependence.PartialDependenceDisplay at 0x7ff17aab9150>"
      ]
     },
     "execution_count": 278,
     "metadata": {},
     "output_type": "execute_result"
    },
    {
     "data": {
      "image/png": "[encoded data removed]",
      "text/plain": [
       "<Figure size 432x288 with 6 Axes>"
      ]
     },
     "metadata": {
      "needs_background": "light"
     },
     "output_type": "display_data"
    }
   ],
   "source": [
    "plot_partial_dependence(forest, X_train, features = ['across', 'act', 'accuses', 'action', 'acting'])"
   ]
  },
  {
   "cell_type": "code",
   "execution_count": 26,
   "metadata": {
    "scrolled": false
   },
   "outputs": [
    {
     "data": {
      "text/plain": [
       "(122225, 2282)"
      ]
     },
     "execution_count": 26,
     "metadata": {},
     "output_type": "execute_result"
    }
   ],
   "source": [
    "X_test.shape"
   ]
  },
  {
   "cell_type": "code",
   "execution_count": 281,
   "metadata": {},
   "outputs": [
    {
     "data": {
      "text/plain": [
       "<sklearn.metrics._plot.confusion_matrix.ConfusionMatrixDisplay at 0x7fef7632d350>"
      ]
     },
     "execution_count": 281,
     "metadata": {},
     "output_type": "execute_result"
    },
    {
     "data": {
      "image/png": "[encoded data removed]",
      "text/plain": [
       "<Figure size 432x288 with 2 Axes>"
      ]
     },
     "metadata": {
      "needs_background": "light"
     },
     "output_type": "display_data"
    }
   ],
   "source": [
    "plot_confusion_matrix(forest, X_train, y_train)  "
   ]
  },
  {
   "cell_type": "markdown",
   "metadata": {},
   "source": [
    "##### EDA"
   ]
  },
  {
   "cell_type": "code",
   "execution_count": 12,
   "metadata": {},
   "outputs": [],
   "source": [
    "word_counts = get_dataframe(count_vec, feature_count)"
   ]
  },
  {
   "cell_type": "code",
   "execution_count": 25,
   "metadata": {},
   "outputs": [
    {
     "data": {
      "text/plain": [
       "2282"
      ]
     },
     "execution_count": 25,
     "metadata": {},
     "output_type": "execute_result"
    }
   ],
   "source": [
    "len(feature_count)"
   ]
  },
  {
   "cell_type": "code",
   "execution_count": 82,
   "metadata": {},
   "outputs": [],
   "source": [
    "tfidf_frame = get_dataframe(tfidf_vec, feature_tfidf)"
   ]
  },
  {
   "cell_type": "code",
   "execution_count": 13,
   "metadata": {},
   "outputs": [],
   "source": [
    "word_counts['network'] = chy_nets['channel']"
   ]
  },
  {
   "cell_type": "code",
   "execution_count": 14,
   "metadata": {},
   "outputs": [
    {
     "data": {
      "text/plain": [
       "(pandas.core.series.Series, pandas.core.frame.DataFrame)"
      ]
     },
     "execution_count": 14,
     "metadata": {},
     "output_type": "execute_result"
    }
   ],
   "source": [
    "type(chy_nets['channel']), type(word_counts)"
   ]
  },
  {
   "cell_type": "code",
   "execution_count": 15,
   "metadata": {},
   "outputs": [],
   "source": [
    "word_counts = word_counts.assign(network=chy_nets['channel'].values)"
   ]
  },
  {
   "cell_type": "code",
   "execution_count": 16,
   "metadata": {},
   "outputs": [],
   "source": [
    "fox_words = word_counts.loc[word_counts['network'] == 'FOXNEWSW']\n",
    "nbc_words = word_counts.loc[word_counts['network'] == 'MSNBCW']"
   ]
  },
  {
   "cell_type": "code",
   "execution_count": 17,
   "metadata": {},
   "outputs": [
    {
     "name": "stderr",
     "output_type": "stream",
     "text": [
      "/home/ubuntu/anaconda3/lib/python3.7/site-packages/pandas/core/frame.py:3697: SettingWithCopyWarning: \n",
      "A value is trying to be set on a copy of a slice from a DataFrame\n",
      "\n",
      "See the caveats in the documentation: http://pandas.pydata.org/pandas-docs/stable/indexing.html#indexing-view-versus-copy\n",
      "  errors=errors)\n"
     ]
    }
   ],
   "source": [
    "fox_words.drop('network', axis=1, inplace=True)\n",
    "top_fox_words = fox_words.sum().sort_values(ascending=False)"
   ]
  },
  {
   "cell_type": "code",
   "execution_count": 18,
   "metadata": {},
   "outputs": [],
   "source": [
    "nbc_words.drop('network', axis=1, inplace=True)\n",
    "top_nbc_words = nbc_words.sum().sort_values(ascending=False)"
   ]
  },
  {
   "cell_type": "code",
   "execution_count": 19,
   "metadata": {
    "scrolled": true
   },
   "outputs": [
    {
     "data": {
      "text/plain": [
       "trump              24826\n",
       "biden              11558\n",
       "president           8573\n",
       "police              7162\n",
       "president trump     6503\n",
       "covid               3805\n",
       "protests            3724\n",
       "court               3412\n",
       "house               3350\n",
       "news                3225\n",
       "com                 3141\n",
       "campaign            2600\n",
       "cities              2514\n",
       "election            2485\n",
       "supreme             2462\n",
       "debate              2405\n",
       "white               2388\n",
       "violence            2328\n",
       "supreme court       2317\n",
       "coronavirus         2297\n",
       "protesters          2271\n",
       "floyd               2164\n",
       "sen                 2156\n",
       "white house         2130\n",
       "america             2118\n",
       "dtype: int64"
      ]
     },
     "execution_count": 19,
     "metadata": {},
     "output_type": "execute_result"
    }
   ],
   "source": [
    "top_fox_words[:25]"
   ]
  },
  {
   "cell_type": "code",
   "execution_count": 20,
   "metadata": {},
   "outputs": [
    {
     "data": {
      "text/plain": [
       "trump          55196\n",
       "biden          15621\n",
       "covid           9413\n",
       "cases           8952\n",
       "virus           8247\n",
       "police          6784\n",
       "house           6249\n",
       "pres            5771\n",
       "election        5570\n",
       "protests        5463\n",
       "coronavirus     5272\n",
       "pres trump      5131\n",
       "white           4917\n",
       "sen             4540\n",
       "president       4466\n",
       "harris          4427\n",
       "floyd           4209\n",
       "campaign        4165\n",
       "white house     4063\n",
       "dr              3904\n",
       "death           3784\n",
       "rep             3747\n",
       "states          3727\n",
       "court           3562\n",
       "george          3518\n",
       "dtype: int64"
      ]
     },
     "execution_count": 20,
     "metadata": {},
     "output_type": "execute_result"
    }
   ],
   "source": [
    "top_nbc_words[:25]"
   ]
  },
  {
   "cell_type": "code",
   "execution_count": 87,
   "metadata": {},
   "outputs": [],
   "source": [
    "tfidf_frame = tfidf_frame.assign(network=chy_nets['channel'].values)"
   ]
  },
  {
   "cell_type": "code",
   "execution_count": 88,
   "metadata": {},
   "outputs": [],
   "source": [
    "fox_tfidf = word_counts.loc[word_counts['network'] == 'FOXNEWSW']\n",
    "nbc_tfidf = word_counts.loc[word_counts['network'] == 'MSNBCW']"
   ]
  },
  {
   "cell_type": "code",
   "execution_count": 91,
   "metadata": {},
   "outputs": [
    {
     "data": {
      "text/html": [
       "<div>\n",
       "<style scoped>\n",
       "    .dataframe tbody tr th:only-of-type {\n",
       "        vertical-align: middle;\n",
       "    }\n",
       "\n",
       "    .dataframe tbody tr th {\n",
       "        vertical-align: top;\n",
       "    }\n",
       "\n",
       "    .dataframe thead th {\n",
       "        text-align: right;\n",
       "    }\n",
       "</style>\n",
       "<table border=\"1\" class=\"dataframe\">\n",
       "  <thead>\n",
       "    <tr style=\"text-align: right;\">\n",
       "      <th></th>\n",
       "      <th>abortion</th>\n",
       "      <th>absentee</th>\n",
       "      <th>abuse</th>\n",
       "      <th>accept</th>\n",
       "      <th>accepts</th>\n",
       "      <th>access</th>\n",
       "      <th>accused</th>\n",
       "      <th>accuses</th>\n",
       "      <th>acks</th>\n",
       "      <th>acres</th>\n",
       "      <th>...</th>\n",
       "      <th>writer</th>\n",
       "      <th>wrong</th>\n",
       "      <th>wsj</th>\n",
       "      <th>year</th>\n",
       "      <th>years</th>\n",
       "      <th>yet</th>\n",
       "      <th>york</th>\n",
       "      <th>young</th>\n",
       "      <th>zone</th>\n",
       "      <th>network</th>\n",
       "    </tr>\n",
       "  </thead>\n",
       "  <tbody>\n",
       "    <tr>\n",
       "      <th>2</th>\n",
       "      <td>0</td>\n",
       "      <td>0</td>\n",
       "      <td>0</td>\n",
       "      <td>0</td>\n",
       "      <td>0</td>\n",
       "      <td>0</td>\n",
       "      <td>0</td>\n",
       "      <td>0</td>\n",
       "      <td>0</td>\n",
       "      <td>0</td>\n",
       "      <td>...</td>\n",
       "      <td>0</td>\n",
       "      <td>0</td>\n",
       "      <td>0</td>\n",
       "      <td>0</td>\n",
       "      <td>0</td>\n",
       "      <td>0</td>\n",
       "      <td>0</td>\n",
       "      <td>0</td>\n",
       "      <td>0</td>\n",
       "      <td>MSNBCW</td>\n",
       "    </tr>\n",
       "    <tr>\n",
       "      <th>3</th>\n",
       "      <td>0</td>\n",
       "      <td>0</td>\n",
       "      <td>0</td>\n",
       "      <td>0</td>\n",
       "      <td>0</td>\n",
       "      <td>0</td>\n",
       "      <td>0</td>\n",
       "      <td>0</td>\n",
       "      <td>0</td>\n",
       "      <td>0</td>\n",
       "      <td>...</td>\n",
       "      <td>0</td>\n",
       "      <td>0</td>\n",
       "      <td>0</td>\n",
       "      <td>0</td>\n",
       "      <td>0</td>\n",
       "      <td>0</td>\n",
       "      <td>0</td>\n",
       "      <td>0</td>\n",
       "      <td>0</td>\n",
       "      <td>MSNBCW</td>\n",
       "    </tr>\n",
       "    <tr>\n",
       "      <th>5</th>\n",
       "      <td>0</td>\n",
       "      <td>0</td>\n",
       "      <td>0</td>\n",
       "      <td>0</td>\n",
       "      <td>0</td>\n",
       "      <td>0</td>\n",
       "      <td>0</td>\n",
       "      <td>0</td>\n",
       "      <td>0</td>\n",
       "      <td>0</td>\n",
       "      <td>...</td>\n",
       "      <td>0</td>\n",
       "      <td>0</td>\n",
       "      <td>0</td>\n",
       "      <td>0</td>\n",
       "      <td>0</td>\n",
       "      <td>0</td>\n",
       "      <td>0</td>\n",
       "      <td>0</td>\n",
       "      <td>0</td>\n",
       "      <td>MSNBCW</td>\n",
       "    </tr>\n",
       "    <tr>\n",
       "      <th>7</th>\n",
       "      <td>0</td>\n",
       "      <td>0</td>\n",
       "      <td>0</td>\n",
       "      <td>0</td>\n",
       "      <td>0</td>\n",
       "      <td>0</td>\n",
       "      <td>0</td>\n",
       "      <td>0</td>\n",
       "      <td>0</td>\n",
       "      <td>0</td>\n",
       "      <td>...</td>\n",
       "      <td>0</td>\n",
       "      <td>0</td>\n",
       "      <td>0</td>\n",
       "      <td>0</td>\n",
       "      <td>0</td>\n",
       "      <td>0</td>\n",
       "      <td>0</td>\n",
       "      <td>0</td>\n",
       "      <td>0</td>\n",
       "      <td>MSNBCW</td>\n",
       "    </tr>\n",
       "    <tr>\n",
       "      <th>9</th>\n",
       "      <td>0</td>\n",
       "      <td>0</td>\n",
       "      <td>0</td>\n",
       "      <td>0</td>\n",
       "      <td>0</td>\n",
       "      <td>0</td>\n",
       "      <td>0</td>\n",
       "      <td>0</td>\n",
       "      <td>0</td>\n",
       "      <td>0</td>\n",
       "      <td>...</td>\n",
       "      <td>0</td>\n",
       "      <td>0</td>\n",
       "      <td>0</td>\n",
       "      <td>0</td>\n",
       "      <td>0</td>\n",
       "      <td>0</td>\n",
       "      <td>0</td>\n",
       "      <td>0</td>\n",
       "      <td>0</td>\n",
       "      <td>MSNBCW</td>\n",
       "    </tr>\n",
       "  </tbody>\n",
       "</table>\n",
       "<p>5 rows × 1902 columns</p>\n",
       "</div>"
      ],
      "text/plain": [
       "   abortion  absentee  abuse  accept  accepts  access  accused  accuses  acks  \\\n",
       "2         0         0      0       0        0       0        0        0     0   \n",
       "3         0         0      0       0        0       0        0        0     0   \n",
       "5         0         0      0       0        0       0        0        0     0   \n",
       "7         0         0      0       0        0       0        0        0     0   \n",
       "9         0         0      0       0        0       0        0        0     0   \n",
       "\n",
       "   acres  ...  writer  wrong  wsj  year  years  yet  york  young  zone  \\\n",
       "2      0  ...       0      0    0     0      0    0     0      0     0   \n",
       "3      0  ...       0      0    0     0      0    0     0      0     0   \n",
       "5      0  ...       0      0    0     0      0    0     0      0     0   \n",
       "7      0  ...       0      0    0     0      0    0     0      0     0   \n",
       "9      0  ...       0      0    0     0      0    0     0      0     0   \n",
       "\n",
       "   network  \n",
       "2   MSNBCW  \n",
       "3   MSNBCW  \n",
       "5   MSNBCW  \n",
       "7   MSNBCW  \n",
       "9   MSNBCW  \n",
       "\n",
       "[5 rows x 1902 columns]"
      ]
     },
     "execution_count": 91,
     "metadata": {},
     "output_type": "execute_result"
    }
   ],
   "source": [
    "nbc_tfidf.head()"
   ]
  },
  {
   "cell_type": "code",
   "execution_count": 112,
   "metadata": {},
   "outputs": [],
   "source": [
    "fox_top_tfidf = fox_tfidf.max().T.squeeze()"
   ]
  },
  {
   "cell_type": "code",
   "execution_count": 115,
   "metadata": {},
   "outputs": [],
   "source": [
    "fox_top_tfidf = fox_top_tfidf.sort_values(ascending=False)"
   ]
  },
  {
   "cell_type": "code",
   "execution_count": 116,
   "metadata": {
    "scrolled": true
   },
   "outputs": [
    {
     "data": {
      "text/plain": [
       "one         6\n",
       "tests       6\n",
       "enough      6\n",
       "win         6\n",
       "campaign    6\n",
       "service     6\n",
       "ill         6\n",
       "trump       6\n",
       "police      6\n",
       "nl          5\n",
       "dhs         5\n",
       "storm       5\n",
       "stop        5\n",
       "smith       5\n",
       "san         5\n",
       "crime       5\n",
       "cdc         5\n",
       "kelly       5\n",
       "delay       5\n",
       "mayor       5\n",
       "news        5\n",
       "football    5\n",
       "debate      5\n",
       "city        5\n",
       "sanders     5\n",
       "dtype: int64"
      ]
     },
     "execution_count": 116,
     "metadata": {},
     "output_type": "execute_result"
    }
   ],
   "source": [
    "fox_top_tfidf[:25]"
   ]
  },
  {
   "cell_type": "code",
   "execution_count": 117,
   "metadata": {},
   "outputs": [],
   "source": [
    "fox_tfidf_sum = fox_tfidf.sum().sort_values(ascending=False)\n"
   ]
  },
  {
   "cell_type": "code",
   "execution_count": 123,
   "metadata": {},
   "outputs": [
    {
     "name": "stderr",
     "output_type": "stream",
     "text": [
      "/Users/jonleckie/opt/anaconda3/lib/python3.7/site-packages/pandas/core/frame.py:4312: SettingWithCopyWarning: \n",
      "A value is trying to be set on a copy of a slice from a DataFrame\n",
      "\n",
      "See the caveats in the documentation: https://pandas.pydata.org/pandas-docs/stable/user_guide/indexing.html#returning-a-view-versus-a-copy\n",
      "  errors=errors,\n"
     ]
    }
   ],
   "source": [
    "nbc_tfidf.drop('network', axis=1, inplace=True)\n",
    "nbc_top_tfidf = nbc_tfidf.max().T.squeeze()\n",
    "# nbc_top_tfidf = nbc_top_tfidf.sort_values(ascending=False)"
   ]
  },
  {
   "cell_type": "code",
   "execution_count": 127,
   "metadata": {},
   "outputs": [
    {
     "data": {
      "text/plain": [
       "ui        8\n",
       "trump     7\n",
       "anu       6\n",
       "wind      6\n",
       "un        6\n",
       "one       6\n",
       "lewis     6\n",
       "li        6\n",
       "iu        6\n",
       "ai        6\n",
       "ul        6\n",
       "blake     6\n",
       "mayor     6\n",
       "obama     5\n",
       "like      5\n",
       "police    5\n",
       "im        5\n",
       "latino    5\n",
       "ihi       5\n",
       "uk        5\n",
       "voters    5\n",
       "floyd     5\n",
       "biden     5\n",
       "women     5\n",
       "al        5\n",
       "dtype: int64"
      ]
     },
     "execution_count": 127,
     "metadata": {},
     "output_type": "execute_result"
    }
   ],
   "source": [
    "# nbc_top_tfidf.sort_values(ascending=False)\n",
    "nbc_top_tfidf = nbc_top_tfidf.sort_values(ascending=False)\n",
    "nbc_top_tfidf[:25]"
   ]
  },
  {
   "cell_type": "code",
   "execution_count": 22,
   "metadata": {},
   "outputs": [],
   "source": [
    "nbc_word_counts = nbc_words.sum()\n",
    "fox_word_counts = fox_words.sum()"
   ]
  },
  {
   "cell_type": "code",
   "execution_count": 28,
   "metadata": {},
   "outputs": [
    {
     "data": {
      "text/plain": [
       "2282"
      ]
     },
     "execution_count": 28,
     "metadata": {},
     "output_type": "execute_result"
    }
   ],
   "source": [
    "len(nbc_word_counts)"
   ]
  },
  {
   "cell_type": "code",
   "execution_count": 29,
   "metadata": {},
   "outputs": [
    {
     "data": {
      "text/plain": [
       "2282"
      ]
     },
     "execution_count": 29,
     "metadata": {},
     "output_type": "execute_result"
    }
   ],
   "source": [
    "len(fox_word_counts)"
   ]
  },
  {
   "cell_type": "code",
   "execution_count": 92,
   "metadata": {},
   "outputs": [],
   "source": [
    "def chart_top(word_lst, network, low=0, high=10,):\n",
    "    fig, ax = plt.subplots(figsize=(10,4))\n",
    "    \n",
    "    ax.barh(word_lst.index[low:high], word_lst.values[low:high], align='center')\n",
    "    ax.invert_yaxis()\n",
    "    ax.set_title(f'Top Word Counts: {network}')\n",
    "    ax.set_ylabel('Words')\n",
    "    ax.set_xlabel('Counts');"
   ]
  },
  {
   "cell_type": "code",
   "execution_count": 93,
   "metadata": {},
   "outputs": [
    {
     "data": {
      "text/plain": [
       "['trump', 'biden', 'ntrump', 'covid', 'cases']"
      ]
     },
     "execution_count": 93,
     "metadata": {},
     "output_type": "execute_result"
    }
   ],
   "source": [
    "list(top_nbc_words.index[:5])"
   ]
  },
  {
   "cell_type": "code",
   "execution_count": 94,
   "metadata": {
    "scrolled": true
   },
   "outputs": [
    {
     "data": {
      "image/png": "[encoded data removed]",
      "text/plain": [
       "<Figure size 720x288 with 1 Axes>"
      ]
     },
     "metadata": {
      "needs_background": "light"
     },
     "output_type": "display_data"
    }
   ],
   "source": [
    "chart_top(top_nbc_words, 'MSNBC', low=0, high=10)"
   ]
  },
  {
   "cell_type": "code",
   "execution_count": 95,
   "metadata": {},
   "outputs": [
    {
     "data": {
      "image/png": "[encoded data removed]",
      "text/plain": [
       "<Figure size 720x288 with 1 Axes>"
      ]
     },
     "metadata": {
      "needs_background": "light"
     },
     "output_type": "display_data"
    }
   ],
   "source": [
    "chart_top(top_fox_words, 'Fox News', low=0, high=10)"
   ]
  },
  {
   "cell_type": "code",
   "execution_count": 27,
   "metadata": {},
   "outputs": [
    {
     "data": {
      "image/png": "[encoded data removed]",
      "text/plain": [
       "<Figure size 432x288 with 1 Axes>"
      ]
     },
     "metadata": {
      "needs_background": "light"
     },
     "output_type": "display_data"
    }
   ],
   "source": [
    "fig, ax = plt.subplots()\n",
    "\n",
    "ax.scatter(nbc_word_counts, fox_word_counts, alpha=0.5)\n",
    "ax.set_title('Shared Word Counts by Network')\n",
    "ax.set_xlabel('MSNBC')\n",
    "ax.set_ylabel('Fox News');"
   ]
  },
  {
   "cell_type": "code",
   "execution_count": 173,
   "metadata": {},
   "outputs": [
    {
     "data": {
      "image/png": "[encoded data removed]",
      "text/plain": [
       "<Figure size 432x288 with 2 Axes>"
      ]
     },
     "metadata": {
      "needs_background": "light"
     },
     "output_type": "display_data"
    }
   ],
   "source": [
    "fig, ax1 = plt.subplots()\n",
    "ax2 = ax1.twinx() \n",
    "xs = word_counts.columns[:-1]\n",
    "\n",
    "ax1.scatter(xs, fox_words.sum(), alpha=0.3, color='red')\n",
    "ax2.scatter(xs, nbc_words.sum(), alpha=0.3, color='blue')\n",
    "ax1.set_title('Shared Word Counts by Network')\n",
    "ax1.set_xlabel('MSNBC')\n",
    "ax1.set_ylabel('Fox News');"
   ]
  },
  {
   "cell_type": "code",
   "execution_count": 171,
   "metadata": {},
   "outputs": [
    {
     "data": {
      "text/plain": [
       "(1902, 1901, 1901)"
      ]
     },
     "execution_count": 171,
     "metadata": {},
     "output_type": "execute_result"
    }
   ],
   "source": [
    "len(xs), len(fox_words.sum()), len(nbc_words.sum())"
   ]
  },
  {
   "cell_type": "code",
   "execution_count": 283,
   "metadata": {},
   "outputs": [],
   "source": [
    "def chart_shared_word_counts(thresh=20000):\n",
    "    fig, ax = plt.subplots()\n",
    "    nbc_lt = []\n",
    "    fox_lt = []\n",
    "    words = []\n",
    "    \n",
    "    for i, word in enumerate(nbc_word_counts):\n",
    "        if word < thresh:\n",
    "            nbc_lt.append(nbc_word_counts[i])\n",
    "            fox_lt.append(fox_word_counts[i])\n",
    "        \n",
    "    ax.scatter(nbc_lt, fox_lt, alpha=0.3)\n",
    "    ax.set_title('Shared Word Counts by Network')\n",
    "    ax.set_xlabel('MSNBC')\n",
    "    ax.set_ylabel('Fox News');"
   ]
  },
  {
   "cell_type": "code",
   "execution_count": 284,
   "metadata": {},
   "outputs": [
    {
     "data": {
      "image/png": "[encoded data removed]",
      "text/plain": [
       "<Figure size 432x288 with 1 Axes>"
      ]
     },
     "metadata": {
      "needs_background": "light"
     },
     "output_type": "display_data"
    }
   ],
   "source": [
    "chart_word_counts(thresh=10000)"
   ]
  },
  {
   "cell_type": "code",
   "execution_count": 178,
   "metadata": {},
   "outputs": [
    {
     "data": {
      "text/plain": [
       "array([ 168,  257,  155, ..., 1051,  410,  188])"
      ]
     },
     "execution_count": 178,
     "metadata": {},
     "output_type": "execute_result"
    }
   ],
   "source": [
    "# nbc_word_counts.loc[nbc_word_counts.values > 0 & nbc_word_counts.values < 2000]\n",
    "nbc_word_counts.values"
   ]
  },
  {
   "cell_type": "markdown",
   "metadata": {},
   "source": [
    "##### NMF"
   ]
  },
  {
   "cell_type": "code",
   "execution_count": 30,
   "metadata": {},
   "outputs": [
    {
     "data": {
      "text/plain": [
       "2282"
      ]
     },
     "execution_count": 30,
     "metadata": {},
     "output_type": "execute_result"
    }
   ],
   "source": [
    "len(nbc_word_counts)"
   ]
  },
  {
   "cell_type": "code",
   "execution_count": 31,
   "metadata": {},
   "outputs": [
    {
     "data": {
      "text/plain": [
       "2282"
      ]
     },
     "execution_count": 31,
     "metadata": {},
     "output_type": "execute_result"
    }
   ],
   "source": [
    "len(fox_word_counts)"
   ]
  },
  {
   "cell_type": "code",
   "execution_count": 38,
   "metadata": {},
   "outputs": [],
   "source": [
    "nbc_zero = []\n",
    "for word in nbc_word_counts:\n",
    "    if word == 0:\n",
    "        nbc_zero.append(word)\n",
    "        \n",
    "fox_zero = []\n",
    "for word in fox_word_counts:\n",
    "    if word == 0:\n",
    "        nbc_zero.append(word)"
   ]
  },
  {
   "cell_type": "code",
   "execution_count": 39,
   "metadata": {},
   "outputs": [
    {
     "data": {
      "text/plain": [
       "(53, 0)"
      ]
     },
     "execution_count": 39,
     "metadata": {},
     "output_type": "execute_result"
    }
   ],
   "source": [
    "len(nbc_zero), len(fox_zero)"
   ]
  },
  {
   "cell_type": "code",
   "execution_count": 35,
   "metadata": {},
   "outputs": [
    {
     "data": {
      "text/plain": [
       "169"
      ]
     },
     "execution_count": 35,
     "metadata": {},
     "output_type": "execute_result"
    }
   ],
   "source": [
    "nbc_word_counts[0]"
   ]
  },
  {
   "cell_type": "code",
   "execution_count": null,
   "metadata": {},
   "outputs": [],
   "source": [
    "def fit_nmf(X, n_components=2):\n",
    "    \n",
    "    nmf = NMF(n_components=n_components)\n",
    "    W = nmf.fit_transform(X)\n",
    "    H = nmf.components_"
   ]
  }
 ],
 "metadata": {
  "kernelspec": {
   "display_name": "Python 3",
   "language": "python",
   "name": "python3"
  },
  "language_info": {
   "codemirror_mode": {
    "name": "ipython",
    "version": 3
   },
   "file_extension": ".py",
   "mimetype": "text/x-python",
   "name": "python",
   "nbconvert_exporter": "python",
   "pygments_lexer": "ipython3",
   "version": "3.7.1"
  }
 },
 "nbformat": 4,
 "nbformat_minor": 5
}
