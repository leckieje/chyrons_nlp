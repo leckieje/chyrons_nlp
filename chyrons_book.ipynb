{
 "cells": [
  {
   "cell_type": "code",
   "execution_count": 76,
   "id": "distinct-discharge",
   "metadata": {},
   "outputs": [],
   "source": [
    "import pandas as pd \n",
    "import numpy as np\n",
    "import matplotlib.pyplot as plt\n",
    "import random\n",
    "import string\n",
    "import re\n",
    "\n",
    "import nltk\n",
    "from nltk.corpus import stopwords, words\n",
    "from sklearn.feature_extraction.text import CountVectorizer, TfidfVectorizer\n",
    "from sklearn.naive_bayes import MultinomialNB\n",
    "from sklearn.model_selection import train_test_split, KFold\n",
    "from sklearn.ensemble import RandomForestClassifier\n",
    "from sklearn.metrics import plot_confusion_matrix, roc_curve\n",
    "from sklearn.decomposition import NMF\n",
    "\n",
    "# nltk.download('words')"
   ]
  },
  {
   "cell_type": "code",
   "execution_count": 27,
   "id": "greatest-formula",
   "metadata": {},
   "outputs": [],
   "source": [
    "# chyron archive web address: https://archive.org/services/third-eye.php\n",
    "\n",
    "import datetime\n",
    "\n",
    "# pull chyrons from web as dataframes\n",
    "def get_dfs(start_y=2017, start_m=9, start_d=7, end_today=True, end_y=None, end_m=None, end_d=None):\n",
    "    \n",
    "    first = datetime.date(start_y, start_m, start_d)\n",
    "    delta = datetime.timedelta(weeks=1)\n",
    "    last = first + delta\n",
    "    dfs = []\n",
    "    iters = 0\n",
    "    \n",
    "    if end_today:\n",
    "        stop = datetime.date.today()\n",
    "    else:\n",
    "        stop = datetime.date(end_y, end_m, end_d)\n",
    "    \n",
    "    while first < stop:\n",
    "        if iters > 210:\n",
    "            break\n",
    "        else:\n",
    "            print(iters)\n",
    "            first_str = first.strftime('%m/%d/%y')\n",
    "            last_str = last.strftime('%m/%d/%y')\n",
    "            url = f'https://archive.org/services/third-eye.php?dayL={first_str}&dayR={last_str}'\n",
    "            df = pd.read_csv(url, delimiter='\\t')\n",
    "            dfs.append(df)\n",
    "\n",
    "            first = last + datetime.timedelta(days=1)\n",
    "            last = first + delta\n",
    "            \n",
    "            if last > stop:\n",
    "                last = stop\n",
    "                \n",
    "            iters += 1\n",
    "        \n",
    "    return dfs\n",
    "\n",
    "# cleans dfs\n",
    "def clean_dfs(df, csv=True, concat=False, csv_name='chyron_next'):\n",
    "    \n",
    "    # stack dfs from list\n",
    "    if concat:\n",
    "        df = pd.concat(df, ignore_index=True)\n",
    "        \n",
    "    # drop duplicates\n",
    "    df.drop_duplicates(subset=['text'], keep='first', inplace=True, ignore_index=True)\n",
    "    \n",
    "    # count words in chyron \n",
    "    df['num_words'] = df['text'].apply(lambda x: len(x.split()) if isinstance(x, str) else 'NaN')\n",
    "    \n",
    "    # save to local csv          \n",
    "    if csv:\n",
    "        df.to_csv(f'/Users/jonleckie/Desktop/DSI_all/capstones/capstone_two/chyrons/{csv_name}.csv')    \n",
    "    \n",
    "    return df\n",
    "\n",
    "# wrapper for above functions --> NOT TESTED\n",
    "def get_chyrons(start_y=2017, start_m=9, start_d=7, end_today=True, end_y=None, end_m=None, end_d=None):\n",
    "    df = get_dfs(start_y, start_m, start_d, end_today, end_y, end_m, end_d)\n",
    "    df = clean_dfs(df, csv=True, concat=False, csv_name='chyron2')\n",
    "    return df"
   ]
  },
  {
   "cell_type": "code",
   "execution_count": 95,
   "id": "juvenile-football",
   "metadata": {},
   "outputs": [
    {
     "name": "stdout",
     "output_type": "stream",
     "text": [
      "<class 'pandas.core.frame.DataFrame'>\n",
      "RangeIndex: 2652398 entries, 0 to 2652397\n",
      "Data columns (total 6 columns):\n",
      " #   Column                        Non-Null Count    Dtype  \n",
      "---  ------                        --------------    -----  \n",
      " 0   date_time_(UTC)               2652398 non-null  object \n",
      " 1   channel                       2652397 non-null  object \n",
      " 2   duration                      2652397 non-null  float64\n",
      " 3   https://archive.org/details/  2647435 non-null  object \n",
      " 4   text                          2652397 non-null  object \n",
      " 5   num_words                     205492 non-null   float64\n",
      "dtypes: float64(2), object(4)\n",
      "memory usage: 121.4+ MB\n"
     ]
    }
   ],
   "source": [
    "chyrons.info(show_counts=True)"
   ]
  },
  {
   "cell_type": "markdown",
   "id": "fabulous-concentrate",
   "metadata": {},
   "source": [
    "### Distributions of word counts:"
   ]
  },
  {
   "cell_type": "markdown",
   "id": "technical-alexander",
   "metadata": {},
   "source": [
    "* All networks"
   ]
  },
  {
   "cell_type": "code",
   "execution_count": 53,
   "id": "modified-retrieval",
   "metadata": {
    "scrolled": true
   },
   "outputs": [
    {
     "data": {
      "text/plain": [
       "(array([9.24212e+05, 9.55745e+05, 7.21145e+05, 5.18620e+04, 1.21500e+03,\n",
       "        1.29000e+02, 1.70000e+01, 1.00000e+01, 7.00000e+00, 4.00000e+00]),\n",
       " array([1.0, 13.4, 25.8, 38.2, 50.6, 63.0, 75.4, 87.8, 100.2,\n",
       "        112.60000000000001, 125.0], dtype=object),\n",
       " <BarContainer object of 10 artists>)"
      ]
     },
     "execution_count": 53,
     "metadata": {},
     "output_type": "execute_result"
    },
    {
     "data": {
      "image/png": "[encoded data removed]",
      "text/plain": [
       "<Figure size 432x288 with 1 Axes>"
      ]
     },
     "metadata": {
      "needs_background": "light"
     },
     "output_type": "display_data"
    }
   ],
   "source": [
    "plt.hist(chryon_all['num_words'])"
   ]
  },
  {
   "cell_type": "code",
   "execution_count": 54,
   "id": "underlying-grass",
   "metadata": {},
   "outputs": [
    {
     "data": {
      "text/plain": [
       "(array([475551.,      0.,      0., 775759.,      0.,      0., 685712.,\n",
       "             0.,      0., 717324.]),\n",
       " array([0. , 0.3, 0.6, 0.9, 1.2, 1.5, 1.8, 2.1, 2.4, 2.7, 3. ]),\n",
       " <BarContainer object of 10 artists>)"
      ]
     },
     "execution_count": 54,
     "metadata": {},
     "output_type": "execute_result"
    },
    {
     "data": {
      "image/png": "[encoded data removed]",
      "text/plain": [
       "<Figure size 432x288 with 1 Axes>"
      ]
     },
     "metadata": {
      "needs_background": "light"
     },
     "output_type": "display_data"
    }
   ],
   "source": [
    "# distribution of entries per network\n",
    "\n",
    "plt.hist(chryon_all['channel']);"
   ]
  },
  {
   "cell_type": "code",
   "execution_count": 57,
   "id": "welcome-single",
   "metadata": {},
   "outputs": [
    {
     "data": {
      "text/plain": [
       "array(['BBCNEWS', 'CNNW', 'FOXNEWSW', 'MSNBCW'], dtype=object)"
      ]
     },
     "execution_count": 57,
     "metadata": {},
     "output_type": "execute_result"
    }
   ],
   "source": [
    "chryon_all.channel.unique()"
   ]
  },
  {
   "cell_type": "code",
   "execution_count": 59,
   "id": "ahead-variation",
   "metadata": {},
   "outputs": [
    {
     "data": {
      "image/png": "[encoded data removed]",
      "text/plain": [
       "<Figure size 432x288 with 1 Axes>"
      ]
     },
     "metadata": {
      "needs_background": "light"
     },
     "output_type": "display_data"
    }
   ],
   "source": [
    "# distribution of word counts\n",
    "fig, ax = plt.subplots()\n",
    "\n",
    "fox = chryon_all[chryon_all['channel'] == 'FOXNEWSW']\n",
    "bbc = chryon_all[chryon_all['channel'] == 'BBCNEWS']\n",
    "cnn = chryon_all[chryon_all['channel'] == 'CNNW']\n",
    "msnbc = chryon_all[chryon_all['channel'] == 'MSNBCW']\n",
    "\n",
    "ax.hist(fox['num_words'], label='Fox News', alpha=0.3)\n",
    "ax.hist(bbc['num_words'], label='BBC', alpha=0.3)\n",
    "ax.hist(cnn['num_words'], label='CNN', alpha=0.3)\n",
    "ax.hist(msnbc['num_words'], label='MSNBC', alpha=0.3)\n",
    "ax.set_ylabel('Frequency')\n",
    "ax.set_xlabel('Word Count')\n",
    "ax.set_title('Distribution of Word Count by Network')\n",
    "fig.legend();"
   ]
  },
  {
   "cell_type": "code",
   "execution_count": 73,
   "id": "enclosed-boost",
   "metadata": {},
   "outputs": [
    {
     "data": {
      "image/png": "[encoded data removed]",
      "text/plain": [
       "<Figure size 432x288 with 1 Axes>"
      ]
     },
     "metadata": {
      "needs_background": "light"
     },
     "output_type": "display_data"
    }
   ],
   "source": [
    "# distribution of word counts under 60\n",
    "fig, ax = plt.subplots()\n",
    "\n",
    "fox = chryon_all[(chryon_all['channel'] == 'FOXNEWSW') & (chryon_all['num_words'] < 60)]\n",
    "bbc = chryon_all[(chryon_all['channel'] == 'BBCNEWS') & (chryon_all['num_words'] < 60)]\n",
    "cnn = chryon_all[(chryon_all['channel'] == 'CNNW') & (chryon_all['num_words'] < 60)]\n",
    "msnbc = chryon_all[(chryon_all['channel'] == 'MSNBCW') & (chryon_all['num_words'] < 60)]\n",
    "\n",
    "ax.hist(fox['num_words'], label='Fox News', alpha=0.3)\n",
    "ax.hist(bbc['num_words'], label='BBC', alpha=0.3)\n",
    "ax.hist(cnn['num_words'], label='CNN', alpha=0.3)\n",
    "ax.hist(msnbc['num_words'], label='MSNBC', alpha=0.3)\n",
    "ax.set_ylabel('Frequency')\n",
    "ax.set_xlabel('Word Count')\n",
    "ax.set_title('Distribution of Word Count < 60 by Network')\n",
    "fig.legend();"
   ]
  },
  {
   "cell_type": "code",
   "execution_count": 62,
   "id": "virtual-dakota",
   "metadata": {},
   "outputs": [
    {
     "data": {
      "image/png": "[encoded data removed]",
      "text/plain": [
       "<Figure size 432x288 with 1 Axes>"
      ]
     },
     "metadata": {
      "needs_background": "light"
     },
     "output_type": "display_data"
    }
   ],
   "source": [
    "# distribution of word counts under 60\n",
    "fig, ax = plt.subplots()\n",
    "\n",
    "fox = chryon_all[(chryon_all['channel'] == 'FOXNEWSW') & (chryon_all['num_words'] > 60)]\n",
    "bbc = chryon_all[(chryon_all['channel'] == 'BBCNEWS') & (chryon_all['num_words'] > 60)]\n",
    "cnn = chryon_all[(chryon_all['channel'] == 'CNNW') & (chryon_all['num_words'] > 60)]\n",
    "msnbc = chryon_all[(chryon_all['channel'] == 'MSNBCW') & (chryon_all['num_words'] > 60)]\n",
    "\n",
    "ax.hist(fox['num_words'], label='Fox News', alpha=0.3)\n",
    "ax.hist(bbc['num_words'], label='BBC', alpha=0.3)\n",
    "ax.hist(cnn['num_words'], label='CNN', alpha=0.3)\n",
    "ax.hist(msnbc['num_words'], label='MSNBC', alpha=0.3)\n",
    "ax.set_ylabel('Frequency')\n",
    "ax.set_xlabel('Word Count')\n",
    "ax.set_title('Distribution of Word Count > 60 by Network')\n",
    "fig.legend();"
   ]
  },
  {
   "cell_type": "code",
   "execution_count": 2,
   "id": "stupid-universe",
   "metadata": {},
   "outputs": [],
   "source": [
    "# sklearn pipeline \n",
    "\n",
    "# english dictionary \n",
    "eng_dict = words.words()\n",
    "\n",
    "# get a random sample of chyrons\n",
    "def get_random_sample(df, num_samples):\n",
    "    idx_lst = [num for num in range(len(df))]\n",
    "    idx_samps = random.sample(idx_lst, num_samples)\n",
    "    df_samp = df.iloc[idx_samps]\n",
    "    return df_samp\n",
    "\n",
    "# get stop words\n",
    "def get_stop_words(words):\n",
    "    sw = stopwords.words('english')\n",
    "    stops = words[0]\n",
    "    \n",
    "    for lst in words[1:]:\n",
    "        stops += lst\n",
    "    \n",
    "    return sw + stops\n",
    "\n",
    "## ------------------------------------------------------ ##\n",
    "\n",
    "# sklearn count vectorizer\n",
    "def get_countvec(corpus, stop_words='english', min_df=.01):\n",
    "    vectorizer = CountVectorizer(stop_words=stop_words, min_df=min_df)\n",
    "    X = vectorizer.fit_transform(corpus)\n",
    "    feature_names = vectorizer.get_feature_names()\n",
    "    \n",
    "    return feature_names, X.toarray()\n",
    "\n",
    "# sklearn tfidf vectorizer\n",
    "def get_tfidf(corpus, max_features=None, min_df=.01, stop_words='english'):\n",
    "    vectorizer = TfidfVectorizer(max_features=None, min_df=min_df, max_df=1.0, stop_words='english')\n",
    "    X = vectorizer.fit_transform(corpus)\n",
    "    feature_names = vectorizer.get_feature_names()\n",
    "    \n",
    "    return feature_names, X.toarray()\n",
    "\n",
    "# vectorizer to dataframe\n",
    "def get_dataframe(X, feature_names):\n",
    "    df = pd.DataFrame(data = X, columns = feature_names)\n",
    "    return df\n",
    "\n",
    "## ------------------------------------------------------ ##\n",
    "\n",
    "# odd word functions\n",
    "\n",
    "def get_numeric_words(feature_names):\n",
    "    stops = set()\n",
    "    nums = [str(num) for num in range(10)]\n",
    "    \n",
    "    for word in feature_names:\n",
    "        for char in word:\n",
    "            if char in nums:\n",
    "                stops.add(word)\n",
    "                break\n",
    "                \n",
    "    return list(stops)\n",
    "\n",
    "def get_non_alpha_start(feature_names):\n",
    "    non_alpha = []\n",
    "    alpha = list(string.ascii_lowercase)\n",
    "    for name in feature_names:\n",
    "        if name[0] not in alpha:\n",
    "            non_alpha.append(name)\n",
    "            \n",
    "    return non_alpha\n",
    "\n",
    "def get_underscores(feature_names):\n",
    "    unders = []\n",
    "    for name in feature_names:\n",
    "        if '_' in name:\n",
    "            unders.append(name)\n",
    "            \n",
    "    return unders\n",
    "\n",
    "def get_multis(feature_names):\n",
    "    multi = []\n",
    "    for name in feature_names:\n",
    "        if len(name) == 2:\n",
    "            if name[0] == name[1]:\n",
    "                multi.append(name)\n",
    "        else:\n",
    "            search = re.search(r\"([A-Za-z])\\1\\1\", name)\n",
    "            if search != None:\n",
    "                multi.append(name)\n",
    "                \n",
    "    return multi\n",
    "\n",
    "# wrap for above \n",
    "def get_special_stops(feature_names):\n",
    "    numeric = get_numeric_words(feature_names)\n",
    "    non_alpha = get_non_alpha_start(feature_names)\n",
    "    unders = get_underscores(feature_names)\n",
    "    multi_lett = get_multis(feature_names)\n",
    "    \n",
    "    return [numeric, non_alpha, unders, multi_lett]\n",
    "\n",
    "\n",
    "## ------------------------------------------------------ ##\n",
    "\n",
    "# PIPELINE FOR Counts:\n",
    "\n",
    "def load_samps(num_samples):\n",
    "    chyrons = pd.read_csv('/Users/jonleckie/Desktop/DSI_all/capstones/capstone_two/chyrons/chyron_all.csv') # read all data\n",
    "    chyrons.drop(472372, inplace=True) # drop single NaN value\n",
    "    chy_samp = get_random_sample(chyrons, num_samples) # random sample for working locally \n",
    "    \n",
    "    return chy_samp\n",
    "    \n",
    "def clean_counts(chy_samp, min_df=.001):\n",
    "    count_features, chyron_counts = get_countvec(chy_samp['text'], stop_words='english', min_df=min_df) # get primary feature names\n",
    "    stops = get_special_stops(count_features) # get additional stop words\n",
    "    stop_words_plus = get_stop_words(stops) # add to nltk stop words\n",
    "    count_features, chyron_counts = get_countvec(chy_samp['text'], stop_words=stop_words_plus, min_df=min_df) # get new vector matrix\n",
    "\n",
    "    return count_features, chyron_counts\n",
    "\n",
    "def clean_tfidf(chy_samp, min_df=.001):\n",
    "    tfidf_features, chyron_tfidf = get_tfidf(chy_samp['text'], max_features=None, min_df=min_df, stop_words='english') # get primary feature names\n",
    "    stops = get_special_stops(tfidf_features) # get additional stop words\n",
    "    stop_words_plus = get_stop_words(stops) # add to nltk stop words\n",
    "    tfidf_features, chyron_tfidf = get_tfidf(chy_samp['text'], max_features=None, min_df=min_df, stop_words=stop_words_plus) # get new vector matrix\n",
    "\n",
    "    return tfidf_features, chyron_tfidf"
   ]
  },
  {
   "cell_type": "code",
   "execution_count": 3,
   "id": "promotional-portland",
   "metadata": {},
   "outputs": [],
   "source": [
    "# get data from summer 2020, MSNBC and Fox\n",
    "\n",
    "def load_summer(start_date='2020-05-25', end_date='2020-11-03'):\n",
    "    chyrons = pd.read_csv('/Users/jonleckie/Desktop/DSI_all/capstones/capstone_two/chyrons/chyron_all.csv')\n",
    "    chyrons.drop(472372, inplace=True)\n",
    "    chy_summer = chyrons.loc[(chyrons['date_time_(UTC)'] >= start_date) & (chyrons['date_time_(UTC)'] <= end_date)]\n",
    "    \n",
    "    return chy_summer\n",
    "\n",
    "def get_network_pair(df, net_one='FOXNEWSW', net_two='MSNBCW'):\n",
    "    chy_nets = df.loc[(df['channel'] == net_one) | (df['channel'] == net_two)]\n",
    "    \n",
    "    return chy_nets\n",
    "\n",
    "chy_summer = load_summer()\n",
    "chy_nets = get_network_pair(chy_summer, net_one='FOXNEWSW', net_two='MSNBCW')\n",
    "feature_count, count_vec = clean_counts(chy_nets)\n",
    "feature_tfidf, tfidf_vec = clean_tfidf(chy_nets)"
   ]
  },
  {
   "cell_type": "code",
   "execution_count": 4,
   "id": "federal-replication",
   "metadata": {},
   "outputs": [],
   "source": [
    "chy_summer = load_summer()\n",
    "chy_nets = get_network_pair(chy_summer, net_one='FOXNEWSW', net_two='MSNBCW')\n",
    "feature_count, count_vec = clean_counts(chy_nets)\n",
    "feature_tfidf, tfidf_vec = clean_tfidf(chy_nets)"
   ]
  },
  {
   "cell_type": "code",
   "execution_count": 5,
   "id": "otherwise-aquatic",
   "metadata": {},
   "outputs": [],
   "source": [
    "chy_nets = get_network_pair(chy_summer, net_one='FOXNEWSW', net_two='MSNBCW')"
   ]
  },
  {
   "cell_type": "code",
   "execution_count": 6,
   "id": "rolled-lithuania",
   "metadata": {},
   "outputs": [
    {
     "data": {
      "text/plain": [
       "182424"
      ]
     },
     "execution_count": 6,
     "metadata": {},
     "output_type": "execute_result"
    }
   ],
   "source": [
    "len(chy_nets)"
   ]
  },
  {
   "cell_type": "code",
   "execution_count": 8,
   "id": "stunning-foster",
   "metadata": {},
   "outputs": [],
   "source": [
    "feature_count, count_vec = clean_counts(chy_nets)\n",
    "feature_tfidf, tfidf_vec = clean_tfidf(chy_nets)"
   ]
  },
  {
   "cell_type": "code",
   "execution_count": 205,
   "id": "recent-peeing",
   "metadata": {},
   "outputs": [
    {
     "data": {
      "text/plain": [
       "(182424, 1943)"
      ]
     },
     "execution_count": 205,
     "metadata": {},
     "output_type": "execute_result"
    }
   ],
   "source": [
    "tfidf_vec.shape"
   ]
  },
  {
   "cell_type": "markdown",
   "id": "announced-bridge",
   "metadata": {},
   "source": [
    "### Start Setting Up Models"
   ]
  },
  {
   "cell_type": "code",
   "execution_count": 109,
   "id": "painted-polymer",
   "metadata": {},
   "outputs": [],
   "source": [
    "doc_freq = .2\n",
    "\n",
    "chy_samps = load_samps(num_samples=250000)\n",
    "count_features, chyron_counts = clean_counts(chy_samps, min_df=doc_freq)\n",
    "tfidf_features, chyron_tfidf = clean_tfidf(chy_samps, min_df=doc_freq)"
   ]
  },
  {
   "cell_type": "code",
   "execution_count": 110,
   "id": "supreme-oakland",
   "metadata": {},
   "outputs": [],
   "source": [
    "# X, y for original random sample \n",
    "\n",
    "# X_counts = get_dataframe(chyron_counts, count_features)\n",
    "# X_tfidf = get_dataframe(chyron_tfidf, tfidf_features)\n",
    "# y = chy_samps['channel']"
   ]
  },
  {
   "cell_type": "code",
   "execution_count": 9,
   "id": "czech-console",
   "metadata": {},
   "outputs": [],
   "source": [
    "# X, y for summer tests on Fox and MSNBC\n",
    "X_counts = get_dataframe(count_vec, feature_count)\n",
    "# X_tfidf = get_dataframe(tfidf_vec, feature_tfidf)\n",
    "y = chy_nets['channel']"
   ]
  },
  {
   "cell_type": "code",
   "execution_count": 11,
   "id": "postal-palestinian",
   "metadata": {},
   "outputs": [],
   "source": [
    "# first split:\n",
    "X_train, X_test, y_train, y_test = train_test_split(X_counts, y, train_size=0.33, shuffle=True, stratify=y)\n",
    "X_train_T, X_test_T, y_train_T, y_test_T = train_test_split(X_tfidf, y, train_size=0.33, shuffle=True, stratify=y)"
   ]
  },
  {
   "cell_type": "code",
   "execution_count": 12,
   "id": "environmental-terminology",
   "metadata": {},
   "outputs": [
    {
     "data": {
      "text/plain": [
       "(182424, 182424, 182424)"
      ]
     },
     "execution_count": 12,
     "metadata": {},
     "output_type": "execute_result"
    }
   ],
   "source": [
    "len(X_counts), len(X_tfidf), len(y)"
   ]
  },
  {
   "cell_type": "markdown",
   "id": "satisfied-straight",
   "metadata": {},
   "source": [
    "#### Multinomial Naive Bayes"
   ]
  },
  {
   "cell_type": "code",
   "execution_count": 13,
   "id": "demanding-highland",
   "metadata": {},
   "outputs": [],
   "source": [
    "def eval_naive_bayes(X, y, folds=10):\n",
    "    kf = KFold(n_splits=folds, shuffle=True)\n",
    "    accuracy = []\n",
    "    \n",
    "    for train, test in kf.split(X):\n",
    "        model = MultinomialNB(alpha=1.0, fit_prior=False)\n",
    "        model.fit(X.iloc[train], y.iloc[train])\n",
    "#         y_hat = model.predict(X.iloc[test])\n",
    "        accuracy.append(model.score(X.iloc[test], y.iloc[test]))\n",
    "    \n",
    "    return np.mean(accuracy)\n",
    "\n",
    "def test_folds(X, y, fold_lst):\n",
    "    accuracy = []\n",
    "    iters = 0\n",
    "    for folds in fold_lst:\n",
    "        print(iters)\n",
    "        accuracy.append(eval_naive_bayes(X, y, folds=folds))\n",
    "        \n",
    "        iters += 1\n",
    "        \n",
    "    return accuracy\n",
    "\n",
    "def plot_naive_bayes(X, y, fold_lst):\n",
    "    fig, ax = plt.subplots()\n",
    "    xs = fold_lst\n",
    "    ys = test_folds(X, y, fold_lst)\n",
    "    ax.plot(xs, ys)\n",
    "    ax.set_title('Naive Bayes Accuracy by Num_Folds')\n",
    "    ax.set_ylabel('Accuracy')\n",
    "    ax.set_xlabel('Folds');"
   ]
  },
  {
   "cell_type": "code",
   "execution_count": 116,
   "id": "accomplished-inquiry",
   "metadata": {},
   "outputs": [
    {
     "data": {
      "image/png": "[encoded data removed]",
      "text/plain": [
       "<Figure size 432x288 with 1 Axes>"
      ]
     },
     "metadata": {
      "needs_background": "light"
     },
     "output_type": "display_data"
    }
   ],
   "source": [
    "# Bayes fold test with CountVec\n",
    "folds = list(range(5, 100, 5))\n",
    "plot_naive_bayes(X_train, y_train, folds)"
   ]
  },
  {
   "cell_type": "code",
   "execution_count": 113,
   "id": "following-compiler",
   "metadata": {},
   "outputs": [
    {
     "data": {
      "text/plain": [
       "0.292230303030303"
      ]
     },
     "execution_count": 113,
     "metadata": {},
     "output_type": "execute_result"
    }
   ],
   "source": [
    "eval_naive_bayes(X_train_T, y_train_T, folds=100)"
   ]
  },
  {
   "cell_type": "code",
   "execution_count": 122,
   "id": "revolutionary-antarctica",
   "metadata": {},
   "outputs": [
    {
     "data": {
      "image/png": "[encoded data removed]",
      "text/plain": [
       "<Figure size 432x288 with 1 Axes>"
      ]
     },
     "metadata": {
      "needs_background": "light"
     },
     "output_type": "display_data"
    }
   ],
   "source": [
    "# Bayes fold test with TfidfVec\n",
    "folds = list(range(5, 100, 5))\n",
    "plot_naive_bayes(X_train_T, y_train_T, folds)"
   ]
  },
  {
   "cell_type": "code",
   "execution_count": 72,
   "id": "prime-infection",
   "metadata": {},
   "outputs": [],
   "source": [
    "def _naive_bayes(X, y, folds=20, fit_prior=False):\n",
    "    kf = KFold(n_splits=folds, shuffle=True)\n",
    "    accuracy = []\n",
    "    \n",
    "    for train, test in kf.split(X):\n",
    "        model = MultinomialNB(alpha=1, fit_prior=fit_prior)\n",
    "        model.fit(X.iloc[train], y.iloc[train])\n",
    "        accuracy.append(model.score(X.iloc[test], y.iloc[test]))\n",
    "    \n",
    "    return model, np.mean(accuracy)"
   ]
  },
  {
   "cell_type": "code",
   "execution_count": 118,
   "id": "labeled-handbook",
   "metadata": {},
   "outputs": [],
   "source": [
    "y_hat, _y_test, model = _naive_bayes(X_train, y_train)"
   ]
  },
  {
   "cell_type": "code",
   "execution_count": 120,
   "id": "developmental-speed",
   "metadata": {},
   "outputs": [
    {
     "data": {
      "text/plain": [
       "0.1789090909090909"
      ]
     },
     "execution_count": 120,
     "metadata": {},
     "output_type": "execute_result"
    }
   ],
   "source": [
    "correct = 0\n",
    "for i in range(len(y_hat)):\n",
    "    if y_hat[i] == _y_test[i]:\n",
    "        correct += 1\n",
    "        \n",
    "correct / len(_y_test)"
   ]
  },
  {
   "cell_type": "code",
   "execution_count": 91,
   "id": "desperate-sellers",
   "metadata": {},
   "outputs": [
    {
     "data": {
      "text/plain": [
       "(167500, 20625)"
      ]
     },
     "execution_count": 91,
     "metadata": {},
     "output_type": "execute_result"
    }
   ],
   "source": [
    "len(X_test), len(y_test)"
   ]
  },
  {
   "cell_type": "code",
   "execution_count": 121,
   "id": "sunset-northeast",
   "metadata": {},
   "outputs": [
    {
     "data": {
      "image/png": "[encoded data removed]",
      "text/plain": [
       "<Figure size 432x288 with 2 Axes>"
      ]
     },
     "metadata": {
      "needs_background": "light"
     },
     "output_type": "display_data"
    }
   ],
   "source": [
    "plot_confusion_matrix(model, X_test, y_test)  \n",
    "plt.show()"
   ]
  },
  {
   "cell_type": "code",
   "execution_count": 96,
   "id": "stuffed-shanghai",
   "metadata": {},
   "outputs": [],
   "source": [
    "d = {}\n",
    "for elem in y_test:\n",
    "    if elem not in d:\n",
    "        d[elem] = 1\n",
    "    d[elem] += 1"
   ]
  },
  {
   "cell_type": "code",
   "execution_count": 100,
   "id": "expressed-association",
   "metadata": {},
   "outputs": [
    {
     "name": "stdout",
     "output_type": "stream",
     "text": [
      "MSNBCW:45104 --> 26.93%\n",
      "BBCNEWS:30376 --> 18.13%\n",
      "CNNW:48954 --> 29.23%\n",
      "FOXNEWSW:43070 --> 25.71%\n"
     ]
    }
   ],
   "source": [
    "for k, v in d.items():\n",
    "    print(f'{k}:{v} --> {round(v/sum(d.values()), 4) * 100}%')"
   ]
  },
  {
   "cell_type": "code",
   "execution_count": 128,
   "id": "weighted-provincial",
   "metadata": {},
   "outputs": [],
   "source": [
    "T_y_hat, T_y_test, T_model, T_accuracy = _naive_bayes(X_train_T, y_train_T)"
   ]
  },
  {
   "cell_type": "code",
   "execution_count": 129,
   "id": "educational-greece",
   "metadata": {},
   "outputs": [
    {
     "name": "stdout",
     "output_type": "stream",
     "text": [
      "0.1789093825427889\n"
     ]
    },
    {
     "data": {
      "image/png": "[encoded data removed]",
      "text/plain": [
       "<Figure size 432x288 with 2 Axes>"
      ]
     },
     "metadata": {
      "needs_background": "light"
     },
     "output_type": "display_data"
    }
   ],
   "source": [
    "print(T_accuracy)\n",
    "plot_confusion_matrix(T_model, X_test_T, y_test_T)  \n",
    "plt.show()"
   ]
  },
  {
   "cell_type": "markdown",
   "id": "american-quarter",
   "metadata": {},
   "source": [
    "##### With only summer for MSNBC/Fox"
   ]
  },
  {
   "cell_type": "code",
   "execution_count": 213,
   "id": "modern-newark",
   "metadata": {},
   "outputs": [],
   "source": [
    "model, score = _naive_bayes(X_train, y_train)"
   ]
  },
  {
   "cell_type": "code",
   "execution_count": 214,
   "id": "vocal-account",
   "metadata": {},
   "outputs": [
    {
     "data": {
      "text/plain": [
       "0.7709763511238158"
      ]
     },
     "execution_count": 214,
     "metadata": {},
     "output_type": "execute_result"
    }
   ],
   "source": [
    "score"
   ]
  },
  {
   "cell_type": "code",
   "execution_count": 215,
   "id": "transparent-preview",
   "metadata": {},
   "outputs": [
    {
     "data": {
      "image/png": "[encoded data removed]",
      "text/plain": [
       "<Figure size 432x288 with 2 Axes>"
      ]
     },
     "metadata": {
      "needs_background": "light"
     },
     "output_type": "display_data"
    }
   ],
   "source": [
    "plot_confusion_matrix(model, X_train, y_train)  \n",
    "plt.show()"
   ]
  },
  {
   "cell_type": "code",
   "execution_count": 15,
   "id": "australian-overhead",
   "metadata": {},
   "outputs": [
    {
     "name": "stdout",
     "output_type": "stream",
     "text": [
      "0.7709265227573094\n"
     ]
    },
    {
     "data": {
      "image/png": "[encoded data removed]",
      "text/plain": [
       "<Figure size 432x288 with 2 Axes>"
      ]
     },
     "metadata": {
      "needs_background": "light"
     },
     "output_type": "display_data"
    }
   ],
   "source": [
    "model, score = _naive_bayes(X_train, y_train)\n",
    "print(score)\n",
    "plot_confusion_matrix(model, X_train, y_train)  \n",
    "plt.show()"
   ]
  },
  {
   "cell_type": "code",
   "execution_count": null,
   "id": "vocational-killing",
   "metadata": {},
   "outputs": [],
   "source": [
    "folds = list(range(5, 20, 5))\n",
    "plot_naive_bayes(X_train, y_train, folds)"
   ]
  },
  {
   "cell_type": "code",
   "execution_count": 28,
   "id": "equal-camera",
   "metadata": {},
   "outputs": [
    {
     "name": "stdout",
     "output_type": "stream",
     "text": [
      "0.7662751446656708\n"
     ]
    },
    {
     "data": {
      "image/png": "[encoded data removed]",
      "text/plain": [
       "<Figure size 432x288 with 2 Axes>"
      ]
     },
     "metadata": {
      "needs_background": "light"
     },
     "output_type": "display_data"
    }
   ],
   "source": [
    "model, score = _naive_bayes(X_train, y_train, fit_prior=True)\n",
    "print(score)\n",
    "plot_confusion_matrix(model, X_train, y_train)  \n",
    "plt.show()"
   ]
  },
  {
   "cell_type": "code",
   "execution_count": 69,
   "id": "overall-romance",
   "metadata": {},
   "outputs": [],
   "source": [
    "def plot_roc(X, y, vec_type='Count'):\n",
    "    y_net = [1 if net == 'MSNBCW' else 0 for net in y]\n",
    "    X_train, X_test, y_train, y_test = train_test_split(X, y_net, train_size=0.33, shuffle=True, stratify=y)\n",
    "    fig, ax = plt.subplots()\n",
    "    \n",
    "    model = MultinomialNB()\n",
    "    model.fit(X_train, y_train)\n",
    "    y_hat = model.predict_proba(X_test)\n",
    "    fpr, tpr, thresh = roc_curve(y_test, y_hat[:, 1])\n",
    "    \n",
    "    ax.plot(fpr, tpr)\n",
    "    ax.plot([0,1], [0,1], ls='--', color='k')\n",
    "    ax.set_title(f'Naive Bayes ROC Curve {vec_type}')\n",
    "    ax.set_xlabel('False Positive Rate')\n",
    "    ax.set_ylabel('True Positive Rate')\n",
    "    \n",
    "    return thresh"
   ]
  },
  {
   "cell_type": "code",
   "execution_count": 70,
   "id": "shared-logic",
   "metadata": {},
   "outputs": [
    {
     "data": {
      "text/plain": [
       "array([2.00000000e+00, 1.00000000e+00, 1.00000000e+00, ...,\n",
       "       4.64578677e-13, 3.10342080e-13, 6.22990360e-16])"
      ]
     },
     "execution_count": 70,
     "metadata": {},
     "output_type": "execute_result"
    },
    {
     "data": {
      "image/png": "[encoded data removed]",
      "text/plain": [
       "<Figure size 432x288 with 1 Axes>"
      ]
     },
     "metadata": {
      "needs_background": "light"
     },
     "output_type": "display_data"
    }
   ],
   "source": [
    "plot_roc(X_train, y_train)"
   ]
  },
  {
   "cell_type": "code",
   "execution_count": 74,
   "id": "published-brunswick",
   "metadata": {},
   "outputs": [
    {
     "name": "stdout",
     "output_type": "stream",
     "text": [
      "0.7927873301468794\n"
     ]
    },
    {
     "data": {
      "image/png": "[encoded data removed]",
      "text/plain": [
       "<Figure size 432x288 with 2 Axes>"
      ]
     },
     "metadata": {
      "needs_background": "light"
     },
     "output_type": "display_data"
    }
   ],
   "source": [
    "model, score = _naive_bayes(X_train_T, y_train_T, fit_prior=False)\n",
    "print(score)\n",
    "plot_confusion_matrix(model, X_train_T, y_train_T)  \n",
    "plt.show()"
   ]
  },
  {
   "cell_type": "code",
   "execution_count": 71,
   "id": "adaptive-stake",
   "metadata": {
    "scrolled": true
   },
   "outputs": [
    {
     "data": {
      "text/plain": [
       "array([1.99926543, 0.99926543, 0.98920947, ..., 0.00881591, 0.00877571,\n",
       "       0.00290312])"
      ]
     },
     "execution_count": 71,
     "metadata": {},
     "output_type": "execute_result"
    },
    {
     "data": {
      "image/png": "[encoded data removed]",
      "text/plain": [
       "<Figure size 432x288 with 1 Axes>"
      ]
     },
     "metadata": {
      "needs_background": "light"
     },
     "output_type": "display_data"
    }
   ],
   "source": [
    "plot_roc(X_train_T, y_train_T, vec_type='Tfidf')"
   ]
  },
  {
   "cell_type": "markdown",
   "id": "played-spokesman",
   "metadata": {},
   "source": [
    "#### Random Forest Classifier"
   ]
  },
  {
   "cell_type": "code",
   "execution_count": 20,
   "id": "spiritual-genealogy",
   "metadata": {},
   "outputs": [],
   "source": [
    " def eval_random_forest(X, y, folds=10, n_estimators=100, max_depth=5, max_leaf=None, max_features='log2'):\n",
    "    kf = KFold(n_splits=folds, shuffle=True)\n",
    "    accuracy = []\n",
    "    iters = 0\n",
    "    \n",
    "    for train, test in kf.split(X):\n",
    "        forest = RandomForestClassifier(n_estimators=n_estimators, \n",
    "                                        max_depth=max_depth, n_jobs=-1, \n",
    "                                        max_leaf_nodes=max_leaf, max_features=max_features)\n",
    "        forest.fit(X.iloc[train], y.iloc[train])\n",
    "        accuracy.append(forest.score(X.iloc[test], y.iloc[test]))\n",
    "        \n",
    "        print(iters)\n",
    "        iters += 1\n",
    "    \n",
    "    return np.mean(accuracy), forest"
   ]
  },
  {
   "cell_type": "code",
   "execution_count": 159,
   "id": "binding-monkey",
   "metadata": {},
   "outputs": [
    {
     "name": "stdout",
     "output_type": "stream",
     "text": [
      "0.31232727272727273\n"
     ]
    }
   ],
   "source": [
    "score, model = eval_random_forest(X_train, y_train, folds=10, \n",
    "                                  n_estimators=10, max_depth=10, max_leaf=None)\n",
    "print(score)"
   ]
  },
  {
   "cell_type": "markdown",
   "id": "current-amber",
   "metadata": {},
   "source": [
    "0.31224242424242427 =  folds=10, n_estimators=100, max_depth=5, max_leaf=None\n",
    "\n",
    "0.31224242424242427 =  folds=10, n_estimators=10, max_depth=5, max_leaf=None\n",
    "\n",
    "0.31224242424242427 =  folds=10, n_estimators=10, max_depth=10, max_leaf=None\n",
    "\n",
    "0.3122060606060606  =  folds=10, n_estimators=100, max_depth=10, max_leaf=100\n",
    "\n",
    "0.3122787878787879  =  folds=100, n_estimators=100, max_depth=10, max_leaf=100\n",
    "\n",
    "0.31220606060606065 = folds=10, n_estimators=10, max_depth=10, max_leaf=10"
   ]
  },
  {
   "cell_type": "code",
   "execution_count": 154,
   "id": "cubic-somewhere",
   "metadata": {},
   "outputs": [
    {
     "data": {
      "text/plain": [
       "1"
      ]
     },
     "execution_count": 154,
     "metadata": {},
     "output_type": "execute_result"
    }
   ],
   "source": [
    "model.n_features_"
   ]
  },
  {
   "cell_type": "code",
   "execution_count": 138,
   "id": "objective-conditions",
   "metadata": {},
   "outputs": [
    {
     "data": {
      "image/png": "[encoded data removed]",
      "text/plain": [
       "<Figure size 432x288 with 2 Axes>"
      ]
     },
     "metadata": {
      "needs_background": "light"
     },
     "output_type": "display_data"
    }
   ],
   "source": [
    "# 0.31224242424242427 =  folds=10, n_estimators=100, max_depth=5, max_leaf=None\n",
    "plot_confusion_matrix(model, X_train, y_train)  \n",
    "plt.show()"
   ]
  },
  {
   "cell_type": "code",
   "execution_count": 17,
   "id": "aquatic-variation",
   "metadata": {},
   "outputs": [],
   "source": [
    "def test_forest_folds(X, y, fold_lst):\n",
    "    accuracy = []\n",
    "    for folds in fold_lst:\n",
    "        accuracy.append(eval_random_forest(X, y, folds=folds))\n",
    "        \n",
    "    return accuracy\n",
    "\n",
    "def test_forest_depth(X, y, depth_lst):\n",
    "    accuracy = []\n",
    "    for depth in depth_lst:\n",
    "        accuracy.append(eval_random_forest(X, y, max_depth=depth))\n",
    "        \n",
    "    return accuracy\n",
    "\n",
    "def test_forest_estimators(X, y, est_lst):\n",
    "    accuracy = []\n",
    "    for est in est_lst:\n",
    "        accuracy.append(eval_random_forest(X, y, n_estimators=est, max_depth=50))\n",
    "        \n",
    "    return accuracy\n",
    "\n",
    "def test_max_leafs(X, y, leaf_lst):\n",
    "    accuracy = []\n",
    "    for leaf in leaf_lst:\n",
    "        accuracy.append(eval_random_forest(X, y, max_leaf=leaf))\n",
    "        \n",
    "    return accuracy\n",
    "\n",
    "def plot_folds_random_forest_folds(X, y, fold_lst):\n",
    "    fig, ax = plt.subplots()\n",
    "    xs = fold_lst\n",
    "    ys = test_forest_folds(X, y, fold_lst)\n",
    "    ax.plot(xs, ys)\n",
    "    ax.set_title('Random Forest Accuracy by Folds')\n",
    "    ax.set_ylabel('Accuracy')\n",
    "    ax.set_xlabel('Folds');\n",
    "    \n",
    "def plot_depth_random_forest(X, y, depth_lst):\n",
    "    fig, ax = plt.subplots()\n",
    "    xs = depth_lst\n",
    "    ys = test_forest_depth(X, y, depth_lst)\n",
    "    ax.plot(xs, ys)\n",
    "    ax.set_title('Random Forest Accuracy by Depth')\n",
    "    ax.set_ylabel('Accuracy')\n",
    "    ax.set_xlabel('Depth');"
   ]
  },
  {
   "cell_type": "code",
   "execution_count": 164,
   "id": "grand-plant",
   "metadata": {
    "scrolled": true
   },
   "outputs": [
    {
     "data": {
      "text/plain": [
       "[(0.31220606060606054,\n",
       "  RandomForestClassifier(max_depth=5, max_features=None, n_estimators=10,\n",
       "                         n_jobs=-1)),\n",
       " (0.31231515151515155,\n",
       "  RandomForestClassifier(max_depth=10, max_features=None, n_estimators=10,\n",
       "                         n_jobs=-1)),\n",
       " (0.31225454545454545,\n",
       "  RandomForestClassifier(max_depth=20, max_features=None, n_estimators=10,\n",
       "                         n_jobs=-1)),\n",
       " (0.31225454545454545,\n",
       "  RandomForestClassifier(max_depth=30, max_features=None, n_estimators=10,\n",
       "                         n_jobs=-1)),\n",
       " (0.3122181818181818,\n",
       "  RandomForestClassifier(max_depth=100, max_features=None, n_estimators=10,\n",
       "                         n_jobs=-1))]"
      ]
     },
     "execution_count": 164,
     "metadata": {},
     "output_type": "execute_result"
    }
   ],
   "source": [
    "depth = [5, 10, 20, 30, 100]\n",
    "test_forest_depth(X_train, y_train, depth)"
   ]
  },
  {
   "cell_type": "code",
   "execution_count": 176,
   "id": "human-childhood",
   "metadata": {},
   "outputs": [
    {
     "data": {
      "text/plain": [
       "[(0.31221818181818184,\n",
       "  RandomForestClassifier(max_depth=500, max_features=None, n_jobs=-1))]"
      ]
     },
     "execution_count": 176,
     "metadata": {},
     "output_type": "execute_result"
    }
   ],
   "source": [
    "test_forest_depth(X_train, y_train, [500])"
   ]
  },
  {
   "cell_type": "code",
   "execution_count": 170,
   "id": "numeric-kennedy",
   "metadata": {},
   "outputs": [
    {
     "data": {
      "text/plain": [
       "[(0.31225454545454545,\n",
       "  RandomForestClassifier(max_depth=50, max_features=None, n_estimators=5,\n",
       "                         n_jobs=-1)),\n",
       " (0.312169696969697,\n",
       "  RandomForestClassifier(max_depth=50, max_features=None, n_estimators=10,\n",
       "                         n_jobs=-1)),\n",
       " (0.3122666666666667,\n",
       "  RandomForestClassifier(max_depth=50, max_features=None, n_estimators=20,\n",
       "                         n_jobs=-1)),\n",
       " (0.3122545454545454,\n",
       "  RandomForestClassifier(max_depth=50, max_features=None, n_estimators=30,\n",
       "                         n_jobs=-1)),\n",
       " (0.312230303030303,\n",
       "  RandomForestClassifier(max_depth=50, max_features=None, n_estimators=50,\n",
       "                         n_jobs=-1))]"
      ]
     },
     "execution_count": 170,
     "metadata": {},
     "output_type": "execute_result"
    }
   ],
   "source": [
    "estimators = [5, 10, 20, 30, 50]\n",
    "test_forest_estimators(X_train, y_train, estimators)"
   ]
  },
  {
   "cell_type": "code",
   "execution_count": 177,
   "id": "ahead-petersburg",
   "metadata": {},
   "outputs": [
    {
     "data": {
      "text/plain": [
       "[(0.2632,\n",
       "  RandomForestClassifier(max_depth=5, max_features=None, max_leaf_nodes=5,\n",
       "                         n_jobs=-1)),\n",
       " (0.2632,\n",
       "  RandomForestClassifier(max_depth=5, max_features=None, max_leaf_nodes=10,\n",
       "                         n_jobs=-1)),\n",
       " (0.27559999999999996,\n",
       "  RandomForestClassifier(max_depth=5, max_features=None, max_leaf_nodes=20,\n",
       "                         n_jobs=-1)),\n",
       " (0.25360000000000005,\n",
       "  RandomForestClassifier(max_depth=5, max_features=None, max_leaf_nodes=30,\n",
       "                         n_jobs=-1)),\n",
       " (0.2604,\n",
       "  RandomForestClassifier(max_depth=5, max_features=None, max_leaf_nodes=50,\n",
       "                         n_jobs=-1))]"
      ]
     },
     "execution_count": 177,
     "metadata": {},
     "output_type": "execute_result"
    }
   ],
   "source": [
    "leafs = [5, 10, 20, 30, 50]\n",
    "test_max_leafs(X, y, leafs)"
   ]
  },
  {
   "cell_type": "code",
   "execution_count": 139,
   "id": "undefined-threshold",
   "metadata": {},
   "outputs": [
    {
     "name": "stdout",
     "output_type": "stream",
     "text": [
      "0.31224242424242427\n"
     ]
    }
   ],
   "source": [
    "score_T, model_T = eval_random_forest(X_train_T, y_train_T)\n",
    "print(score)"
   ]
  },
  {
   "cell_type": "code",
   "execution_count": 140,
   "id": "herbal-fellow",
   "metadata": {},
   "outputs": [
    {
     "data": {
      "image/png": "[encoded data removed]",
      "text/plain": [
       "<Figure size 432x288 with 2 Axes>"
      ]
     },
     "metadata": {
      "needs_background": "light"
     },
     "output_type": "display_data"
    }
   ],
   "source": [
    "plot_confusion_matrix(model_T, X_train_T, y_train_T)  \n",
    "plt.show()"
   ]
  },
  {
   "cell_type": "markdown",
   "id": "looking-mills",
   "metadata": {},
   "source": [
    "##### With only summer for MSNBC/Fox"
   ]
  },
  {
   "cell_type": "code",
   "execution_count": 24,
   "id": "adverse-texas",
   "metadata": {},
   "outputs": [
    {
     "name": "stdout",
     "output_type": "stream",
     "text": [
      "0\n",
      "1\n",
      "2\n",
      "3\n",
      "4\n",
      "0.5805743487596651\n"
     ]
    }
   ],
   "source": [
    "score, model = eval_random_forest(X_train, y_train, folds=5, n_estimators=10, max_depth=10, max_leaf=10)\n",
    "print(score)"
   ]
  },
  {
   "cell_type": "code",
   "execution_count": 25,
   "id": "relative-master",
   "metadata": {},
   "outputs": [
    {
     "data": {
      "image/png": "[encoded data removed]",
      "text/plain": [
       "<Figure size 432x288 with 2 Axes>"
      ]
     },
     "metadata": {
      "needs_background": "light"
     },
     "output_type": "display_data"
    }
   ],
   "source": [
    "plot_confusion_matrix(model, X_train, y_train)  \n",
    "plt.show()"
   ]
  },
  {
   "cell_type": "code",
   "execution_count": 22,
   "id": "missing-austria",
   "metadata": {},
   "outputs": [
    {
     "name": "stdout",
     "output_type": "stream",
     "text": [
      "0\n",
      "1\n",
      "2\n",
      "3\n",
      "4\n",
      "5\n",
      "6\n",
      "7\n",
      "8\n",
      "9\n",
      "0.5659229632189098\n"
     ]
    }
   ],
   "source": [
    "score, model = eval_random_forest(X_train, y_train, folds=10, n_estimators=100, max_depth=10, max_leaf=10)\n",
    "print(score)"
   ]
  },
  {
   "cell_type": "code",
   "execution_count": 23,
   "id": "confident-model",
   "metadata": {},
   "outputs": [
    {
     "data": {
      "image/png": "[encoded data removed]",
      "text/plain": [
       "<Figure size 432x288 with 2 Axes>"
      ]
     },
     "metadata": {
      "needs_background": "light"
     },
     "output_type": "display_data"
    }
   ],
   "source": [
    "plot_confusion_matrix(model, X_train, y_train)  \n",
    "plt.show()"
   ]
  },
  {
   "cell_type": "code",
   "execution_count": 19,
   "id": "capital-broadway",
   "metadata": {},
   "outputs": [
    {
     "data": {
      "text/plain": [
       "(60199, 1901)"
      ]
     },
     "execution_count": 19,
     "metadata": {},
     "output_type": "execute_result"
    }
   ],
   "source": [
    "X_train.shape"
   ]
  },
  {
   "cell_type": "code",
   "execution_count": 75,
   "id": "collaborative-breakfast",
   "metadata": {},
   "outputs": [
    {
     "name": "stdout",
     "output_type": "stream",
     "text": [
      "0\n",
      "1\n",
      "2\n",
      "3\n",
      "4\n",
      "5\n",
      "6\n",
      "7\n",
      "8\n",
      "9\n",
      "0\n",
      "1\n",
      "2\n",
      "3\n",
      "4\n",
      "5\n",
      "6\n",
      "7\n",
      "8\n",
      "9\n",
      "0\n",
      "1\n",
      "2\n",
      "3\n",
      "4\n",
      "5\n",
      "6\n",
      "7\n",
      "8\n",
      "9\n",
      "0\n",
      "1\n",
      "2\n",
      "3\n",
      "4\n",
      "5\n",
      "6\n",
      "7\n",
      "8\n",
      "9\n",
      "0\n",
      "1\n",
      "2\n",
      "3\n",
      "4\n",
      "5\n",
      "6\n",
      "7\n",
      "8\n",
      "9\n"
     ]
    },
    {
     "data": {
      "text/plain": [
       "[(0.5608897240686883,\n",
       "  RandomForestClassifier(max_depth=5, max_features='log2', n_jobs=-1)),\n",
       " (0.5713715675554543,\n",
       "  RandomForestClassifier(max_depth=10, max_features='log2', n_jobs=-1)),\n",
       " (0.6248443191245441,\n",
       "  RandomForestClassifier(max_depth=20, max_features='log2', n_jobs=-1)),\n",
       " (0.6737985802434043,\n",
       "  RandomForestClassifier(max_depth=30, max_features='log2', n_jobs=-1)),\n",
       " (0.8132361116707392,\n",
       "  RandomForestClassifier(max_depth=100, max_features='log2', n_jobs=-1))]"
      ]
     },
     "execution_count": 75,
     "metadata": {},
     "output_type": "execute_result"
    }
   ],
   "source": [
    "depth = [5, 10, 20, 30, 100]\n",
    "test_forest_depth(X_train, y_train, depth)"
   ]
  },
  {
   "cell_type": "code",
   "execution_count": null,
   "id": "traditional-darkness",
   "metadata": {},
   "outputs": [],
   "source": []
  },
  {
   "cell_type": "markdown",
   "id": "intelligent-services",
   "metadata": {},
   "source": [
    "##### ROC Curve"
   ]
  },
  {
   "cell_type": "code",
   "execution_count": 78,
   "id": "korean-juvenile",
   "metadata": {},
   "outputs": [],
   "source": [
    "def plot_roc_forest(X, y, vec_type='(Count)'):\n",
    "    y_net = [1 if net == 'MSNBCW' else 0 for net in y]\n",
    "    X_train, X_test, y_train, y_test = train_test_split(X, y_net, train_size=0.33, shuffle=True, stratify=y)\n",
    "    fig, ax = plt.subplots()\n",
    "    \n",
    "    model = RandomForestClassifier()\n",
    "    model.fit(X_train, y_train)\n",
    "    y_hat = model.predict_proba(X_test)\n",
    "    fpr, tpr, thresh = roc_curve(y_test, y_hat[:,1])\n",
    "    \n",
    "    ax.plot(fpr, tpr)\n",
    "    ax.plot([0,1], [0,1], ls='--', color='k')\n",
    "    ax.set_title(f'Random Forest ROC Curve {vec_type}')\n",
    "    ax.set_xlabel('False Positive Rate')\n",
    "    ax.set_ylabel('True Positive Rate')\n",
    "    \n",
    "    return thresh"
   ]
  },
  {
   "cell_type": "code",
   "execution_count": 79,
   "id": "neutral-player",
   "metadata": {},
   "outputs": [
    {
     "ename": "KeyboardInterrupt",
     "evalue": "",
     "output_type": "error",
     "traceback": [
      "\u001b[0;31m---------------------------------------------------------------------------\u001b[0m",
      "\u001b[0;31mKeyboardInterrupt\u001b[0m                         Traceback (most recent call last)",
      "\u001b[0;32m<ipython-input-79-8fb9fbde1b11>\u001b[0m in \u001b[0;36m<module>\u001b[0;34m\u001b[0m\n\u001b[0;32m----> 1\u001b[0;31m \u001b[0mplot_roc_forest\u001b[0m\u001b[0;34m(\u001b[0m\u001b[0mX_train\u001b[0m\u001b[0;34m,\u001b[0m \u001b[0my_train\u001b[0m\u001b[0;34m)\u001b[0m\u001b[0;34m\u001b[0m\u001b[0;34m\u001b[0m\u001b[0m\n\u001b[0m",
      "\u001b[0;32m<ipython-input-78-7b93d8be0610>\u001b[0m in \u001b[0;36mplot_roc_forest\u001b[0;34m(X, y, vec_type)\u001b[0m\n\u001b[1;32m      5\u001b[0m \u001b[0;34m\u001b[0m\u001b[0m\n\u001b[1;32m      6\u001b[0m     \u001b[0mmodel\u001b[0m \u001b[0;34m=\u001b[0m \u001b[0mRandomForestClassifier\u001b[0m\u001b[0;34m(\u001b[0m\u001b[0;34m)\u001b[0m\u001b[0;34m\u001b[0m\u001b[0;34m\u001b[0m\u001b[0m\n\u001b[0;32m----> 7\u001b[0;31m     \u001b[0mmodel\u001b[0m\u001b[0;34m.\u001b[0m\u001b[0mfit\u001b[0m\u001b[0;34m(\u001b[0m\u001b[0mX_train\u001b[0m\u001b[0;34m,\u001b[0m \u001b[0my_train\u001b[0m\u001b[0;34m)\u001b[0m\u001b[0;34m\u001b[0m\u001b[0;34m\u001b[0m\u001b[0m\n\u001b[0m\u001b[1;32m      8\u001b[0m     \u001b[0my_hat\u001b[0m \u001b[0;34m=\u001b[0m \u001b[0mmodel\u001b[0m\u001b[0;34m.\u001b[0m\u001b[0mpredict_proba\u001b[0m\u001b[0;34m(\u001b[0m\u001b[0mX_test\u001b[0m\u001b[0;34m)\u001b[0m\u001b[0;34m\u001b[0m\u001b[0;34m\u001b[0m\u001b[0m\n\u001b[1;32m      9\u001b[0m     \u001b[0mfpr\u001b[0m\u001b[0;34m,\u001b[0m \u001b[0mtpr\u001b[0m\u001b[0;34m,\u001b[0m \u001b[0mthresh\u001b[0m \u001b[0;34m=\u001b[0m \u001b[0mroc_curve\u001b[0m\u001b[0;34m(\u001b[0m\u001b[0my_test\u001b[0m\u001b[0;34m,\u001b[0m \u001b[0my_hat\u001b[0m\u001b[0;34m[\u001b[0m\u001b[0;34m:\u001b[0m\u001b[0;34m,\u001b[0m\u001b[0;36m1\u001b[0m\u001b[0;34m]\u001b[0m\u001b[0;34m)\u001b[0m\u001b[0;34m\u001b[0m\u001b[0;34m\u001b[0m\u001b[0m\n",
      "\u001b[0;32m~/opt/anaconda3/lib/python3.7/site-packages/sklearn/ensemble/_forest.py\u001b[0m in \u001b[0;36mfit\u001b[0;34m(self, X, y, sample_weight)\u001b[0m\n\u001b[1;32m    390\u001b[0m                     \u001b[0mverbose\u001b[0m\u001b[0;34m=\u001b[0m\u001b[0mself\u001b[0m\u001b[0;34m.\u001b[0m\u001b[0mverbose\u001b[0m\u001b[0;34m,\u001b[0m \u001b[0mclass_weight\u001b[0m\u001b[0;34m=\u001b[0m\u001b[0mself\u001b[0m\u001b[0;34m.\u001b[0m\u001b[0mclass_weight\u001b[0m\u001b[0;34m,\u001b[0m\u001b[0;34m\u001b[0m\u001b[0;34m\u001b[0m\u001b[0m\n\u001b[1;32m    391\u001b[0m                     n_samples_bootstrap=n_samples_bootstrap)\n\u001b[0;32m--> 392\u001b[0;31m                 for i, t in enumerate(trees))\n\u001b[0m\u001b[1;32m    393\u001b[0m \u001b[0;34m\u001b[0m\u001b[0m\n\u001b[1;32m    394\u001b[0m             \u001b[0;31m# Collect newly grown trees\u001b[0m\u001b[0;34m\u001b[0m\u001b[0;34m\u001b[0m\u001b[0;34m\u001b[0m\u001b[0m\n",
      "\u001b[0;32m~/opt/anaconda3/lib/python3.7/site-packages/joblib/parallel.py\u001b[0m in \u001b[0;36m__call__\u001b[0;34m(self, iterable)\u001b[0m\n\u001b[1;32m   1042\u001b[0m                 \u001b[0mself\u001b[0m\u001b[0;34m.\u001b[0m\u001b[0m_iterating\u001b[0m \u001b[0;34m=\u001b[0m \u001b[0mself\u001b[0m\u001b[0;34m.\u001b[0m\u001b[0m_original_iterator\u001b[0m \u001b[0;32mis\u001b[0m \u001b[0;32mnot\u001b[0m \u001b[0;32mNone\u001b[0m\u001b[0;34m\u001b[0m\u001b[0;34m\u001b[0m\u001b[0m\n\u001b[1;32m   1043\u001b[0m \u001b[0;34m\u001b[0m\u001b[0m\n\u001b[0;32m-> 1044\u001b[0;31m             \u001b[0;32mwhile\u001b[0m \u001b[0mself\u001b[0m\u001b[0;34m.\u001b[0m\u001b[0mdispatch_one_batch\u001b[0m\u001b[0;34m(\u001b[0m\u001b[0miterator\u001b[0m\u001b[0;34m)\u001b[0m\u001b[0;34m:\u001b[0m\u001b[0;34m\u001b[0m\u001b[0;34m\u001b[0m\u001b[0m\n\u001b[0m\u001b[1;32m   1045\u001b[0m                 \u001b[0;32mpass\u001b[0m\u001b[0;34m\u001b[0m\u001b[0;34m\u001b[0m\u001b[0m\n\u001b[1;32m   1046\u001b[0m \u001b[0;34m\u001b[0m\u001b[0m\n",
      "\u001b[0;32m~/opt/anaconda3/lib/python3.7/site-packages/joblib/parallel.py\u001b[0m in \u001b[0;36mdispatch_one_batch\u001b[0;34m(self, iterator)\u001b[0m\n\u001b[1;32m    857\u001b[0m                 \u001b[0;32mreturn\u001b[0m \u001b[0;32mFalse\u001b[0m\u001b[0;34m\u001b[0m\u001b[0;34m\u001b[0m\u001b[0m\n\u001b[1;32m    858\u001b[0m             \u001b[0;32melse\u001b[0m\u001b[0;34m:\u001b[0m\u001b[0;34m\u001b[0m\u001b[0;34m\u001b[0m\u001b[0m\n\u001b[0;32m--> 859\u001b[0;31m                 \u001b[0mself\u001b[0m\u001b[0;34m.\u001b[0m\u001b[0m_dispatch\u001b[0m\u001b[0;34m(\u001b[0m\u001b[0mtasks\u001b[0m\u001b[0;34m)\u001b[0m\u001b[0;34m\u001b[0m\u001b[0;34m\u001b[0m\u001b[0m\n\u001b[0m\u001b[1;32m    860\u001b[0m                 \u001b[0;32mreturn\u001b[0m \u001b[0;32mTrue\u001b[0m\u001b[0;34m\u001b[0m\u001b[0;34m\u001b[0m\u001b[0m\n\u001b[1;32m    861\u001b[0m \u001b[0;34m\u001b[0m\u001b[0m\n",
      "\u001b[0;32m~/opt/anaconda3/lib/python3.7/site-packages/joblib/parallel.py\u001b[0m in \u001b[0;36m_dispatch\u001b[0;34m(self, batch)\u001b[0m\n\u001b[1;32m    775\u001b[0m         \u001b[0;32mwith\u001b[0m \u001b[0mself\u001b[0m\u001b[0;34m.\u001b[0m\u001b[0m_lock\u001b[0m\u001b[0;34m:\u001b[0m\u001b[0;34m\u001b[0m\u001b[0;34m\u001b[0m\u001b[0m\n\u001b[1;32m    776\u001b[0m             \u001b[0mjob_idx\u001b[0m \u001b[0;34m=\u001b[0m \u001b[0mlen\u001b[0m\u001b[0;34m(\u001b[0m\u001b[0mself\u001b[0m\u001b[0;34m.\u001b[0m\u001b[0m_jobs\u001b[0m\u001b[0;34m)\u001b[0m\u001b[0;34m\u001b[0m\u001b[0;34m\u001b[0m\u001b[0m\n\u001b[0;32m--> 777\u001b[0;31m             \u001b[0mjob\u001b[0m \u001b[0;34m=\u001b[0m \u001b[0mself\u001b[0m\u001b[0;34m.\u001b[0m\u001b[0m_backend\u001b[0m\u001b[0;34m.\u001b[0m\u001b[0mapply_async\u001b[0m\u001b[0;34m(\u001b[0m\u001b[0mbatch\u001b[0m\u001b[0;34m,\u001b[0m \u001b[0mcallback\u001b[0m\u001b[0;34m=\u001b[0m\u001b[0mcb\u001b[0m\u001b[0;34m)\u001b[0m\u001b[0;34m\u001b[0m\u001b[0;34m\u001b[0m\u001b[0m\n\u001b[0m\u001b[1;32m    778\u001b[0m             \u001b[0;31m# A job can complete so quickly than its callback is\u001b[0m\u001b[0;34m\u001b[0m\u001b[0;34m\u001b[0m\u001b[0;34m\u001b[0m\u001b[0m\n\u001b[1;32m    779\u001b[0m             \u001b[0;31m# called before we get here, causing self._jobs to\u001b[0m\u001b[0;34m\u001b[0m\u001b[0;34m\u001b[0m\u001b[0;34m\u001b[0m\u001b[0m\n",
      "\u001b[0;32m~/opt/anaconda3/lib/python3.7/site-packages/joblib/_parallel_backends.py\u001b[0m in \u001b[0;36mapply_async\u001b[0;34m(self, func, callback)\u001b[0m\n\u001b[1;32m    206\u001b[0m     \u001b[0;32mdef\u001b[0m \u001b[0mapply_async\u001b[0m\u001b[0;34m(\u001b[0m\u001b[0mself\u001b[0m\u001b[0;34m,\u001b[0m \u001b[0mfunc\u001b[0m\u001b[0;34m,\u001b[0m \u001b[0mcallback\u001b[0m\u001b[0;34m=\u001b[0m\u001b[0;32mNone\u001b[0m\u001b[0;34m)\u001b[0m\u001b[0;34m:\u001b[0m\u001b[0;34m\u001b[0m\u001b[0;34m\u001b[0m\u001b[0m\n\u001b[1;32m    207\u001b[0m         \u001b[0;34m\"\"\"Schedule a func to be run\"\"\"\u001b[0m\u001b[0;34m\u001b[0m\u001b[0;34m\u001b[0m\u001b[0m\n\u001b[0;32m--> 208\u001b[0;31m         \u001b[0mresult\u001b[0m \u001b[0;34m=\u001b[0m \u001b[0mImmediateResult\u001b[0m\u001b[0;34m(\u001b[0m\u001b[0mfunc\u001b[0m\u001b[0;34m)\u001b[0m\u001b[0;34m\u001b[0m\u001b[0;34m\u001b[0m\u001b[0m\n\u001b[0m\u001b[1;32m    209\u001b[0m         \u001b[0;32mif\u001b[0m \u001b[0mcallback\u001b[0m\u001b[0;34m:\u001b[0m\u001b[0;34m\u001b[0m\u001b[0;34m\u001b[0m\u001b[0m\n\u001b[1;32m    210\u001b[0m             \u001b[0mcallback\u001b[0m\u001b[0;34m(\u001b[0m\u001b[0mresult\u001b[0m\u001b[0;34m)\u001b[0m\u001b[0;34m\u001b[0m\u001b[0;34m\u001b[0m\u001b[0m\n",
      "\u001b[0;32m~/opt/anaconda3/lib/python3.7/site-packages/joblib/_parallel_backends.py\u001b[0m in \u001b[0;36m__init__\u001b[0;34m(self, batch)\u001b[0m\n\u001b[1;32m    570\u001b[0m         \u001b[0;31m# Don't delay the application, to avoid keeping the input\u001b[0m\u001b[0;34m\u001b[0m\u001b[0;34m\u001b[0m\u001b[0;34m\u001b[0m\u001b[0m\n\u001b[1;32m    571\u001b[0m         \u001b[0;31m# arguments in memory\u001b[0m\u001b[0;34m\u001b[0m\u001b[0;34m\u001b[0m\u001b[0;34m\u001b[0m\u001b[0m\n\u001b[0;32m--> 572\u001b[0;31m         \u001b[0mself\u001b[0m\u001b[0;34m.\u001b[0m\u001b[0mresults\u001b[0m \u001b[0;34m=\u001b[0m \u001b[0mbatch\u001b[0m\u001b[0;34m(\u001b[0m\u001b[0;34m)\u001b[0m\u001b[0;34m\u001b[0m\u001b[0;34m\u001b[0m\u001b[0m\n\u001b[0m\u001b[1;32m    573\u001b[0m \u001b[0;34m\u001b[0m\u001b[0m\n\u001b[1;32m    574\u001b[0m     \u001b[0;32mdef\u001b[0m \u001b[0mget\u001b[0m\u001b[0;34m(\u001b[0m\u001b[0mself\u001b[0m\u001b[0;34m)\u001b[0m\u001b[0;34m:\u001b[0m\u001b[0;34m\u001b[0m\u001b[0;34m\u001b[0m\u001b[0m\n",
      "\u001b[0;32m~/opt/anaconda3/lib/python3.7/site-packages/joblib/parallel.py\u001b[0m in \u001b[0;36m__call__\u001b[0;34m(self)\u001b[0m\n\u001b[1;32m    261\u001b[0m         \u001b[0;32mwith\u001b[0m \u001b[0mparallel_backend\u001b[0m\u001b[0;34m(\u001b[0m\u001b[0mself\u001b[0m\u001b[0;34m.\u001b[0m\u001b[0m_backend\u001b[0m\u001b[0;34m,\u001b[0m \u001b[0mn_jobs\u001b[0m\u001b[0;34m=\u001b[0m\u001b[0mself\u001b[0m\u001b[0;34m.\u001b[0m\u001b[0m_n_jobs\u001b[0m\u001b[0;34m)\u001b[0m\u001b[0;34m:\u001b[0m\u001b[0;34m\u001b[0m\u001b[0;34m\u001b[0m\u001b[0m\n\u001b[1;32m    262\u001b[0m             return [func(*args, **kwargs)\n\u001b[0;32m--> 263\u001b[0;31m                     for func, args, kwargs in self.items]\n\u001b[0m\u001b[1;32m    264\u001b[0m \u001b[0;34m\u001b[0m\u001b[0m\n\u001b[1;32m    265\u001b[0m     \u001b[0;32mdef\u001b[0m \u001b[0m__reduce__\u001b[0m\u001b[0;34m(\u001b[0m\u001b[0mself\u001b[0m\u001b[0;34m)\u001b[0m\u001b[0;34m:\u001b[0m\u001b[0;34m\u001b[0m\u001b[0;34m\u001b[0m\u001b[0m\n",
      "\u001b[0;32m~/opt/anaconda3/lib/python3.7/site-packages/joblib/parallel.py\u001b[0m in \u001b[0;36m<listcomp>\u001b[0;34m(.0)\u001b[0m\n\u001b[1;32m    261\u001b[0m         \u001b[0;32mwith\u001b[0m \u001b[0mparallel_backend\u001b[0m\u001b[0;34m(\u001b[0m\u001b[0mself\u001b[0m\u001b[0;34m.\u001b[0m\u001b[0m_backend\u001b[0m\u001b[0;34m,\u001b[0m \u001b[0mn_jobs\u001b[0m\u001b[0;34m=\u001b[0m\u001b[0mself\u001b[0m\u001b[0;34m.\u001b[0m\u001b[0m_n_jobs\u001b[0m\u001b[0;34m)\u001b[0m\u001b[0;34m:\u001b[0m\u001b[0;34m\u001b[0m\u001b[0;34m\u001b[0m\u001b[0m\n\u001b[1;32m    262\u001b[0m             return [func(*args, **kwargs)\n\u001b[0;32m--> 263\u001b[0;31m                     for func, args, kwargs in self.items]\n\u001b[0m\u001b[1;32m    264\u001b[0m \u001b[0;34m\u001b[0m\u001b[0m\n\u001b[1;32m    265\u001b[0m     \u001b[0;32mdef\u001b[0m \u001b[0m__reduce__\u001b[0m\u001b[0;34m(\u001b[0m\u001b[0mself\u001b[0m\u001b[0;34m)\u001b[0m\u001b[0;34m:\u001b[0m\u001b[0;34m\u001b[0m\u001b[0;34m\u001b[0m\u001b[0m\n",
      "\u001b[0;32m~/opt/anaconda3/lib/python3.7/site-packages/sklearn/ensemble/_forest.py\u001b[0m in \u001b[0;36m_parallel_build_trees\u001b[0;34m(tree, forest, X, y, sample_weight, tree_idx, n_trees, verbose, class_weight, n_samples_bootstrap)\u001b[0m\n\u001b[1;32m    166\u001b[0m                                                         indices=indices)\n\u001b[1;32m    167\u001b[0m \u001b[0;34m\u001b[0m\u001b[0m\n\u001b[0;32m--> 168\u001b[0;31m         \u001b[0mtree\u001b[0m\u001b[0;34m.\u001b[0m\u001b[0mfit\u001b[0m\u001b[0;34m(\u001b[0m\u001b[0mX\u001b[0m\u001b[0;34m,\u001b[0m \u001b[0my\u001b[0m\u001b[0;34m,\u001b[0m \u001b[0msample_weight\u001b[0m\u001b[0;34m=\u001b[0m\u001b[0mcurr_sample_weight\u001b[0m\u001b[0;34m,\u001b[0m \u001b[0mcheck_input\u001b[0m\u001b[0;34m=\u001b[0m\u001b[0;32mFalse\u001b[0m\u001b[0;34m)\u001b[0m\u001b[0;34m\u001b[0m\u001b[0;34m\u001b[0m\u001b[0m\n\u001b[0m\u001b[1;32m    169\u001b[0m     \u001b[0;32melse\u001b[0m\u001b[0;34m:\u001b[0m\u001b[0;34m\u001b[0m\u001b[0;34m\u001b[0m\u001b[0m\n\u001b[1;32m    170\u001b[0m         \u001b[0mtree\u001b[0m\u001b[0;34m.\u001b[0m\u001b[0mfit\u001b[0m\u001b[0;34m(\u001b[0m\u001b[0mX\u001b[0m\u001b[0;34m,\u001b[0m \u001b[0my\u001b[0m\u001b[0;34m,\u001b[0m \u001b[0msample_weight\u001b[0m\u001b[0;34m=\u001b[0m\u001b[0msample_weight\u001b[0m\u001b[0;34m,\u001b[0m \u001b[0mcheck_input\u001b[0m\u001b[0;34m=\u001b[0m\u001b[0;32mFalse\u001b[0m\u001b[0;34m)\u001b[0m\u001b[0;34m\u001b[0m\u001b[0;34m\u001b[0m\u001b[0m\n",
      "\u001b[0;32m~/opt/anaconda3/lib/python3.7/site-packages/sklearn/tree/_classes.py\u001b[0m in \u001b[0;36mfit\u001b[0;34m(self, X, y, sample_weight, check_input, X_idx_sorted)\u001b[0m\n\u001b[1;32m    892\u001b[0m             \u001b[0msample_weight\u001b[0m\u001b[0;34m=\u001b[0m\u001b[0msample_weight\u001b[0m\u001b[0;34m,\u001b[0m\u001b[0;34m\u001b[0m\u001b[0;34m\u001b[0m\u001b[0m\n\u001b[1;32m    893\u001b[0m             \u001b[0mcheck_input\u001b[0m\u001b[0;34m=\u001b[0m\u001b[0mcheck_input\u001b[0m\u001b[0;34m,\u001b[0m\u001b[0;34m\u001b[0m\u001b[0;34m\u001b[0m\u001b[0m\n\u001b[0;32m--> 894\u001b[0;31m             X_idx_sorted=X_idx_sorted)\n\u001b[0m\u001b[1;32m    895\u001b[0m         \u001b[0;32mreturn\u001b[0m \u001b[0mself\u001b[0m\u001b[0;34m\u001b[0m\u001b[0;34m\u001b[0m\u001b[0m\n\u001b[1;32m    896\u001b[0m \u001b[0;34m\u001b[0m\u001b[0m\n",
      "\u001b[0;32m~/opt/anaconda3/lib/python3.7/site-packages/sklearn/tree/_classes.py\u001b[0m in \u001b[0;36mfit\u001b[0;34m(self, X, y, sample_weight, check_input, X_idx_sorted)\u001b[0m\n\u001b[1;32m    373\u001b[0m                                            min_impurity_split)\n\u001b[1;32m    374\u001b[0m \u001b[0;34m\u001b[0m\u001b[0m\n\u001b[0;32m--> 375\u001b[0;31m         \u001b[0mbuilder\u001b[0m\u001b[0;34m.\u001b[0m\u001b[0mbuild\u001b[0m\u001b[0;34m(\u001b[0m\u001b[0mself\u001b[0m\u001b[0;34m.\u001b[0m\u001b[0mtree_\u001b[0m\u001b[0;34m,\u001b[0m \u001b[0mX\u001b[0m\u001b[0;34m,\u001b[0m \u001b[0my\u001b[0m\u001b[0;34m,\u001b[0m \u001b[0msample_weight\u001b[0m\u001b[0;34m,\u001b[0m \u001b[0mX_idx_sorted\u001b[0m\u001b[0;34m)\u001b[0m\u001b[0;34m\u001b[0m\u001b[0;34m\u001b[0m\u001b[0m\n\u001b[0m\u001b[1;32m    376\u001b[0m \u001b[0;34m\u001b[0m\u001b[0m\n\u001b[1;32m    377\u001b[0m         \u001b[0;32mif\u001b[0m \u001b[0mself\u001b[0m\u001b[0;34m.\u001b[0m\u001b[0mn_outputs_\u001b[0m \u001b[0;34m==\u001b[0m \u001b[0;36m1\u001b[0m \u001b[0;32mand\u001b[0m \u001b[0mis_classifier\u001b[0m\u001b[0;34m(\u001b[0m\u001b[0mself\u001b[0m\u001b[0;34m)\u001b[0m\u001b[0;34m:\u001b[0m\u001b[0;34m\u001b[0m\u001b[0;34m\u001b[0m\u001b[0m\n",
      "\u001b[0;31mKeyboardInterrupt\u001b[0m: "
     ]
    },
    {
     "data": {
      "image/png": "[encoded data removed]",
      "text/plain": [
       "<Figure size 432x288 with 1 Axes>"
      ]
     },
     "metadata": {
      "needs_background": "light"
     },
     "output_type": "display_data"
    }
   ],
   "source": [
    "plot_roc_forest(X_train, y_train)"
   ]
  },
  {
   "cell_type": "code",
   "execution_count": null,
   "id": "nutritional-yacht",
   "metadata": {},
   "outputs": [],
   "source": []
  },
  {
   "cell_type": "markdown",
   "id": "advisory-background",
   "metadata": {},
   "source": [
    "##### EDA"
   ]
  },
  {
   "cell_type": "code",
   "execution_count": 29,
   "id": "centered-yellow",
   "metadata": {},
   "outputs": [],
   "source": [
    "word_counts = get_dataframe(count_vec, feature_count)"
   ]
  },
  {
   "cell_type": "code",
   "execution_count": 32,
   "id": "blank-cathedral",
   "metadata": {},
   "outputs": [],
   "source": [
    "word_counts['network'] = chy_nets['channel']"
   ]
  },
  {
   "cell_type": "code",
   "execution_count": 38,
   "id": "unusual-prague",
   "metadata": {},
   "outputs": [
    {
     "data": {
      "text/plain": [
       "(pandas.core.series.Series, pandas.core.frame.DataFrame)"
      ]
     },
     "execution_count": 38,
     "metadata": {},
     "output_type": "execute_result"
    }
   ],
   "source": [
    "type(chy_nets['channel']), type(word_counts)"
   ]
  },
  {
   "cell_type": "code",
   "execution_count": 41,
   "id": "peripheral-measurement",
   "metadata": {},
   "outputs": [],
   "source": [
    "word_counts = word_counts.assign(network=chy_nets['channel'].values)"
   ]
  },
  {
   "cell_type": "code",
   "execution_count": 56,
   "id": "defined-airport",
   "metadata": {},
   "outputs": [],
   "source": [
    "fox_words = word_counts.loc[word_counts['network'] == 'FOXNEWSW']\n",
    "nbc_words = word_counts.loc[word_counts['network'] == 'MSNBCW']"
   ]
  },
  {
   "cell_type": "code",
   "execution_count": 57,
   "id": "abstract-infrastructure",
   "metadata": {},
   "outputs": [],
   "source": [
    "fox_words.drop('network', axis=1, inplace=True)\n",
    "top_fox_words = fox_words.sum().sort_values(ascending=False)"
   ]
  },
  {
   "cell_type": "code",
   "execution_count": 58,
   "id": "adaptive-specialist",
   "metadata": {},
   "outputs": [],
   "source": [
    "nbc_words.drop('network', axis=1, inplace=True)\n",
    "top_nbc_words = nbc_words.sum().sort_values(ascending=False)"
   ]
  },
  {
   "cell_type": "code",
   "execution_count": 59,
   "id": "respective-supervision",
   "metadata": {
    "scrolled": true
   },
   "outputs": [
    {
     "data": {
      "text/plain": [
       "trump          21833\n",
       "biden          10125\n",
       "president       6930\n",
       "police          6763\n",
       "new             4078\n",
       "covid           3725\n",
       "protests        3463\n",
       "court           3384\n",
       "house           3230\n",
       "news            3202\n",
       "com             3141\n",
       "ntrump          2993\n",
       "fox             2904\n",
       "campaign        2587\n",
       "cities          2476\n",
       "election        2443\n",
       "ni              2430\n",
       "debate          2314\n",
       "supreme         2264\n",
       "violence        2244\n",
       "coronavirus     2173\n",
       "white           2146\n",
       "floyd           2138\n",
       "america         2061\n",
       "protesters      2003\n",
       "dtype: int64"
      ]
     },
     "execution_count": 59,
     "metadata": {},
     "output_type": "execute_result"
    }
   ],
   "source": [
    "top_fox_words[:25]"
   ]
  },
  {
   "cell_type": "code",
   "execution_count": 60,
   "id": "independent-stake",
   "metadata": {},
   "outputs": [
    {
     "data": {
      "text/plain": [
       "trump          45798\n",
       "biden          12457\n",
       "ntrump          9398\n",
       "covid           9234\n",
       "cases           8890\n",
       "new             8530\n",
       "virus           8045\n",
       "police          6548\n",
       "house           5862\n",
       "election        5545\n",
       "says            5321\n",
       "coronavirus     5062\n",
       "protests        4797\n",
       "white           4376\n",
       "ni              4248\n",
       "floyd           4150\n",
       "campaign        4137\n",
       "pres            3951\n",
       "harris          3814\n",
       "president       3777\n",
       "death           3683\n",
       "states          3671\n",
       "court           3529\n",
       "news            3491\n",
       "george          3303\n",
       "dtype: int64"
      ]
     },
     "execution_count": 60,
     "metadata": {},
     "output_type": "execute_result"
    }
   ],
   "source": [
    "top_nbc_words[:25]"
   ]
  },
  {
   "cell_type": "markdown",
   "id": "danish-aggregate",
   "metadata": {},
   "source": [
    "##### NMF"
   ]
  },
  {
   "cell_type": "code",
   "execution_count": null,
   "id": "heard-roads",
   "metadata": {},
   "outputs": [],
   "source": [
    "def fit_nmf(X, n_components=2):\n",
    "    \n",
    "    nmf = NMF(n_components=n_components)\n",
    "    W = nmf.fit_transform(X)\n",
    "    H = nmf.components_"
   ]
  }
 ],
 "metadata": {
  "kernelspec": {
   "display_name": "Python 3",
   "language": "python",
   "name": "python3"
  },
  "language_info": {
   "codemirror_mode": {
    "name": "ipython",
    "version": 3
   },
   "file_extension": ".py",
   "mimetype": "text/x-python",
   "name": "python",
   "nbconvert_exporter": "python",
   "pygments_lexer": "ipython3",
   "version": "3.7.9"
  }
 },
 "nbformat": 4,
 "nbformat_minor": 5
}
