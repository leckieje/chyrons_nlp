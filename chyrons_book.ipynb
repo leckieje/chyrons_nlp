{
 "cells": [
  {
   "cell_type": "code",
   "execution_count": 28,
   "id": "distinct-discharge",
   "metadata": {},
   "outputs": [],
   "source": [
    "import pandas as pd \n",
    "import numpy as np\n",
    "import matplotlib.pyplot as plt\n",
    "import random\n",
    "import string\n",
    "import re\n",
    "\n",
    "import nltk\n",
    "from nltk.corpus import stopwords, words\n",
    "from nltk.corpus import words\n",
    "from sklearn.feature_extraction.text import CountVectorizer, TfidfVectorizer\n",
    "\n",
    "# nltk.download('words')"
   ]
  },
  {
   "cell_type": "code",
   "execution_count": 27,
   "id": "greatest-formula",
   "metadata": {},
   "outputs": [],
   "source": [
    "# chyron archive web address: https://archive.org/services/third-eye.php\n",
    "\n",
    "import datetime\n",
    "\n",
    "# pull chyrons from web as dataframes\n",
    "def get_dfs(start_y=2017, start_m=9, start_d=7, end_today=True, end_y=None, end_m=None, end_d=None):\n",
    "    \n",
    "    first = datetime.date(start_y, start_m, start_d)\n",
    "    delta = datetime.timedelta(weeks=1)\n",
    "    last = first + delta\n",
    "    dfs = []\n",
    "    iters = 0\n",
    "    \n",
    "    if end_today:\n",
    "        stop = datetime.date.today()\n",
    "    else:\n",
    "        stop = datetime.date(end_y, end_m, end_d)\n",
    "    \n",
    "    while first < stop:\n",
    "        if iters > 210:\n",
    "            break\n",
    "        else:\n",
    "            print(iters)\n",
    "            first_str = first.strftime('%m/%d/%y')\n",
    "            last_str = last.strftime('%m/%d/%y')\n",
    "            url = f'https://archive.org/services/third-eye.php?dayL={first_str}&dayR={last_str}'\n",
    "            df = pd.read_csv(url, delimiter='\\t')\n",
    "            dfs.append(df)\n",
    "\n",
    "            first = last + datetime.timedelta(days=1)\n",
    "            last = first + delta\n",
    "            \n",
    "            if last > stop:\n",
    "                last = stop\n",
    "                \n",
    "            iters += 1\n",
    "        \n",
    "    return dfs\n",
    "\n",
    "# cleans dfs\n",
    "def clean_dfs(df, csv=True, concat=False, csv_name='chyron_next'):\n",
    "    \n",
    "    # stack dfs from list\n",
    "    if concat:\n",
    "        df = pd.concat(df, ignore_index=True)\n",
    "        \n",
    "    # drop duplicates\n",
    "    df.drop_duplicates(subset=['text'], keep='first', inplace=True, ignore_index=True)\n",
    "    \n",
    "    # count words in chyron \n",
    "    df['num_words'] = df['text'].apply(lambda x: len(x.split()) if isinstance(x, str) else 'NaN')\n",
    "    \n",
    "    # save to local csv          \n",
    "    if csv:\n",
    "        df.to_csv(f'/Users/jonleckie/Desktop/DSI_all/capstones/capstone_two/chyrons/{csv_name}.csv')    \n",
    "    \n",
    "    return df\n",
    "\n",
    "# wrapper for above functions --> NOT TESTED\n",
    "def get_chyrons(start_y=2017, start_m=9, start_d=7, end_today=True, end_y=None, end_m=None, end_d=None):\n",
    "    df = get_dfs(start_y, start_m, start_d, end_today, end_y, end_m, end_d)\n",
    "    df = clean_dfs(df, csv=True, concat=False, csv_name='chyron2')\n",
    "    return df"
   ]
  },
  {
   "cell_type": "code",
   "execution_count": 4,
   "id": "stock-insured",
   "metadata": {},
   "outputs": [
    {
     "name": "stdout",
     "output_type": "stream",
     "text": [
      "0\n",
      "1\n"
     ]
    }
   ],
   "source": [
    "cryon_lst = get_dfs(start_y=2021, start_m=3, start_d=17, end_today=True)"
   ]
  },
  {
   "cell_type": "code",
   "execution_count": 5,
   "id": "protected-receptor",
   "metadata": {},
   "outputs": [
    {
     "data": {
      "text/plain": [
       "2"
      ]
     },
     "execution_count": 5,
     "metadata": {},
     "output_type": "execute_result"
    }
   ],
   "source": [
    "len(cryon_lst)"
   ]
  },
  {
   "cell_type": "code",
   "execution_count": null,
   "id": "future-spokesman",
   "metadata": {},
   "outputs": [],
   "source": [
    "# secondary clean for chryon_all:\n",
    "\n",
    "chryon_all.drop(472372, inplace=True) # index from this: chryon_all[chryon_all['num_words'] == 'NaN']"
   ]
  },
  {
   "cell_type": "code",
   "execution_count": 64,
   "id": "canadian-indicator",
   "metadata": {},
   "outputs": [],
   "source": [
    "df = pd.DataFrame(cryon_lst[-2])"
   ]
  },
  {
   "cell_type": "code",
   "execution_count": 65,
   "id": "extensive-omaha",
   "metadata": {
    "scrolled": true
   },
   "outputs": [
    {
     "data": {
      "text/html": [
       "<div>\n",
       "<style scoped>\n",
       "    .dataframe tbody tr th:only-of-type {\n",
       "        vertical-align: middle;\n",
       "    }\n",
       "\n",
       "    .dataframe tbody tr th {\n",
       "        vertical-align: top;\n",
       "    }\n",
       "\n",
       "    .dataframe thead th {\n",
       "        text-align: right;\n",
       "    }\n",
       "</style>\n",
       "<table border=\"1\" class=\"dataframe\">\n",
       "  <thead>\n",
       "    <tr style=\"text-align: right;\">\n",
       "      <th></th>\n",
       "      <th>date_time_(UTC)</th>\n",
       "      <th>channel</th>\n",
       "      <th>duration</th>\n",
       "      <th>https://archive.org/details/</th>\n",
       "      <th>text</th>\n",
       "    </tr>\n",
       "  </thead>\n",
       "  <tbody>\n",
       "    <tr>\n",
       "      <th>0</th>\n",
       "      <td>2021-03-10 00:00:00</td>\n",
       "      <td>CNNW</td>\n",
       "      <td>15</td>\n",
       "      <td>CNNW_20210309_230000_The_Situation_Room_With_W...</td>\n",
       "      <td>HOUSE SET TO PASS BIDEN'S COVID RELIEF PLAN TO...</td>\n",
       "    </tr>\n",
       "    <tr>\n",
       "      <th>1</th>\n",
       "      <td>2021-03-10 00:01:00</td>\n",
       "      <td>CNNW</td>\n",
       "      <td>30</td>\n",
       "      <td>CNNW_20210310_000000_Erin_Burnett_OutFront/sta...</td>\n",
       "      <td>HOUSE SET TO PASS BIDEN'S COVID RELIEF PLAN TO...</td>\n",
       "    </tr>\n",
       "    <tr>\n",
       "      <th>2</th>\n",
       "      <td>2021-03-10 00:01:00</td>\n",
       "      <td>MSNBCW</td>\n",
       "      <td>18</td>\n",
       "      <td>MSNBCW_20210310_000000_The_ReidOut/start/60</td>\n",
       "      <td>HOSPITALIZATIONS DECLINE AS VACCINATIDNS RAMP ...</td>\n",
       "    </tr>\n",
       "    <tr>\n",
       "      <th>3</th>\n",
       "      <td>2021-03-10 00:03:00</td>\n",
       "      <td>BBCNEWS</td>\n",
       "      <td>8</td>\n",
       "      <td>BBCNEWS_20210310_000000_BBC_World_News/start/180</td>\n",
       "      <td>m THOMAS MARKLE SPEAKS OUT. . HE. NEWS</td>\n",
       "    </tr>\n",
       "    <tr>\n",
       "      <th>4</th>\n",
       "      <td>2021-03-10 00:03:00</td>\n",
       "      <td>MSNBCW</td>\n",
       "      <td>24</td>\n",
       "      <td>MSNBCW_20210310_000000_The_ReidOut/start/180</td>\n",
       "      <td>CDC OFFERS NEW GUIDANCE FOR VACCINATEI] AMERIC...</td>\n",
       "    </tr>\n",
       "    <tr>\n",
       "      <th>...</th>\n",
       "      <td>...</td>\n",
       "      <td>...</td>\n",
       "      <td>...</td>\n",
       "      <td>...</td>\n",
       "      <td>...</td>\n",
       "    </tr>\n",
       "    <tr>\n",
       "      <th>18054</th>\n",
       "      <td>2021-03-16 23:53:00</td>\n",
       "      <td>FOXNEWSW</td>\n",
       "      <td>41</td>\n",
       "      <td>FOXNEWSW_20210316_230000_FOX_News_Primetime/st...</td>\n",
       "      <td>DEMS' RADICAL TAKEOVER ATTEMPT\\n'WUW. . | GOV ...</td>\n",
       "    </tr>\n",
       "    <tr>\n",
       "      <th>18055</th>\n",
       "      <td>2021-03-16 23:53:00</td>\n",
       "      <td>MSNBCW</td>\n",
       "      <td>16</td>\n",
       "      <td>MSNBCW_20210316_230000_The_ReidOut/start/3180</td>\n",
       "      <td>FLORIDA OFFICIALS CUNGERNED ABOUT SPRING BREAK...</td>\n",
       "    </tr>\n",
       "    <tr>\n",
       "      <th>18056</th>\n",
       "      <td>2021-03-16 23:54:00</td>\n",
       "      <td>FOXNEWSW</td>\n",
       "      <td>31</td>\n",
       "      <td>FOXNEWSW_20210316_230000_FOX_News_Primetime/st...</td>\n",
       "      <td>GOV NEWSOM BLAMES GOP FOR RECALL EFFORTS\\n'WUW...</td>\n",
       "    </tr>\n",
       "    <tr>\n",
       "      <th>18057</th>\n",
       "      <td>2021-03-16 23:54:00</td>\n",
       "      <td>MSNBCW</td>\n",
       "      <td>39</td>\n",
       "      <td>MSNBCW_20210316_230000_The_ReidOut/start/3240</td>\n",
       "      <td>FLORIDA OFFICIALS CUNCERNED ABOUT SPRING BREAK...</td>\n",
       "    </tr>\n",
       "    <tr>\n",
       "      <th>18058</th>\n",
       "      <td>2021-03-16 23:55:00</td>\n",
       "      <td>MSNBCW</td>\n",
       "      <td>63</td>\n",
       "      <td>MSNBCW_20210316_230000_The_ReidOut/start/3300</td>\n",
       "      <td>CDVID DENIERS 8: ANTI-VAXXERS PROLONGING PANDEMIC</td>\n",
       "    </tr>\n",
       "  </tbody>\n",
       "</table>\n",
       "<p>18059 rows × 5 columns</p>\n",
       "</div>"
      ],
      "text/plain": [
       "           date_time_(UTC)   channel  duration  \\\n",
       "0      2021-03-10 00:00:00      CNNW        15   \n",
       "1      2021-03-10 00:01:00      CNNW        30   \n",
       "2      2021-03-10 00:01:00    MSNBCW        18   \n",
       "3      2021-03-10 00:03:00   BBCNEWS         8   \n",
       "4      2021-03-10 00:03:00    MSNBCW        24   \n",
       "...                    ...       ...       ...   \n",
       "18054  2021-03-16 23:53:00  FOXNEWSW        41   \n",
       "18055  2021-03-16 23:53:00    MSNBCW        16   \n",
       "18056  2021-03-16 23:54:00  FOXNEWSW        31   \n",
       "18057  2021-03-16 23:54:00    MSNBCW        39   \n",
       "18058  2021-03-16 23:55:00    MSNBCW        63   \n",
       "\n",
       "                            https://archive.org/details/  \\\n",
       "0      CNNW_20210309_230000_The_Situation_Room_With_W...   \n",
       "1      CNNW_20210310_000000_Erin_Burnett_OutFront/sta...   \n",
       "2            MSNBCW_20210310_000000_The_ReidOut/start/60   \n",
       "3       BBCNEWS_20210310_000000_BBC_World_News/start/180   \n",
       "4           MSNBCW_20210310_000000_The_ReidOut/start/180   \n",
       "...                                                  ...   \n",
       "18054  FOXNEWSW_20210316_230000_FOX_News_Primetime/st...   \n",
       "18055      MSNBCW_20210316_230000_The_ReidOut/start/3180   \n",
       "18056  FOXNEWSW_20210316_230000_FOX_News_Primetime/st...   \n",
       "18057      MSNBCW_20210316_230000_The_ReidOut/start/3240   \n",
       "18058      MSNBCW_20210316_230000_The_ReidOut/start/3300   \n",
       "\n",
       "                                                    text  \n",
       "0      HOUSE SET TO PASS BIDEN'S COVID RELIEF PLAN TO...  \n",
       "1      HOUSE SET TO PASS BIDEN'S COVID RELIEF PLAN TO...  \n",
       "2      HOSPITALIZATIONS DECLINE AS VACCINATIDNS RAMP ...  \n",
       "3                 m THOMAS MARKLE SPEAKS OUT. . HE. NEWS  \n",
       "4      CDC OFFERS NEW GUIDANCE FOR VACCINATEI] AMERIC...  \n",
       "...                                                  ...  \n",
       "18054  DEMS' RADICAL TAKEOVER ATTEMPT\\n'WUW. . | GOV ...  \n",
       "18055  FLORIDA OFFICIALS CUNGERNED ABOUT SPRING BREAK...  \n",
       "18056  GOV NEWSOM BLAMES GOP FOR RECALL EFFORTS\\n'WUW...  \n",
       "18057  FLORIDA OFFICIALS CUNCERNED ABOUT SPRING BREAK...  \n",
       "18058  CDVID DENIERS 8: ANTI-VAXXERS PROLONGING PANDEMIC  \n",
       "\n",
       "[18059 rows x 5 columns]"
      ]
     },
     "execution_count": 65,
     "metadata": {},
     "output_type": "execute_result"
    }
   ],
   "source": [
    "df"
   ]
  },
  {
   "cell_type": "code",
   "execution_count": 73,
   "id": "amended-lover",
   "metadata": {},
   "outputs": [],
   "source": [
    "chyrons = pd.concat(cryon_lst, ignore_index=True)"
   ]
  },
  {
   "cell_type": "code",
   "execution_count": 74,
   "id": "searching-bahamas",
   "metadata": {},
   "outputs": [
    {
     "data": {
      "text/plain": [
       "3253973"
      ]
     },
     "execution_count": 74,
     "metadata": {},
     "output_type": "execute_result"
    }
   ],
   "source": [
    "len(chyrons)"
   ]
  },
  {
   "cell_type": "code",
   "execution_count": 76,
   "id": "painful-winter",
   "metadata": {},
   "outputs": [
    {
     "data": {
      "text/html": [
       "<div>\n",
       "<style scoped>\n",
       "    .dataframe tbody tr th:only-of-type {\n",
       "        vertical-align: middle;\n",
       "    }\n",
       "\n",
       "    .dataframe tbody tr th {\n",
       "        vertical-align: top;\n",
       "    }\n",
       "\n",
       "    .dataframe thead th {\n",
       "        text-align: right;\n",
       "    }\n",
       "</style>\n",
       "<table border=\"1\" class=\"dataframe\">\n",
       "  <thead>\n",
       "    <tr style=\"text-align: right;\">\n",
       "      <th></th>\n",
       "      <th>date_time_(UTC)</th>\n",
       "      <th>channel</th>\n",
       "      <th>duration</th>\n",
       "      <th>https://archive.org/details/</th>\n",
       "      <th>text</th>\n",
       "    </tr>\n",
       "  </thead>\n",
       "  <tbody>\n",
       "    <tr>\n",
       "      <th>3253968</th>\n",
       "      <td>2021-03-16 23:53:00</td>\n",
       "      <td>FOXNEWSW</td>\n",
       "      <td>41.0</td>\n",
       "      <td>FOXNEWSW_20210316_230000_FOX_News_Primetime/st...</td>\n",
       "      <td>DEMS' RADICAL TAKEOVER ATTEMPT\\n'WUW. . | GOV ...</td>\n",
       "    </tr>\n",
       "    <tr>\n",
       "      <th>3253969</th>\n",
       "      <td>2021-03-16 23:53:00</td>\n",
       "      <td>MSNBCW</td>\n",
       "      <td>16.0</td>\n",
       "      <td>MSNBCW_20210316_230000_The_ReidOut/start/3180</td>\n",
       "      <td>FLORIDA OFFICIALS CUNGERNED ABOUT SPRING BREAK...</td>\n",
       "    </tr>\n",
       "    <tr>\n",
       "      <th>3253970</th>\n",
       "      <td>2021-03-16 23:54:00</td>\n",
       "      <td>FOXNEWSW</td>\n",
       "      <td>31.0</td>\n",
       "      <td>FOXNEWSW_20210316_230000_FOX_News_Primetime/st...</td>\n",
       "      <td>GOV NEWSOM BLAMES GOP FOR RECALL EFFORTS\\n'WUW...</td>\n",
       "    </tr>\n",
       "    <tr>\n",
       "      <th>3253971</th>\n",
       "      <td>2021-03-16 23:54:00</td>\n",
       "      <td>MSNBCW</td>\n",
       "      <td>39.0</td>\n",
       "      <td>MSNBCW_20210316_230000_The_ReidOut/start/3240</td>\n",
       "      <td>FLORIDA OFFICIALS CUNCERNED ABOUT SPRING BREAK...</td>\n",
       "    </tr>\n",
       "    <tr>\n",
       "      <th>3253972</th>\n",
       "      <td>2021-03-16 23:55:00</td>\n",
       "      <td>MSNBCW</td>\n",
       "      <td>63.0</td>\n",
       "      <td>MSNBCW_20210316_230000_The_ReidOut/start/3300</td>\n",
       "      <td>CDVID DENIERS 8: ANTI-VAXXERS PROLONGING PANDEMIC</td>\n",
       "    </tr>\n",
       "  </tbody>\n",
       "</table>\n",
       "</div>"
      ],
      "text/plain": [
       "             date_time_(UTC)   channel  duration  \\\n",
       "3253968  2021-03-16 23:53:00  FOXNEWSW      41.0   \n",
       "3253969  2021-03-16 23:53:00    MSNBCW      16.0   \n",
       "3253970  2021-03-16 23:54:00  FOXNEWSW      31.0   \n",
       "3253971  2021-03-16 23:54:00    MSNBCW      39.0   \n",
       "3253972  2021-03-16 23:55:00    MSNBCW      63.0   \n",
       "\n",
       "                              https://archive.org/details/  \\\n",
       "3253968  FOXNEWSW_20210316_230000_FOX_News_Primetime/st...   \n",
       "3253969      MSNBCW_20210316_230000_The_ReidOut/start/3180   \n",
       "3253970  FOXNEWSW_20210316_230000_FOX_News_Primetime/st...   \n",
       "3253971      MSNBCW_20210316_230000_The_ReidOut/start/3240   \n",
       "3253972      MSNBCW_20210316_230000_The_ReidOut/start/3300   \n",
       "\n",
       "                                                      text  \n",
       "3253968  DEMS' RADICAL TAKEOVER ATTEMPT\\n'WUW. . | GOV ...  \n",
       "3253969  FLORIDA OFFICIALS CUNGERNED ABOUT SPRING BREAK...  \n",
       "3253970  GOV NEWSOM BLAMES GOP FOR RECALL EFFORTS\\n'WUW...  \n",
       "3253971  FLORIDA OFFICIALS CUNCERNED ABOUT SPRING BREAK...  \n",
       "3253972  CDVID DENIERS 8: ANTI-VAXXERS PROLONGING PANDEMIC  "
      ]
     },
     "execution_count": 76,
     "metadata": {},
     "output_type": "execute_result"
    }
   ],
   "source": [
    "chyrons.tail()"
   ]
  },
  {
   "cell_type": "code",
   "execution_count": 77,
   "id": "colored-weekly",
   "metadata": {},
   "outputs": [
    {
     "name": "stdout",
     "output_type": "stream",
     "text": [
      "0\n"
     ]
    }
   ],
   "source": [
    "#3/16/2021\n",
    "# chyrons_since = get_dfs(start_y=2021, start_m=3, start_d=18, end_today=True)"
   ]
  },
  {
   "cell_type": "code",
   "execution_count": 80,
   "id": "driven-kernel",
   "metadata": {},
   "outputs": [],
   "source": [
    "chyrons.to_csv('/Users/jonleckie/Desktop/DSI_all/capstones/capstone_two/chyrons/chyron.csv')"
   ]
  },
  {
   "cell_type": "code",
   "execution_count": 93,
   "id": "shaped-account",
   "metadata": {},
   "outputs": [],
   "source": [
    "chyrons = clean_dfs(chyrons)"
   ]
  },
  {
   "cell_type": "code",
   "execution_count": 90,
   "id": "announced-spoke",
   "metadata": {},
   "outputs": [
    {
     "data": {
      "text/plain": [
       "array(['BBCNEWS', 'CNNW', 'FOXNEWSW', 'MSNBCW', nan], dtype=object)"
      ]
     },
     "execution_count": 90,
     "metadata": {},
     "output_type": "execute_result"
    }
   ],
   "source": [
    "chyrons.channel.unique()"
   ]
  },
  {
   "cell_type": "code",
   "execution_count": 95,
   "id": "juvenile-football",
   "metadata": {},
   "outputs": [
    {
     "name": "stdout",
     "output_type": "stream",
     "text": [
      "<class 'pandas.core.frame.DataFrame'>\n",
      "RangeIndex: 2652398 entries, 0 to 2652397\n",
      "Data columns (total 6 columns):\n",
      " #   Column                        Non-Null Count    Dtype  \n",
      "---  ------                        --------------    -----  \n",
      " 0   date_time_(UTC)               2652398 non-null  object \n",
      " 1   channel                       2652397 non-null  object \n",
      " 2   duration                      2652397 non-null  float64\n",
      " 3   https://archive.org/details/  2647435 non-null  object \n",
      " 4   text                          2652397 non-null  object \n",
      " 5   num_words                     205492 non-null   float64\n",
      "dtypes: float64(2), object(4)\n",
      "memory usage: 121.4+ MB\n"
     ]
    }
   ],
   "source": [
    "chyrons.info(show_counts=True)"
   ]
  },
  {
   "cell_type": "code",
   "execution_count": 7,
   "id": "abstract-static",
   "metadata": {},
   "outputs": [],
   "source": [
    "cryon2 = clean_dfs(cryon_lst, csv=False, concat=True, csv_name='chyron2')"
   ]
  },
  {
   "cell_type": "code",
   "execution_count": 9,
   "id": "adverse-calendar",
   "metadata": {},
   "outputs": [
    {
     "data": {
      "text/html": [
       "<div>\n",
       "<style scoped>\n",
       "    .dataframe tbody tr th:only-of-type {\n",
       "        vertical-align: middle;\n",
       "    }\n",
       "\n",
       "    .dataframe tbody tr th {\n",
       "        vertical-align: top;\n",
       "    }\n",
       "\n",
       "    .dataframe thead th {\n",
       "        text-align: right;\n",
       "    }\n",
       "</style>\n",
       "<table border=\"1\" class=\"dataframe\">\n",
       "  <thead>\n",
       "    <tr style=\"text-align: right;\">\n",
       "      <th></th>\n",
       "      <th>date_time_(UTC)</th>\n",
       "      <th>channel</th>\n",
       "      <th>duration</th>\n",
       "      <th>https://archive.org/details/</th>\n",
       "      <th>text</th>\n",
       "      <th>num_words</th>\n",
       "    </tr>\n",
       "  </thead>\n",
       "  <tbody>\n",
       "    <tr>\n",
       "      <th>2111</th>\n",
       "      <td>2021-03-28 19:43:00</td>\n",
       "      <td>CNNW</td>\n",
       "      <td>31</td>\n",
       "      <td>CNNW_20210328_190000_CNN_Newsroom_With_Fredric...</td>\n",
       "      <td>DEREK CHAUVIN TRIAL BEGINS TOMORROW\\nDEREK CHA...</td>\n",
       "      <td>23</td>\n",
       "    </tr>\n",
       "    <tr>\n",
       "      <th>2112</th>\n",
       "      <td>2021-03-28 19:44:00</td>\n",
       "      <td>MSNBCW</td>\n",
       "      <td>25</td>\n",
       "      <td>MSNBCW_20210328_190000_MSNBC_Live_With_Yasmin_...</td>\n",
       "      <td>NEW ANALYSIS SHOWS NATIONWIDE HOMES. FOR SALE ...</td>\n",
       "      <td>33</td>\n",
       "    </tr>\n",
       "    <tr>\n",
       "      <th>2113</th>\n",
       "      <td>2021-03-28 19:44:00</td>\n",
       "      <td>CNNW</td>\n",
       "      <td>29</td>\n",
       "      <td>CNNW_20210328_190000_CNN_Newsroom_With_Fredric...</td>\n",
       "      <td>DEREK CHAUVIN TRIAL BEGINS TOMORROW. . Former ...</td>\n",
       "      <td>34</td>\n",
       "    </tr>\n",
       "    <tr>\n",
       "      <th>2114</th>\n",
       "      <td>2021-03-28 19:45:00</td>\n",
       "      <td>MSNBCW</td>\n",
       "      <td>51</td>\n",
       "      <td>MSNBCW_20210328_190000_MSNBC_Live_With_Yasmin_...</td>\n",
       "      <td>NEW ANALYSIS SHOWS NUMBER OF AVAILABLE HOMES. ...</td>\n",
       "      <td>15</td>\n",
       "    </tr>\n",
       "    <tr>\n",
       "      <th>2115</th>\n",
       "      <td>2021-03-28 19:45:00</td>\n",
       "      <td>CNNW</td>\n",
       "      <td>45</td>\n",
       "      <td>CNNW_20210328_190000_CNN_Newsroom_With_Fredric...</td>\n",
       "      <td>DEREK CHAUVIN TRIAL BEGINS TOMORROW. . Trial i...</td>\n",
       "      <td>35</td>\n",
       "    </tr>\n",
       "  </tbody>\n",
       "</table>\n",
       "</div>"
      ],
      "text/plain": [
       "          date_time_(UTC) channel duration  \\\n",
       "2111  2021-03-28 19:43:00    CNNW       31   \n",
       "2112  2021-03-28 19:44:00  MSNBCW       25   \n",
       "2113  2021-03-28 19:44:00    CNNW       29   \n",
       "2114  2021-03-28 19:45:00  MSNBCW       51   \n",
       "2115  2021-03-28 19:45:00    CNNW       45   \n",
       "\n",
       "                           https://archive.org/details/  \\\n",
       "2111  CNNW_20210328_190000_CNN_Newsroom_With_Fredric...   \n",
       "2112  MSNBCW_20210328_190000_MSNBC_Live_With_Yasmin_...   \n",
       "2113  CNNW_20210328_190000_CNN_Newsroom_With_Fredric...   \n",
       "2114  MSNBCW_20210328_190000_MSNBC_Live_With_Yasmin_...   \n",
       "2115  CNNW_20210328_190000_CNN_Newsroom_With_Fredric...   \n",
       "\n",
       "                                                   text  num_words  \n",
       "2111  DEREK CHAUVIN TRIAL BEGINS TOMORROW\\nDEREK CHA...         23  \n",
       "2112  NEW ANALYSIS SHOWS NATIONWIDE HOMES. FOR SALE ...         33  \n",
       "2113  DEREK CHAUVIN TRIAL BEGINS TOMORROW. . Former ...         34  \n",
       "2114  NEW ANALYSIS SHOWS NUMBER OF AVAILABLE HOMES. ...         15  \n",
       "2115  DEREK CHAUVIN TRIAL BEGINS TOMORROW. . Trial i...         35  "
      ]
     },
     "execution_count": 9,
     "metadata": {},
     "output_type": "execute_result"
    }
   ],
   "source": [
    "cryon2.tail()"
   ]
  },
  {
   "cell_type": "code",
   "execution_count": 10,
   "id": "ranking-argument",
   "metadata": {},
   "outputs": [
    {
     "name": "stdout",
     "output_type": "stream",
     "text": [
      "0\n",
      "1\n"
     ]
    }
   ],
   "source": [
    "cryon2 = get_dfs(start_y=2021, start_m=3, start_d=17, end_today=True)"
   ]
  },
  {
   "cell_type": "code",
   "execution_count": 12,
   "id": "positive-calibration",
   "metadata": {},
   "outputs": [],
   "source": [
    "cryon2 = pd.concat(cryon_lst, ignore_index=True)"
   ]
  },
  {
   "cell_type": "code",
   "execution_count": 15,
   "id": "parallel-night",
   "metadata": {},
   "outputs": [
    {
     "name": "stdout",
     "output_type": "stream",
     "text": [
      "0\n",
      "2348\n"
     ]
    }
   ],
   "source": [
    "for i in cryon_lst:\n",
    "    print(len(i))"
   ]
  },
  {
   "cell_type": "code",
   "execution_count": 17,
   "id": "fresh-character",
   "metadata": {},
   "outputs": [],
   "source": [
    "chyron2 = clean_dfs(cryon_lst, csv=True, concat=True, csv_name='chyron3_28')"
   ]
  },
  {
   "cell_type": "code",
   "execution_count": 18,
   "id": "usual-hometown",
   "metadata": {},
   "outputs": [
    {
     "data": {
      "text/html": [
       "<div>\n",
       "<style scoped>\n",
       "    .dataframe tbody tr th:only-of-type {\n",
       "        vertical-align: middle;\n",
       "    }\n",
       "\n",
       "    .dataframe tbody tr th {\n",
       "        vertical-align: top;\n",
       "    }\n",
       "\n",
       "    .dataframe thead th {\n",
       "        text-align: right;\n",
       "    }\n",
       "</style>\n",
       "<table border=\"1\" class=\"dataframe\">\n",
       "  <thead>\n",
       "    <tr style=\"text-align: right;\">\n",
       "      <th></th>\n",
       "      <th>date_time_(UTC)</th>\n",
       "      <th>channel</th>\n",
       "      <th>duration</th>\n",
       "      <th>https://archive.org/details/</th>\n",
       "      <th>text</th>\n",
       "      <th>num_words</th>\n",
       "    </tr>\n",
       "  </thead>\n",
       "  <tbody>\n",
       "    <tr>\n",
       "      <th>0</th>\n",
       "      <td>2021-03-28 00:00:00</td>\n",
       "      <td>CNNW</td>\n",
       "      <td>10</td>\n",
       "      <td>CNNW_20210327_230000_CNN_Newsroom_With_Pamela_...</td>\n",
       "      <td>ACTIVISTS CALL NEW GEORGIA LAW DELIBERATE VOTE...</td>\n",
       "      <td>9</td>\n",
       "    </tr>\n",
       "    <tr>\n",
       "      <th>1</th>\n",
       "      <td>2021-03-28 00:01:00</td>\n",
       "      <td>MSNBCW</td>\n",
       "      <td>43</td>\n",
       "      <td>MSNBCW_20210328_000000_The_Week_With_Joshua_Jo...</td>\n",
       "      <td>PROTESTERS BATHER IN ATLANTA FUR VOTING RIGHTS...</td>\n",
       "      <td>13</td>\n",
       "    </tr>\n",
       "    <tr>\n",
       "      <th>2</th>\n",
       "      <td>2021-03-28 00:01:00</td>\n",
       "      <td>FOXNEWSW</td>\n",
       "      <td>23</td>\n",
       "      <td>FOXNEWSW_20210328_000000_Watters_World/start/60</td>\n",
       "      <td>AMERICA IS WATCHING 'THE TRUMAN SHOW'. . Wattn...</td>\n",
       "      <td>16</td>\n",
       "    </tr>\n",
       "    <tr>\n",
       "      <th>3</th>\n",
       "      <td>2021-03-28 00:02:00</td>\n",
       "      <td>CNNW</td>\n",
       "      <td>29</td>\n",
       "      <td>CNNW_20210328_000000_CNN_Newsroom_With_Pamela_...</td>\n",
       "      <td>GEORGIA ELECTION LAW PROTESTERS SHOW SUPPORT. ...</td>\n",
       "      <td>27</td>\n",
       "    </tr>\n",
       "    <tr>\n",
       "      <th>4</th>\n",
       "      <td>2021-03-28 00:02:00</td>\n",
       "      <td>BBCNEWS</td>\n",
       "      <td>12</td>\n",
       "      <td>BBCNEWS_20210328_000000_BBC_News/start/120</td>\n",
       "      <td>Army Genera\\u2014l &amp; Coup L-eader\\nBE. NEWS</td>\n",
       "      <td>6</td>\n",
       "    </tr>\n",
       "  </tbody>\n",
       "</table>\n",
       "</div>"
      ],
      "text/plain": [
       "       date_time_(UTC)   channel duration  \\\n",
       "0  2021-03-28 00:00:00      CNNW       10   \n",
       "1  2021-03-28 00:01:00    MSNBCW       43   \n",
       "2  2021-03-28 00:01:00  FOXNEWSW       23   \n",
       "3  2021-03-28 00:02:00      CNNW       29   \n",
       "4  2021-03-28 00:02:00   BBCNEWS       12   \n",
       "\n",
       "                        https://archive.org/details/  \\\n",
       "0  CNNW_20210327_230000_CNN_Newsroom_With_Pamela_...   \n",
       "1  MSNBCW_20210328_000000_The_Week_With_Joshua_Jo...   \n",
       "2    FOXNEWSW_20210328_000000_Watters_World/start/60   \n",
       "3  CNNW_20210328_000000_CNN_Newsroom_With_Pamela_...   \n",
       "4         BBCNEWS_20210328_000000_BBC_News/start/120   \n",
       "\n",
       "                                                text  num_words  \n",
       "0  ACTIVISTS CALL NEW GEORGIA LAW DELIBERATE VOTE...          9  \n",
       "1  PROTESTERS BATHER IN ATLANTA FUR VOTING RIGHTS...         13  \n",
       "2  AMERICA IS WATCHING 'THE TRUMAN SHOW'. . Wattn...         16  \n",
       "3  GEORGIA ELECTION LAW PROTESTERS SHOW SUPPORT. ...         27  \n",
       "4        Army Genera\\u2014l & Coup L-eader\\nBE. NEWS          6  "
      ]
     },
     "execution_count": 18,
     "metadata": {},
     "output_type": "execute_result"
    }
   ],
   "source": [
    "chyron2.head()"
   ]
  },
  {
   "cell_type": "code",
   "execution_count": 19,
   "id": "cultural-belly",
   "metadata": {},
   "outputs": [
    {
     "ename": "NameError",
     "evalue": "name 'chyrons' is not defined",
     "output_type": "error",
     "traceback": [
      "\u001b[0;31m---------------------------------------------------------------------------\u001b[0m",
      "\u001b[0;31mNameError\u001b[0m                                 Traceback (most recent call last)",
      "\u001b[0;32m<ipython-input-19-eb37acbe99d1>\u001b[0m in \u001b[0;36m<module>\u001b[0;34m\u001b[0m\n\u001b[0;32m----> 1\u001b[0;31m \u001b[0mchyrons\u001b[0m\u001b[0;34m\u001b[0m\u001b[0;34m\u001b[0m\u001b[0m\n\u001b[0m",
      "\u001b[0;31mNameError\u001b[0m: name 'chyrons' is not defined"
     ]
    }
   ],
   "source": [
    "chyrons"
   ]
  },
  {
   "cell_type": "code",
   "execution_count": 20,
   "id": "bulgarian-occasion",
   "metadata": {},
   "outputs": [],
   "source": [
    "chyrons_og = pd.read_csv('chyron.csv')"
   ]
  },
  {
   "cell_type": "code",
   "execution_count": 23,
   "id": "suburban-edmonton",
   "metadata": {},
   "outputs": [
    {
     "name": "stdout",
     "output_type": "stream",
     "text": [
      "<class 'pandas.core.frame.DataFrame'>\n",
      "RangeIndex: 3253973 entries, 0 to 3253972\n",
      "Data columns (total 6 columns):\n",
      " #   Column                        Dtype  \n",
      "---  ------                        -----  \n",
      " 0   Unnamed: 0                    int64  \n",
      " 1   date_time_(UTC)               object \n",
      " 2   channel                       object \n",
      " 3   duration                      float64\n",
      " 4   https://archive.org/details/  object \n",
      " 5   text                          object \n",
      "dtypes: float64(1), int64(1), object(4)\n",
      "memory usage: 149.0+ MB\n"
     ]
    }
   ],
   "source": [
    "chyrons_og.info()"
   ]
  },
  {
   "cell_type": "code",
   "execution_count": 24,
   "id": "breeding-artwork",
   "metadata": {},
   "outputs": [],
   "source": [
    "chryon_all = [chyrons_og, chyron2]"
   ]
  },
  {
   "cell_type": "code",
   "execution_count": 28,
   "id": "detailed-shoulder",
   "metadata": {},
   "outputs": [],
   "source": [
    "chryon_all = clean_dfs(chryon_all, csv=True, concat=True, csv_name='chyron_all')"
   ]
  },
  {
   "cell_type": "code",
   "execution_count": 31,
   "id": "equivalent-vatican",
   "metadata": {},
   "outputs": [
    {
     "name": "stdout",
     "output_type": "stream",
     "text": [
      "<class 'pandas.core.frame.DataFrame'>\n",
      "RangeIndex: 2654347 entries, 0 to 2654346\n",
      "Data columns (total 7 columns):\n",
      " #   Column                        Non-Null Count    Dtype  \n",
      "---  ------                        --------------    -----  \n",
      " 0   Unnamed: 0                    2652398 non-null  float64\n",
      " 1   date_time_(UTC)               2654347 non-null  object \n",
      " 2   channel                       2654346 non-null  object \n",
      " 3   duration                      2654346 non-null  object \n",
      " 4   https://archive.org/details/  2649329 non-null  object \n",
      " 5   text                          2654346 non-null  object \n",
      " 6   num_words                     2654347 non-null  object \n",
      "dtypes: float64(1), object(6)\n",
      "memory usage: 141.8+ MB\n"
     ]
    }
   ],
   "source": [
    "chryon_all.info(show_counts=True)"
   ]
  },
  {
   "cell_type": "code",
   "execution_count": 45,
   "id": "artistic-sperm",
   "metadata": {},
   "outputs": [
    {
     "data": {
      "text/plain": [
       "array([6, 28, 8, 20, 9, 32, 19, 21, 14, 3, 11, 31, 12, 4, 17, 26, 29, 27,\n",
       "       15, 23, 18, 7, 10, 33, 1, 2, 5, 16, 25, 22, 24, 30, 13, 35, 36, 34,\n",
       "       37, 38, 40, 42, 39, 41, 44, 43, 46, 54, 45, 51, 52, 49, 50, 48, 53,\n",
       "       47, 58, 81, 56, 57, 55, 60, 59, 78, 66, 65, 63, 61, 67, 71, 72, 87,\n",
       "       62, 69, 89, 'NaN', 64, 83, 74, 75, 88, 73, 79, 99, 68, 102, 116,\n",
       "       77, 76, 70, 104, 85, 82, 86, 98, 95, 97, 125, 103, 115, 114, 96,\n",
       "       80, 111], dtype=object)"
      ]
     },
     "execution_count": 45,
     "metadata": {},
     "output_type": "execute_result"
    }
   ],
   "source": [
    "chryon_all.num_words.unique()"
   ]
  },
  {
   "cell_type": "code",
   "execution_count": 46,
   "id": "micro-injury",
   "metadata": {},
   "outputs": [
    {
     "data": {
      "text/html": [
       "<div>\n",
       "<style scoped>\n",
       "    .dataframe tbody tr th:only-of-type {\n",
       "        vertical-align: middle;\n",
       "    }\n",
       "\n",
       "    .dataframe tbody tr th {\n",
       "        vertical-align: top;\n",
       "    }\n",
       "\n",
       "    .dataframe thead th {\n",
       "        text-align: right;\n",
       "    }\n",
       "</style>\n",
       "<table border=\"1\" class=\"dataframe\">\n",
       "  <thead>\n",
       "    <tr style=\"text-align: right;\">\n",
       "      <th></th>\n",
       "      <th>Unnamed: 0</th>\n",
       "      <th>date_time_(UTC)</th>\n",
       "      <th>channel</th>\n",
       "      <th>duration</th>\n",
       "      <th>https://archive.org/details/</th>\n",
       "      <th>text</th>\n",
       "      <th>num_words</th>\n",
       "    </tr>\n",
       "  </thead>\n",
       "  <tbody>\n",
       "    <tr>\n",
       "      <th>472372</th>\n",
       "      <td>568753.0</td>\n",
       "      <td>'chan'   =&gt; [$c...</td>\n",
       "      <td>NaN</td>\n",
       "      <td>NaN</td>\n",
       "      <td>NaN</td>\n",
       "      <td>NaN</td>\n",
       "      <td>NaN</td>\n",
       "    </tr>\n",
       "  </tbody>\n",
       "</table>\n",
       "</div>"
      ],
      "text/plain": [
       "        Unnamed: 0                                    date_time_(UTC) channel  \\\n",
       "472372    568753.0                                 'chan'   => [$c...     NaN   \n",
       "\n",
       "       duration https://archive.org/details/ text num_words  \n",
       "472372      NaN                          NaN  NaN       NaN  "
      ]
     },
     "execution_count": 46,
     "metadata": {},
     "output_type": "execute_result"
    }
   ],
   "source": [
    "chryon_all[chryon_all['num_words'] == 'NaN']"
   ]
  },
  {
   "cell_type": "code",
   "execution_count": 49,
   "id": "solved-doctrine",
   "metadata": {},
   "outputs": [],
   "source": [
    "chryon_all.drop(472372, inplace=True)"
   ]
  },
  {
   "cell_type": "code",
   "execution_count": 50,
   "id": "mature-touch",
   "metadata": {},
   "outputs": [
    {
     "data": {
      "text/plain": [
       "array([6, 28, 8, 20, 9, 32, 19, 21, 14, 3, 11, 31, 12, 4, 17, 26, 29, 27,\n",
       "       15, 23, 18, 7, 10, 33, 1, 2, 5, 16, 25, 22, 24, 30, 13, 35, 36, 34,\n",
       "       37, 38, 40, 42, 39, 41, 44, 43, 46, 54, 45, 51, 52, 49, 50, 48, 53,\n",
       "       47, 58, 81, 56, 57, 55, 60, 59, 78, 66, 65, 63, 61, 67, 71, 72, 87,\n",
       "       62, 69, 89, 64, 83, 74, 75, 88, 73, 79, 99, 68, 102, 116, 77, 76,\n",
       "       70, 104, 85, 82, 86, 98, 95, 97, 125, 103, 115, 114, 96, 80, 111],\n",
       "      dtype=object)"
      ]
     },
     "execution_count": 50,
     "metadata": {},
     "output_type": "execute_result"
    }
   ],
   "source": [
    "chryon_all.num_words.unique()"
   ]
  },
  {
   "cell_type": "code",
   "execution_count": 51,
   "id": "descending-energy",
   "metadata": {},
   "outputs": [
    {
     "data": {
      "text/plain": [
       "2654346"
      ]
     },
     "execution_count": 51,
     "metadata": {},
     "output_type": "execute_result"
    }
   ],
   "source": [
    "len(chryon_all)"
   ]
  },
  {
   "cell_type": "markdown",
   "id": "fabulous-concentrate",
   "metadata": {},
   "source": [
    "### Distributions of word counts:"
   ]
  },
  {
   "cell_type": "markdown",
   "id": "technical-alexander",
   "metadata": {},
   "source": [
    "* All networks"
   ]
  },
  {
   "cell_type": "code",
   "execution_count": 53,
   "id": "modified-retrieval",
   "metadata": {
    "scrolled": true
   },
   "outputs": [
    {
     "data": {
      "text/plain": [
       "(array([9.24212e+05, 9.55745e+05, 7.21145e+05, 5.18620e+04, 1.21500e+03,\n",
       "        1.29000e+02, 1.70000e+01, 1.00000e+01, 7.00000e+00, 4.00000e+00]),\n",
       " array([1.0, 13.4, 25.8, 38.2, 50.6, 63.0, 75.4, 87.8, 100.2,\n",
       "        112.60000000000001, 125.0], dtype=object),\n",
       " <BarContainer object of 10 artists>)"
      ]
     },
     "execution_count": 53,
     "metadata": {},
     "output_type": "execute_result"
    },
    {
     "data": {
      "image/png": "[encoded data removed]",
      "text/plain": [
       "<Figure size 432x288 with 1 Axes>"
      ]
     },
     "metadata": {
      "needs_background": "light"
     },
     "output_type": "display_data"
    }
   ],
   "source": [
    "plt.hist(chryon_all['num_words'])"
   ]
  },
  {
   "cell_type": "code",
   "execution_count": 54,
   "id": "underlying-grass",
   "metadata": {},
   "outputs": [
    {
     "data": {
      "text/plain": [
       "(array([475551.,      0.,      0., 775759.,      0.,      0., 685712.,\n",
       "             0.,      0., 717324.]),\n",
       " array([0. , 0.3, 0.6, 0.9, 1.2, 1.5, 1.8, 2.1, 2.4, 2.7, 3. ]),\n",
       " <BarContainer object of 10 artists>)"
      ]
     },
     "execution_count": 54,
     "metadata": {},
     "output_type": "execute_result"
    },
    {
     "data": {
      "image/png": "[encoded data removed]",
      "text/plain": [
       "<Figure size 432x288 with 1 Axes>"
      ]
     },
     "metadata": {
      "needs_background": "light"
     },
     "output_type": "display_data"
    }
   ],
   "source": [
    "# distribution of entries per network\n",
    "\n",
    "plt.hist(chryon_all['channel']);"
   ]
  },
  {
   "cell_type": "code",
   "execution_count": 57,
   "id": "welcome-single",
   "metadata": {},
   "outputs": [
    {
     "data": {
      "text/plain": [
       "array(['BBCNEWS', 'CNNW', 'FOXNEWSW', 'MSNBCW'], dtype=object)"
      ]
     },
     "execution_count": 57,
     "metadata": {},
     "output_type": "execute_result"
    }
   ],
   "source": [
    "chryon_all.channel.unique()"
   ]
  },
  {
   "cell_type": "code",
   "execution_count": 59,
   "id": "ahead-variation",
   "metadata": {},
   "outputs": [
    {
     "data": {
      "image/png": "[encoded data removed]",
      "text/plain": [
       "<Figure size 432x288 with 1 Axes>"
      ]
     },
     "metadata": {
      "needs_background": "light"
     },
     "output_type": "display_data"
    }
   ],
   "source": [
    "# distribution of word counts\n",
    "fig, ax = plt.subplots()\n",
    "\n",
    "fox = chryon_all[chryon_all['channel'] == 'FOXNEWSW']\n",
    "bbc = chryon_all[chryon_all['channel'] == 'BBCNEWS']\n",
    "cnn = chryon_all[chryon_all['channel'] == 'CNNW']\n",
    "msnbc = chryon_all[chryon_all['channel'] == 'MSNBCW']\n",
    "\n",
    "ax.hist(fox['num_words'], label='Fox News', alpha=0.3)\n",
    "ax.hist(bbc['num_words'], label='BBC', alpha=0.3)\n",
    "ax.hist(cnn['num_words'], label='CNN', alpha=0.3)\n",
    "ax.hist(msnbc['num_words'], label='MSNBC', alpha=0.3)\n",
    "ax.set_ylabel('Frequency')\n",
    "ax.set_xlabel('Word Count')\n",
    "ax.set_title('Distribution of Word Count by Network')\n",
    "fig.legend();"
   ]
  },
  {
   "cell_type": "code",
   "execution_count": 73,
   "id": "enclosed-boost",
   "metadata": {},
   "outputs": [
    {
     "data": {
      "image/png": "[encoded data removed]",
      "text/plain": [
       "<Figure size 432x288 with 1 Axes>"
      ]
     },
     "metadata": {
      "needs_background": "light"
     },
     "output_type": "display_data"
    }
   ],
   "source": [
    "# distribution of word counts under 60\n",
    "fig, ax = plt.subplots()\n",
    "\n",
    "fox = chryon_all[(chryon_all['channel'] == 'FOXNEWSW') & (chryon_all['num_words'] < 60)]\n",
    "bbc = chryon_all[(chryon_all['channel'] == 'BBCNEWS') & (chryon_all['num_words'] < 60)]\n",
    "cnn = chryon_all[(chryon_all['channel'] == 'CNNW') & (chryon_all['num_words'] < 60)]\n",
    "msnbc = chryon_all[(chryon_all['channel'] == 'MSNBCW') & (chryon_all['num_words'] < 60)]\n",
    "\n",
    "ax.hist(fox['num_words'], label='Fox News', alpha=0.3)\n",
    "ax.hist(bbc['num_words'], label='BBC', alpha=0.3)\n",
    "ax.hist(cnn['num_words'], label='CNN', alpha=0.3)\n",
    "ax.hist(msnbc['num_words'], label='MSNBC', alpha=0.3)\n",
    "ax.set_ylabel('Frequency')\n",
    "ax.set_xlabel('Word Count')\n",
    "ax.set_title('Distribution of Word Count < 60 by Network')\n",
    "fig.legend();"
   ]
  },
  {
   "cell_type": "code",
   "execution_count": 62,
   "id": "virtual-dakota",
   "metadata": {},
   "outputs": [
    {
     "data": {
      "image/png": "[encoded data removed]",
      "text/plain": [
       "<Figure size 432x288 with 1 Axes>"
      ]
     },
     "metadata": {
      "needs_background": "light"
     },
     "output_type": "display_data"
    }
   ],
   "source": [
    "# distribution of word counts under 60\n",
    "fig, ax = plt.subplots()\n",
    "\n",
    "fox = chryon_all[(chryon_all['channel'] == 'FOXNEWSW') & (chryon_all['num_words'] > 60)]\n",
    "bbc = chryon_all[(chryon_all['channel'] == 'BBCNEWS') & (chryon_all['num_words'] > 60)]\n",
    "cnn = chryon_all[(chryon_all['channel'] == 'CNNW') & (chryon_all['num_words'] > 60)]\n",
    "msnbc = chryon_all[(chryon_all['channel'] == 'MSNBCW') & (chryon_all['num_words'] > 60)]\n",
    "\n",
    "ax.hist(fox['num_words'], label='Fox News', alpha=0.3)\n",
    "ax.hist(bbc['num_words'], label='BBC', alpha=0.3)\n",
    "ax.hist(cnn['num_words'], label='CNN', alpha=0.3)\n",
    "ax.hist(msnbc['num_words'], label='MSNBC', alpha=0.3)\n",
    "ax.set_ylabel('Frequency')\n",
    "ax.set_xlabel('Word Count')\n",
    "ax.set_title('Distribution of Word Count > 60 by Network')\n",
    "fig.legend();"
   ]
  },
  {
   "cell_type": "code",
   "execution_count": 75,
   "id": "unlikely-retail",
   "metadata": {},
   "outputs": [],
   "source": [
    "num_words_gt_45 = chryon_all[chryon_all['num_words'] > 35]"
   ]
  },
  {
   "cell_type": "code",
   "execution_count": 76,
   "id": "weekly-desperate",
   "metadata": {},
   "outputs": [
    {
     "data": {
      "text/plain": [
       "121109"
      ]
     },
     "execution_count": 76,
     "metadata": {},
     "output_type": "execute_result"
    }
   ],
   "source": [
    "len(num_words_gt_45)"
   ]
  },
  {
   "cell_type": "code",
   "execution_count": 74,
   "id": "advisory-hearing",
   "metadata": {},
   "outputs": [
    {
     "data": {
      "text/plain": [
       "2648713"
      ]
     },
     "execution_count": 74,
     "metadata": {},
     "output_type": "execute_result"
    }
   ],
   "source": [
    "len(chryon_all) - 5633"
   ]
  },
  {
   "cell_type": "code",
   "execution_count": 77,
   "id": "compound-career",
   "metadata": {},
   "outputs": [
    {
     "data": {
      "text/plain": [
       "2654346"
      ]
     },
     "execution_count": 77,
     "metadata": {},
     "output_type": "execute_result"
    }
   ],
   "source": [
    "len(chryon_all)"
   ]
  },
  {
   "cell_type": "code",
   "execution_count": null,
   "id": "governing-chile",
   "metadata": {},
   "outputs": [],
   "source": []
  },
  {
   "cell_type": "code",
   "execution_count": null,
   "id": "affiliated-eight",
   "metadata": {},
   "outputs": [],
   "source": []
  },
  {
   "cell_type": "code",
   "execution_count": null,
   "id": "classical-march",
   "metadata": {},
   "outputs": [],
   "source": []
  },
  {
   "cell_type": "code",
   "execution_count": null,
   "id": "capital-contractor",
   "metadata": {},
   "outputs": [],
   "source": []
  },
  {
   "cell_type": "code",
   "execution_count": null,
   "id": "everyday-surrey",
   "metadata": {},
   "outputs": [],
   "source": []
  },
  {
   "cell_type": "code",
   "execution_count": 12,
   "id": "fundamental-alberta",
   "metadata": {},
   "outputs": [],
   "source": [
    "# read in existing csv of all data \n",
    "chyrons = pd.read_csv('/Users/jonleckie/Desktop/DSI_all/capstones/capstone_two/chyrons/chyron_all.csv')\n",
    "chyrons.drop(472372, inplace=True)"
   ]
  },
  {
   "cell_type": "code",
   "execution_count": 13,
   "id": "willing-homeless",
   "metadata": {},
   "outputs": [
    {
     "data": {
      "text/plain": [
       "2654346"
      ]
     },
     "execution_count": 13,
     "metadata": {},
     "output_type": "execute_result"
    }
   ],
   "source": [
    "len(chyrons)"
   ]
  },
  {
   "cell_type": "code",
   "execution_count": 2,
   "id": "beneficial-location",
   "metadata": {},
   "outputs": [],
   "source": [
    "# get a random sample of\n",
    "def get_random_sample(df, num_samples):\n",
    "    idx_lst = [num for num in range(len(df))]\n",
    "    idx_samps = random.sample(idx_lst, num_samples)\n",
    "    df_samp = df.iloc[idx_samps]\n",
    "    return df_samp"
   ]
  },
  {
   "cell_type": "code",
   "execution_count": 15,
   "id": "freelance-sensitivity",
   "metadata": {},
   "outputs": [],
   "source": [
    "# sample df about .25 of whole dataset\n",
    "chy_samp = get_random_sample(chyrons, 250000)"
   ]
  },
  {
   "cell_type": "code",
   "execution_count": 16,
   "id": "broken-rough",
   "metadata": {},
   "outputs": [
    {
     "data": {
      "text/plain": [
       "250000"
      ]
     },
     "execution_count": 16,
     "metadata": {},
     "output_type": "execute_result"
    }
   ],
   "source": [
    "len(chy_samp)"
   ]
  },
  {
   "cell_type": "code",
   "execution_count": 29,
   "id": "metropolitan-nashville",
   "metadata": {},
   "outputs": [],
   "source": [
    "# sklearn pipeline \n",
    "\n",
    "# english dictionary \n",
    "eng_dict = words.words()\n",
    "\n",
    "# get a random sample of chyrons\n",
    "def get_random_sample(df, num_samples):\n",
    "    idx_lst = [num for num in range(len(df))]\n",
    "    idx_samps = random.sample(idx_lst, num_samples)\n",
    "    df_samp = df.iloc[idx_samps]\n",
    "    return df_samp\n",
    "\n",
    "# get stop words\n",
    "def get_stop_words(words):\n",
    "    sw = stopwords.words('english')\n",
    "    stops = words[0]\n",
    "    \n",
    "    for lst in words[1:]:\n",
    "        stops += lst\n",
    "    \n",
    "    return sw + stops\n",
    "\n",
    "# sklearn count vectorizer\n",
    "def get_countvec(corpus, stop_words='english', min_df=20):\n",
    "    vectorizer = CountVectorizer(stop_words=stop_words, min_df=min_df)\n",
    "    X = vectorizer.fit_transform(corpus)\n",
    "    feature_names = vectorizer.get_feature_names()\n",
    "    \n",
    "    return feature_names, X.toarray()\n",
    "\n",
    "# sklearn tfidf vectorizer\n",
    "def get_tfidf(corpus, max_features=None, min_df=20):\n",
    "    vectorizer = TfidfVectorizer(max_features=None, min_df=min_df)\n",
    "    X = vectorizer.fit_transform(corpus)\n",
    "    feature_names = vectorizerr.get_feature_names()\n",
    "    \n",
    "    return feature_names, X.toarray()\n",
    "\n",
    "# vectorizer to dataframe\n",
    "def get_dataframe(X, feature_names):\n",
    "    df = pd.DataFrame(data = X, columns = feature_names)\n",
    "    return df\n"
   ]
  },
  {
   "cell_type": "code",
   "execution_count": 73,
   "id": "academic-upset",
   "metadata": {},
   "outputs": [],
   "source": [
    "words = [list(numeric), odds, unders, multis]\n",
    "\n",
    "sws = get_stop_words(words)"
   ]
  },
  {
   "cell_type": "code",
   "execution_count": 18,
   "id": "egyptian-indonesia",
   "metadata": {},
   "outputs": [],
   "source": [
    "count_features, chyron_counts = get_countvec(chy_samp['text'], stop_words='english')"
   ]
  },
  {
   "cell_type": "code",
   "execution_count": 76,
   "id": "destroyed-steal",
   "metadata": {},
   "outputs": [],
   "source": [
    "counts_df = get_dataframe(chyron_counts, count_features)"
   ]
  },
  {
   "cell_type": "code",
   "execution_count": 108,
   "id": "understood-movement",
   "metadata": {},
   "outputs": [],
   "source": [
    "# sklearn pipeline \n",
    "\n",
    "# english dictionary \n",
    "eng_dict = words.words()\n",
    "\n",
    "# get a random sample of chyrons\n",
    "def get_random_sample(df, num_samples):\n",
    "    idx_lst = [num for num in range(len(df))]\n",
    "    idx_samps = random.sample(idx_lst, num_samples)\n",
    "    df_samp = df.iloc[idx_samps]\n",
    "    return df_samp\n",
    "\n",
    "# get stop words\n",
    "def get_stop_words(words):\n",
    "    sw = stopwords.words('english')\n",
    "    stops = words[0]\n",
    "    \n",
    "    for lst in words[1:]:\n",
    "        stops += lst\n",
    "    \n",
    "    return sw + stops\n",
    "\n",
    "## ------------------------------------------------------ ##\n",
    "\n",
    "# sklearn count vectorizer\n",
    "def get_countvec(corpus, stop_words='english', min_df=.01):\n",
    "    vectorizer = CountVectorizer(stop_words=stop_words, min_df=min_df)\n",
    "    X = vectorizer.fit_transform(corpus)\n",
    "    feature_names = vectorizer.get_feature_names()\n",
    "    \n",
    "    return feature_names, X.toarray()\n",
    "\n",
    "# sklearn tfidf vectorizer\n",
    "def get_tfidf(corpus, max_features=None, min_df=.01, stop_words='english'):\n",
    "    vectorizer = TfidfVectorizer(max_features=None, min_df=min_df, max_df=1.0, stop_words='english')\n",
    "    X = vectorizer.fit_transform(corpus)\n",
    "    feature_names = vectorizer.get_feature_names()\n",
    "    \n",
    "    return feature_names, X.toarray()\n",
    "\n",
    "# vectorizer to dataframe\n",
    "def get_dataframe(X, feature_names):\n",
    "    df = pd.DataFrame(data = X, columns = feature_names)\n",
    "    return df\n",
    "\n",
    "## ------------------------------------------------------ ##\n",
    "\n",
    "# odd word functions\n",
    "\n",
    "def get_numeric_words(feature_names):\n",
    "    stops = set()\n",
    "    nums = [str(num) for num in range(10)]\n",
    "    \n",
    "    for word in feature_names:\n",
    "        for char in word:\n",
    "            if char in nums:\n",
    "                stops.add(word)\n",
    "                break\n",
    "                \n",
    "    return list(stops)\n",
    "\n",
    "def get_non_alpha_start(feature_names):\n",
    "    non_alpha = []\n",
    "    alpha = list(string.ascii_lowercase)\n",
    "    for name in feature_names:\n",
    "        if name[0] not in alpha:\n",
    "            non_alpha.append(name)\n",
    "            \n",
    "    return non_alpha\n",
    "\n",
    "def get_underscores(feature_names):\n",
    "    unders = []\n",
    "    for name in feature_names:\n",
    "        if '_' in name:\n",
    "            unders.append(name)\n",
    "            \n",
    "    return unders\n",
    "\n",
    "def get_multis(feature_names):\n",
    "    multi = []\n",
    "    for name in feature_names:\n",
    "        if len(name) == 2:\n",
    "            if name[0] == name[1]:\n",
    "                multi.append(name)\n",
    "        else:\n",
    "            search = re.search(r\"([A-Za-z])\\1\\1\", name)\n",
    "            if search != None:\n",
    "                multi.append(name)\n",
    "                \n",
    "    return multi\n",
    "\n",
    "# wrap for above \n",
    "def get_special_stops(feature_names):\n",
    "    numeric = get_numeric_words(feature_names)\n",
    "    non_alpha = get_non_alpha_start(feature_names)\n",
    "    unders = get_underscores(feature_names)\n",
    "    multi_lett = get_multis(feature_names)\n",
    "    \n",
    "    return [numeric, non_alpha, unders, multi_lett]\n",
    "\n",
    "\n",
    "## ------------------------------------------------------ ##\n",
    "\n",
    "# PIPELINE FOR Counts:\n",
    "\n",
    "def load_samps(num_samples):\n",
    "    chyrons = pd.read_csv('/Users/jonleckie/Desktop/DSI_all/capstones/capstone_two/chyrons/chyron_all.csv') # read all data\n",
    "    chyrons.drop(472372, inplace=True) # drop single NaN value\n",
    "    chy_samp = get_random_sample(chyrons, num_samples) # random sample for working locally \n",
    "    \n",
    "    return chy_samp\n",
    "    \n",
    "def clean_counts(chy_samp, min_df=.001):\n",
    "    count_features, chyron_counts = get_countvec(chy_samp['text'], stop_words='english', min_df=min_df) # get primary feature names\n",
    "    stops = get_special_stops(count_features) # get additional stop words\n",
    "    stop_words_plus = get_stop_words(stops) # add to nltk stop words\n",
    "    count_features, chyron_counts = get_countvec(chy_samp['text'], stop_words=stop_words_plus, min_df=min_df) # get new vector matrix\n",
    "\n",
    "    return count_features, chyron_counts\n",
    "\n",
    "def clean_tfidf(chy_samp, min_df=.001):\n",
    "    tfidf_features, chyron_tfidf = get_tfidf(chy_samp['text'], max_features=None, min_df=min_df, stop_words='english') # get primary feature names\n",
    "    stops = get_special_stops(tfidf_features) # get additional stop words\n",
    "    stop_words_plus = get_stop_words(stops) # add to nltk stop words\n",
    "    tfidf_features, chyron_tfidf = get_tfidf(chy_samp['text'], max_features=None, min_df=min_df, stop_words=stop_words_plus) # get new vector matrix\n",
    "\n",
    "    return tfidf_features, chyron_tfidf"
   ]
  },
  {
   "cell_type": "code",
   "execution_count": 32,
   "id": "small-isolation",
   "metadata": {},
   "outputs": [],
   "source": [
    "counts_df = get_dataframe(chyron_counts, count_features)"
   ]
  },
  {
   "cell_type": "code",
   "execution_count": 33,
   "id": "filled-volume",
   "metadata": {},
   "outputs": [
    {
     "data": {
      "text/html": [
       "<div>\n",
       "<style scoped>\n",
       "    .dataframe tbody tr th:only-of-type {\n",
       "        vertical-align: middle;\n",
       "    }\n",
       "\n",
       "    .dataframe tbody tr th {\n",
       "        vertical-align: top;\n",
       "    }\n",
       "\n",
       "    .dataframe thead th {\n",
       "        text-align: right;\n",
       "    }\n",
       "</style>\n",
       "<table border=\"1\" class=\"dataframe\">\n",
       "  <thead>\n",
       "    <tr style=\"text-align: right;\">\n",
       "      <th></th>\n",
       "      <th>aaron</th>\n",
       "      <th>aarp</th>\n",
       "      <th>aarpmedicaresupplement</th>\n",
       "      <th>ab</th>\n",
       "      <th>abandon</th>\n",
       "      <th>abandoned</th>\n",
       "      <th>abandoning</th>\n",
       "      <th>abandons</th>\n",
       "      <th>abbas</th>\n",
       "      <th>abbey</th>\n",
       "      <th>...</th>\n",
       "      <th>zito</th>\n",
       "      <th>zoe</th>\n",
       "      <th>zone</th>\n",
       "      <th>zones</th>\n",
       "      <th>zoo</th>\n",
       "      <th>zoom</th>\n",
       "      <th>zu</th>\n",
       "      <th>zuckerberg</th>\n",
       "      <th>zuma</th>\n",
       "      <th>zuzu</th>\n",
       "    </tr>\n",
       "  </thead>\n",
       "  <tbody>\n",
       "    <tr>\n",
       "      <th>0</th>\n",
       "      <td>0</td>\n",
       "      <td>0</td>\n",
       "      <td>0</td>\n",
       "      <td>0</td>\n",
       "      <td>0</td>\n",
       "      <td>0</td>\n",
       "      <td>0</td>\n",
       "      <td>0</td>\n",
       "      <td>0</td>\n",
       "      <td>0</td>\n",
       "      <td>...</td>\n",
       "      <td>0</td>\n",
       "      <td>0</td>\n",
       "      <td>0</td>\n",
       "      <td>0</td>\n",
       "      <td>0</td>\n",
       "      <td>0</td>\n",
       "      <td>0</td>\n",
       "      <td>0</td>\n",
       "      <td>0</td>\n",
       "      <td>0</td>\n",
       "    </tr>\n",
       "    <tr>\n",
       "      <th>1</th>\n",
       "      <td>0</td>\n",
       "      <td>0</td>\n",
       "      <td>0</td>\n",
       "      <td>0</td>\n",
       "      <td>0</td>\n",
       "      <td>0</td>\n",
       "      <td>0</td>\n",
       "      <td>0</td>\n",
       "      <td>0</td>\n",
       "      <td>0</td>\n",
       "      <td>...</td>\n",
       "      <td>0</td>\n",
       "      <td>0</td>\n",
       "      <td>0</td>\n",
       "      <td>0</td>\n",
       "      <td>0</td>\n",
       "      <td>0</td>\n",
       "      <td>0</td>\n",
       "      <td>0</td>\n",
       "      <td>0</td>\n",
       "      <td>0</td>\n",
       "    </tr>\n",
       "    <tr>\n",
       "      <th>2</th>\n",
       "      <td>0</td>\n",
       "      <td>0</td>\n",
       "      <td>0</td>\n",
       "      <td>0</td>\n",
       "      <td>0</td>\n",
       "      <td>0</td>\n",
       "      <td>0</td>\n",
       "      <td>0</td>\n",
       "      <td>0</td>\n",
       "      <td>0</td>\n",
       "      <td>...</td>\n",
       "      <td>0</td>\n",
       "      <td>0</td>\n",
       "      <td>0</td>\n",
       "      <td>0</td>\n",
       "      <td>0</td>\n",
       "      <td>0</td>\n",
       "      <td>0</td>\n",
       "      <td>0</td>\n",
       "      <td>0</td>\n",
       "      <td>0</td>\n",
       "    </tr>\n",
       "    <tr>\n",
       "      <th>3</th>\n",
       "      <td>0</td>\n",
       "      <td>0</td>\n",
       "      <td>0</td>\n",
       "      <td>0</td>\n",
       "      <td>0</td>\n",
       "      <td>0</td>\n",
       "      <td>0</td>\n",
       "      <td>0</td>\n",
       "      <td>0</td>\n",
       "      <td>0</td>\n",
       "      <td>...</td>\n",
       "      <td>0</td>\n",
       "      <td>0</td>\n",
       "      <td>0</td>\n",
       "      <td>0</td>\n",
       "      <td>0</td>\n",
       "      <td>0</td>\n",
       "      <td>0</td>\n",
       "      <td>0</td>\n",
       "      <td>0</td>\n",
       "      <td>0</td>\n",
       "    </tr>\n",
       "    <tr>\n",
       "      <th>4</th>\n",
       "      <td>0</td>\n",
       "      <td>0</td>\n",
       "      <td>0</td>\n",
       "      <td>0</td>\n",
       "      <td>0</td>\n",
       "      <td>0</td>\n",
       "      <td>0</td>\n",
       "      <td>0</td>\n",
       "      <td>0</td>\n",
       "      <td>0</td>\n",
       "      <td>...</td>\n",
       "      <td>0</td>\n",
       "      <td>0</td>\n",
       "      <td>0</td>\n",
       "      <td>0</td>\n",
       "      <td>0</td>\n",
       "      <td>0</td>\n",
       "      <td>0</td>\n",
       "      <td>0</td>\n",
       "      <td>0</td>\n",
       "      <td>0</td>\n",
       "    </tr>\n",
       "  </tbody>\n",
       "</table>\n",
       "<p>5 rows × 13015 columns</p>\n",
       "</div>"
      ],
      "text/plain": [
       "   aaron  aarp  aarpmedicaresupplement  ab  abandon  abandoned  abandoning  \\\n",
       "0      0     0                       0   0        0          0           0   \n",
       "1      0     0                       0   0        0          0           0   \n",
       "2      0     0                       0   0        0          0           0   \n",
       "3      0     0                       0   0        0          0           0   \n",
       "4      0     0                       0   0        0          0           0   \n",
       "\n",
       "   abandons  abbas  abbey  ...  zito  zoe  zone  zones  zoo  zoom  zu  \\\n",
       "0         0      0      0  ...     0    0     0      0    0     0   0   \n",
       "1         0      0      0  ...     0    0     0      0    0     0   0   \n",
       "2         0      0      0  ...     0    0     0      0    0     0   0   \n",
       "3         0      0      0  ...     0    0     0      0    0     0   0   \n",
       "4         0      0      0  ...     0    0     0      0    0     0   0   \n",
       "\n",
       "   zuckerberg  zuma  zuzu  \n",
       "0           0     0     0  \n",
       "1           0     0     0  \n",
       "2           0     0     0  \n",
       "3           0     0     0  \n",
       "4           0     0     0  \n",
       "\n",
       "[5 rows x 13015 columns]"
      ]
     },
     "execution_count": 33,
     "metadata": {},
     "output_type": "execute_result"
    }
   ],
   "source": [
    "counts_df.head()"
   ]
  },
  {
   "cell_type": "code",
   "execution_count": null,
   "id": "exciting-membership",
   "metadata": {},
   "outputs": [],
   "source": [
    "def load_samps(num_samples):\n",
    "    chyrons = pd.read_csv('/Users/jonleckie/Desktop/DSI_all/capstones/capstone_two/chyrons/chyron_all.csv') # read all data\n",
    "    chyrons.drop(472372, inplace=True) # drop single NaN value\n",
    "    chy_samp = get_random_sample(chyrons, num_samples) # random sample for working locally \n",
    "    \n",
    "    return chy_samp\n",
    "\n",
    "def load_summer():\n",
    "    chyrons = pd.read_csv('/Users/jonleckie/Desktop/DSI_all/capstones/capstone_two/chyrons/chyron_all.csv')\n",
    "    chyrons.drop(472372, inplace=True)\n",
    "    chy_summer = chyrons.loc[chyrons['']]"
   ]
  },
  {
   "cell_type": "markdown",
   "id": "rubber-special",
   "metadata": {},
   "source": [
    "### Start Setting Up Models"
   ]
  },
  {
   "cell_type": "code",
   "execution_count": 109,
   "id": "advised-delight",
   "metadata": {},
   "outputs": [],
   "source": [
    "doc_freq = .2\n",
    "\n",
    "chy_samps = load_samps(num_samples=250000)\n",
    "count_features, chyron_counts = clean_counts(chy_samps, min_df=doc_freq)\n",
    "tfidf_features, chyron_tfidf = clean_tfidf(chy_samps, min_df=doc_freq)"
   ]
  },
  {
   "cell_type": "code",
   "execution_count": 110,
   "id": "ancient-writing",
   "metadata": {},
   "outputs": [],
   "source": [
    "X_counts = get_dataframe(chyron_counts, count_features)\n",
    "X_tfidf = get_dataframe(chyron_tfidf, tfidf_features)\n",
    "y = chy_samps['channel']"
   ]
  },
  {
   "cell_type": "code",
   "execution_count": 111,
   "id": "covered-emperor",
   "metadata": {},
   "outputs": [
    {
     "data": {
      "text/plain": [
       "(250000, 250000, 250000)"
      ]
     },
     "execution_count": 111,
     "metadata": {},
     "output_type": "execute_result"
    }
   ],
   "source": [
    "len(X_counts), len(X_tfidf), len(y)"
   ]
  },
  {
   "cell_type": "markdown",
   "id": "horizontal-restaurant",
   "metadata": {},
   "source": [
    "#### Multinomial Naive Bayes"
   ]
  },
  {
   "cell_type": "code",
   "execution_count": 89,
   "id": "monetary-elephant",
   "metadata": {},
   "outputs": [],
   "source": [
    "# Multinomial Naive Bayes \n",
    "\n",
    "import numpy as np \n",
    "from sklearn.naive_bayes import MultinomialNB\n",
    "from sklearn.model_selection import train_test_split, KFold\n",
    "from sklearn.ensemble import RandomForestClassifier\n",
    "from sklearn.metrics import plot_confusion_matrix"
   ]
  },
  {
   "cell_type": "code",
   "execution_count": 112,
   "id": "exposed-uncertainty",
   "metadata": {},
   "outputs": [],
   "source": [
    "# first split:\n",
    "X_train, X_test, y_train, y_test = train_test_split(X_counts, y, train_size=0.33, shuffle=True, stratify=y)\n",
    "X_train_T, X_test_T, y_train_T, y_test_T = train_test_split(X_tfidf, y, train_size=0.33, shuffle=True, stratify=y)"
   ]
  },
  {
   "cell_type": "code",
   "execution_count": 115,
   "id": "subtle-spanking",
   "metadata": {},
   "outputs": [],
   "source": [
    "def eval_naive_bayes(X, y, folds=10):\n",
    "    kf = KFold(n_splits=folds, shuffle=True)\n",
    "    accuracy = []\n",
    "    \n",
    "    for train, test in kf.split(X):\n",
    "        model = MultinomialNB(alpha=1.0, fit_prior=False)\n",
    "        model.fit(X.iloc[train], y.iloc[train])\n",
    "#         y_hat = model.predict(X.iloc[test])\n",
    "        accuracy.append(model.score(X.iloc[test], y.iloc[test]))\n",
    "    \n",
    "    return np.mean(accuracy)\n",
    "\n",
    "def test_folds(X, y, fold_lst):\n",
    "    accuracy = []\n",
    "    for folds in fold_lst:\n",
    "        accuracy.append(eval_naive_bayes(X, y, folds=folds))\n",
    "        \n",
    "    return accuracy\n",
    "\n",
    "def plot_naive_bayes(X, y, fold_lst):\n",
    "    fig, ax = plt.subplots()\n",
    "    xs = fold_lst\n",
    "    ys = test_folds(X, y, fold_lst)\n",
    "    ax.plot(xs, ys)\n",
    "    ax.set_title('Naive Bayes Accuracy by Num_Folds')\n",
    "    ax.set_ylabel('Accuracy')\n",
    "    ax.set_xlabel('Folds');"
   ]
  },
  {
   "cell_type": "code",
   "execution_count": null,
   "id": "smoking-visibility",
   "metadata": {},
   "outputs": [],
   "source": [
    "# def eval_random_forest(X, y, folds=10, n_estimators=100, max_depth=None):\n",
    "#     kf = KFold(n_splits=folds, shuffle=True)\n",
    "#     accuracy = []\n",
    "    \n",
    "#     for train, test in kf.split(X):\n",
    "#         model = RandomForestClassifier(n_estimators, max_depth, )\n",
    "#         model.fit(X.iloc[train], y.iloc[train])\n",
    "#         y_hat = model.predict(X.iloc[test])\n",
    "#         accuracy.append(model.score(X.iloc[test], y.iloc[test]))\n",
    "    \n",
    "#     return np.mean(accuracy)"
   ]
  },
  {
   "cell_type": "code",
   "execution_count": 116,
   "id": "individual-denver",
   "metadata": {},
   "outputs": [
    {
     "data": {
      "image/png": "[encoded data removed]",
      "text/plain": [
       "<Figure size 432x288 with 1 Axes>"
      ]
     },
     "metadata": {
      "needs_background": "light"
     },
     "output_type": "display_data"
    }
   ],
   "source": [
    "# Bayes fold test with CountVec\n",
    "folds = list(range(5, 100, 5))\n",
    "plot_naive_bayes(X_train, y_train, folds)"
   ]
  },
  {
   "cell_type": "code",
   "execution_count": 113,
   "id": "matched-growing",
   "metadata": {},
   "outputs": [
    {
     "data": {
      "text/plain": [
       "0.292230303030303"
      ]
     },
     "execution_count": 113,
     "metadata": {},
     "output_type": "execute_result"
    }
   ],
   "source": [
    "eval_naive_bayes(X_train_T, y_train_T, folds=100)"
   ]
  },
  {
   "cell_type": "code",
   "execution_count": 122,
   "id": "frozen-loading",
   "metadata": {},
   "outputs": [
    {
     "data": {
      "image/png": "[encoded data removed]",
      "text/plain": [
       "<Figure size 432x288 with 1 Axes>"
      ]
     },
     "metadata": {
      "needs_background": "light"
     },
     "output_type": "display_data"
    }
   ],
   "source": [
    "# Bayes fold test with TfidfVec\n",
    "folds = list(range(5, 100, 5))\n",
    "plot_naive_bayes(X_train_T, y_train_T, folds)"
   ]
  },
  {
   "cell_type": "code",
   "execution_count": 127,
   "id": "brilliant-income",
   "metadata": {},
   "outputs": [],
   "source": [
    "def _naive_bayes(X, y, folds=70):\n",
    "    kf = KFold(n_splits=folds, shuffle=True)\n",
    "    accuracy = []\n",
    "    \n",
    "    for train, test in kf.split(X):\n",
    "        model = MultinomialNB(alpha=1, fit_prior=False)\n",
    "        model.fit(X.iloc[train], y.iloc[train])\n",
    "        accuracy.append(model.score(X.iloc[test], y.iloc[test]))\n",
    "    \n",
    "    return y_hat, np.array(y_test), model, np.mean(accuracy)"
   ]
  },
  {
   "cell_type": "code",
   "execution_count": 118,
   "id": "acquired-replacement",
   "metadata": {},
   "outputs": [],
   "source": [
    "y_hat, _y_test, model = _naive_bayes(X_train, y_train)"
   ]
  },
  {
   "cell_type": "code",
   "execution_count": 120,
   "id": "straight-steam",
   "metadata": {},
   "outputs": [
    {
     "data": {
      "text/plain": [
       "0.1789090909090909"
      ]
     },
     "execution_count": 120,
     "metadata": {},
     "output_type": "execute_result"
    }
   ],
   "source": [
    "correct = 0\n",
    "for i in range(len(y_hat)):\n",
    "    if y_hat[i] == _y_test[i]:\n",
    "        correct += 1\n",
    "        \n",
    "correct / len(_y_test)"
   ]
  },
  {
   "cell_type": "code",
   "execution_count": 91,
   "id": "dramatic-strap",
   "metadata": {},
   "outputs": [
    {
     "data": {
      "text/plain": [
       "(167500, 20625)"
      ]
     },
     "execution_count": 91,
     "metadata": {},
     "output_type": "execute_result"
    }
   ],
   "source": [
    "len(X_test), len(y_test)"
   ]
  },
  {
   "cell_type": "code",
   "execution_count": 121,
   "id": "early-poster",
   "metadata": {},
   "outputs": [
    {
     "data": {
      "image/png": "[encoded data removed]",
      "text/plain": [
       "<Figure size 432x288 with 2 Axes>"
      ]
     },
     "metadata": {
      "needs_background": "light"
     },
     "output_type": "display_data"
    }
   ],
   "source": [
    "plot_confusion_matrix(model, X_test, y_test)  \n",
    "plt.show()"
   ]
  },
  {
   "cell_type": "code",
   "execution_count": 96,
   "id": "purple-meeting",
   "metadata": {},
   "outputs": [],
   "source": [
    "d = {}\n",
    "for elem in y_test:\n",
    "    if elem not in d:\n",
    "        d[elem] = 1\n",
    "    d[elem] += 1"
   ]
  },
  {
   "cell_type": "code",
   "execution_count": 100,
   "id": "diverse-owner",
   "metadata": {},
   "outputs": [
    {
     "name": "stdout",
     "output_type": "stream",
     "text": [
      "MSNBCW:45104 --> 26.93%\n",
      "BBCNEWS:30376 --> 18.13%\n",
      "CNNW:48954 --> 29.23%\n",
      "FOXNEWSW:43070 --> 25.71%\n"
     ]
    }
   ],
   "source": [
    "for k, v in d.items():\n",
    "    print(f'{k}:{v} --> {round(v/sum(d.values()), 4) * 100}%')"
   ]
  },
  {
   "cell_type": "code",
   "execution_count": 128,
   "id": "proprietary-composer",
   "metadata": {},
   "outputs": [],
   "source": [
    "T_y_hat, T_y_test, T_model, T_accuracy = _naive_bayes(X_train_T, y_train_T)"
   ]
  },
  {
   "cell_type": "code",
   "execution_count": 129,
   "id": "meaning-placement",
   "metadata": {},
   "outputs": [
    {
     "name": "stdout",
     "output_type": "stream",
     "text": [
      "0.1789093825427889\n"
     ]
    },
    {
     "data": {
      "image/png": "[encoded data removed]",
      "text/plain": [
       "<Figure size 432x288 with 2 Axes>"
      ]
     },
     "metadata": {
      "needs_background": "light"
     },
     "output_type": "display_data"
    }
   ],
   "source": [
    "print(T_accuracy)\n",
    "plot_confusion_matrix(T_model, X_test_T, y_test_T)  \n",
    "plt.show()"
   ]
  },
  {
   "cell_type": "code",
   "execution_count": null,
   "id": "congressional-harrison",
   "metadata": {},
   "outputs": [],
   "source": []
  },
  {
   "cell_type": "markdown",
   "id": "super-bryan",
   "metadata": {},
   "source": [
    "#### Random Forest Classifier"
   ]
  },
  {
   "cell_type": "code",
   "execution_count": 157,
   "id": "covered-baseline",
   "metadata": {},
   "outputs": [],
   "source": [
    " def eval_random_forest(X, y, folds=10, n_estimators=100, max_depth=5, max_leaf=None, max_features=None):\n",
    "    kf = KFold(n_splits=folds, shuffle=True)\n",
    "    accuracy = []\n",
    "    \n",
    "    for train, test in kf.split(X):\n",
    "        forest = RandomForestClassifier(n_estimators=n_estimators, \n",
    "                                        max_depth=max_depth, n_jobs=-1, \n",
    "                                        max_leaf_nodes=max_leaf, max_features=max_features)\n",
    "        forest.fit(X.iloc[train], y.iloc[train])\n",
    "        accuracy.append(forest.score(X.iloc[test], y.iloc[test]))\n",
    "    \n",
    "    return np.mean(accuracy), forest"
   ]
  },
  {
   "cell_type": "code",
   "execution_count": 159,
   "id": "adverse-floating",
   "metadata": {},
   "outputs": [
    {
     "name": "stdout",
     "output_type": "stream",
     "text": [
      "0.31232727272727273\n"
     ]
    }
   ],
   "source": [
    "score, model = eval_random_forest(X_train, y_train, folds=10, \n",
    "                                  n_estimators=10, max_depth=10, max_leaf=None)\n",
    "print(score)"
   ]
  },
  {
   "cell_type": "markdown",
   "id": "super-probability",
   "metadata": {},
   "source": [
    "0.31224242424242427 =  folds=10, n_estimators=100, max_depth=5, max_leaf=None\n",
    "\n",
    "0.31224242424242427 =  folds=10, n_estimators=10, max_depth=5, max_leaf=None\n",
    "\n",
    "0.31224242424242427 =  folds=10, n_estimators=10, max_depth=10, max_leaf=None\n",
    "\n",
    "0.3122060606060606  =  folds=10, n_estimators=100, max_depth=10, max_leaf=100\n",
    "\n",
    "0.3122787878787879  =  folds=100, n_estimators=100, max_depth=10, max_leaf=100\n",
    "\n",
    "0.31220606060606065 = folds=10, n_estimators=10, max_depth=10, max_leaf=10"
   ]
  },
  {
   "cell_type": "code",
   "execution_count": 154,
   "id": "clinical-cinema",
   "metadata": {},
   "outputs": [
    {
     "data": {
      "text/plain": [
       "1"
      ]
     },
     "execution_count": 154,
     "metadata": {},
     "output_type": "execute_result"
    }
   ],
   "source": [
    "model.n_features_"
   ]
  },
  {
   "cell_type": "code",
   "execution_count": 138,
   "id": "drawn-regard",
   "metadata": {},
   "outputs": [
    {
     "data": {
      "image/png": "[encoded data removed]",
      "text/plain": [
       "<Figure size 432x288 with 2 Axes>"
      ]
     },
     "metadata": {
      "needs_background": "light"
     },
     "output_type": "display_data"
    }
   ],
   "source": [
    "# 0.31224242424242427 =  folds=10, n_estimators=100, max_depth=5, max_leaf=None\n",
    "plot_confusion_matrix(model, X_train, y_train)  \n",
    "plt.show()"
   ]
  },
  {
   "cell_type": "code",
   "execution_count": 175,
   "id": "bizarre-squad",
   "metadata": {},
   "outputs": [],
   "source": [
    "def test_forest_folds(X, y, fold_lst):\n",
    "    accuracy = []\n",
    "    for folds in fold_lst:\n",
    "        accuracy.append(eval_random_forest(X, y, folds=folds))\n",
    "        \n",
    "    return accuracy\n",
    "\n",
    "def test_forest_depth(X, y, depth_lst):\n",
    "    accuracy = []\n",
    "    for depth in depth_lst:\n",
    "        accuracy.append(eval_random_forest(X, y, max_depth=depth))\n",
    "        \n",
    "    return accuracy\n",
    "\n",
    "def test_forest_estimators(X, y, est_lst):\n",
    "    accuracy = []\n",
    "    for est in est_lst:\n",
    "        accuracy.append(eval_random_forest(X, y, n_estimators=est, max_depth=50))\n",
    "        \n",
    "    return accuracy\n",
    "\n",
    "def test_max_leafs(X, y, leaf_lst):\n",
    "    accuracy = []\n",
    "    for leaf in leaf_lst:\n",
    "        accuracy.append(eval_random_forest(X, y, max_leaf=leaf))\n",
    "        \n",
    "    return accuracy\n",
    "\n",
    "def plot_folds_random_forest_folds(X, y, fold_lst):\n",
    "    fig, ax = plt.subplots()\n",
    "    xs = fold_lst\n",
    "    ys = test_forest_folds(X, y, fold_lst)\n",
    "    ax.plot(xs, ys)\n",
    "    ax.set_title('Random Forest Accuracy by Folds')\n",
    "    ax.set_ylabel('Accuracy')\n",
    "    ax.set_xlabel('Folds');\n",
    "    \n",
    "def plot_depth_random_forest(X, y, depth_lst):\n",
    "    fig, ax = plt.subplots()\n",
    "    xs = depth_lst\n",
    "    ys = test_forest_depth(X, y, depth_lst)\n",
    "    ax.plot(xs, ys)\n",
    "    ax.set_title('Random Forest Accuracy by Depth')\n",
    "    ax.set_ylabel('Accuracy')\n",
    "    ax.set_xlabel('Depth');"
   ]
  },
  {
   "cell_type": "code",
   "execution_count": 164,
   "id": "mature-artwork",
   "metadata": {
    "scrolled": true
   },
   "outputs": [
    {
     "data": {
      "text/plain": [
       "[(0.31220606060606054,\n",
       "  RandomForestClassifier(max_depth=5, max_features=None, n_estimators=10,\n",
       "                         n_jobs=-1)),\n",
       " (0.31231515151515155,\n",
       "  RandomForestClassifier(max_depth=10, max_features=None, n_estimators=10,\n",
       "                         n_jobs=-1)),\n",
       " (0.31225454545454545,\n",
       "  RandomForestClassifier(max_depth=20, max_features=None, n_estimators=10,\n",
       "                         n_jobs=-1)),\n",
       " (0.31225454545454545,\n",
       "  RandomForestClassifier(max_depth=30, max_features=None, n_estimators=10,\n",
       "                         n_jobs=-1)),\n",
       " (0.3122181818181818,\n",
       "  RandomForestClassifier(max_depth=100, max_features=None, n_estimators=10,\n",
       "                         n_jobs=-1))]"
      ]
     },
     "execution_count": 164,
     "metadata": {},
     "output_type": "execute_result"
    }
   ],
   "source": [
    "depth = [5, 10, 20, 30, 100]\n",
    "test_forest_depth(X_train, y_train, depth)"
   ]
  },
  {
   "cell_type": "code",
   "execution_count": 176,
   "id": "transparent-nowhere",
   "metadata": {},
   "outputs": [
    {
     "data": {
      "text/plain": [
       "[(0.31221818181818184,\n",
       "  RandomForestClassifier(max_depth=500, max_features=None, n_jobs=-1))]"
      ]
     },
     "execution_count": 176,
     "metadata": {},
     "output_type": "execute_result"
    }
   ],
   "source": [
    "test_forest_depth(X_train, y_train, [500])"
   ]
  },
  {
   "cell_type": "code",
   "execution_count": 170,
   "id": "satellite-significance",
   "metadata": {},
   "outputs": [
    {
     "data": {
      "text/plain": [
       "[(0.31225454545454545,\n",
       "  RandomForestClassifier(max_depth=50, max_features=None, n_estimators=5,\n",
       "                         n_jobs=-1)),\n",
       " (0.312169696969697,\n",
       "  RandomForestClassifier(max_depth=50, max_features=None, n_estimators=10,\n",
       "                         n_jobs=-1)),\n",
       " (0.3122666666666667,\n",
       "  RandomForestClassifier(max_depth=50, max_features=None, n_estimators=20,\n",
       "                         n_jobs=-1)),\n",
       " (0.3122545454545454,\n",
       "  RandomForestClassifier(max_depth=50, max_features=None, n_estimators=30,\n",
       "                         n_jobs=-1)),\n",
       " (0.312230303030303,\n",
       "  RandomForestClassifier(max_depth=50, max_features=None, n_estimators=50,\n",
       "                         n_jobs=-1))]"
      ]
     },
     "execution_count": 170,
     "metadata": {},
     "output_type": "execute_result"
    }
   ],
   "source": [
    "estimators = [5, 10, 20, 30, 50]\n",
    "test_forest_estimators(X_train, y_train, estimators)"
   ]
  },
  {
   "cell_type": "code",
   "execution_count": 177,
   "id": "laughing-sharing",
   "metadata": {},
   "outputs": [
    {
     "data": {
      "text/plain": [
       "[(0.2632,\n",
       "  RandomForestClassifier(max_depth=5, max_features=None, max_leaf_nodes=5,\n",
       "                         n_jobs=-1)),\n",
       " (0.2632,\n",
       "  RandomForestClassifier(max_depth=5, max_features=None, max_leaf_nodes=10,\n",
       "                         n_jobs=-1)),\n",
       " (0.27559999999999996,\n",
       "  RandomForestClassifier(max_depth=5, max_features=None, max_leaf_nodes=20,\n",
       "                         n_jobs=-1)),\n",
       " (0.25360000000000005,\n",
       "  RandomForestClassifier(max_depth=5, max_features=None, max_leaf_nodes=30,\n",
       "                         n_jobs=-1)),\n",
       " (0.2604,\n",
       "  RandomForestClassifier(max_depth=5, max_features=None, max_leaf_nodes=50,\n",
       "                         n_jobs=-1))]"
      ]
     },
     "execution_count": 177,
     "metadata": {},
     "output_type": "execute_result"
    }
   ],
   "source": [
    "leafs = [5, 10, 20, 30, 50]\n",
    "test_max_leafs(X, y, leafs)"
   ]
  },
  {
   "cell_type": "code",
   "execution_count": 139,
   "id": "ordinary-discretion",
   "metadata": {},
   "outputs": [
    {
     "name": "stdout",
     "output_type": "stream",
     "text": [
      "0.31224242424242427\n"
     ]
    }
   ],
   "source": [
    "score_T, model_T = eval_random_forest(X_train_T, y_train_T)\n",
    "print(score)"
   ]
  },
  {
   "cell_type": "code",
   "execution_count": 140,
   "id": "original-nicaragua",
   "metadata": {},
   "outputs": [
    {
     "data": {
      "image/png": "[encoded data removed]",
      "text/plain": [
       "<Figure size 432x288 with 2 Axes>"
      ]
     },
     "metadata": {
      "needs_background": "light"
     },
     "output_type": "display_data"
    }
   ],
   "source": [
    "plot_confusion_matrix(model_T, X_train_T, y_train_T)  \n",
    "plt.show()"
   ]
  },
  {
   "cell_type": "code",
   "execution_count": null,
   "id": "threaded-celebration",
   "metadata": {},
   "outputs": [],
   "source": []
  }
 ],
 "metadata": {
  "kernelspec": {
   "display_name": "Python 3",
   "language": "python",
   "name": "python3"
  },
  "language_info": {
   "codemirror_mode": {
    "name": "ipython",
    "version": 3
   },
   "file_extension": ".py",
   "mimetype": "text/x-python",
   "name": "python",
   "nbconvert_exporter": "python",
   "pygments_lexer": "ipython3",
   "version": "3.7.9"
  }
 },
 "nbformat": 4,
 "nbformat_minor": 5
}
